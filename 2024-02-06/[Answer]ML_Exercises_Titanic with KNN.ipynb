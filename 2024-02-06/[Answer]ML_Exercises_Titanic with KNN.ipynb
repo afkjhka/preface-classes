{
 "cells": [
  {
   "cell_type": "markdown",
   "metadata": {
    "colab_type": "text",
    "id": "ibR8--Ya_ocn"
   },
   "source": [
    "# **Titanic With KNN Exercise**"
   ]
  },
  {
   "cell_type": "markdown",
   "metadata": {
    "colab_type": "text",
    "id": "QxOy3ns0jdi0"
   },
   "source": [
    "## **1. Data Acquisition**\n",
    "**Import required libraries**\n",
    "\n",
    "Get our environment ready with the libraries."
   ]
  },
  {
   "cell_type": "code",
   "execution_count": 1,
   "metadata": {
    "colab": {
     "base_uri": "https://localhost:8080/",
     "height": 72
    },
    "colab_type": "code",
    "executionInfo": {
     "elapsed": 1163,
     "status": "ok",
     "timestamp": 1595584266127,
     "user": {
      "displayName": "Connie Sze",
      "photoUrl": "",
      "userId": "04636244361226698916"
     },
     "user_tz": -480
    },
    "id": "ldZ90RK3o-IQ",
    "outputId": "0538ab56-2c72-4fbd-e37f-c0121138e0ab",
    "ExecuteTime": {
     "end_time": "2024-02-21T09:40:13.770058200Z",
     "start_time": "2024-02-21T09:40:13.753531500Z"
    }
   },
   "outputs": [],
   "source": [
    "import pandas as pd\n",
    "import numpy as np\n",
    "import matplotlib.pyplot as plt\n",
    "import seaborn as sns"
   ]
  },
  {
   "cell_type": "markdown",
   "metadata": {
    "colab_type": "text",
    "id": "s-xijt582QHR"
   },
   "source": [
    "**Loading an example dataset**"
   ]
  },
  {
   "cell_type": "code",
   "execution_count": 2,
   "metadata": {
    "colab": {
     "base_uri": "https://localhost:8080/",
     "height": 424
    },
    "colab_type": "code",
    "executionInfo": {
     "elapsed": 1803,
     "status": "ok",
     "timestamp": 1595584266783,
     "user": {
      "displayName": "Connie Sze",
      "photoUrl": "",
      "userId": "04636244361226698916"
     },
     "user_tz": -480
    },
    "id": "U-eVpeKnpEmv",
    "outputId": "e62c57df-a6ba-46d3-bae6-3d62b9fbf923",
    "ExecuteTime": {
     "end_time": "2024-02-21T09:40:13.807216300Z",
     "start_time": "2024-02-21T09:40:13.769055900Z"
    }
   },
   "outputs": [
    {
     "data": {
      "text/plain": "     PassengerId  Survived  Pclass  \\\n0              1         0       3   \n1              2         1       1   \n2              3         1       3   \n3              4         1       1   \n4              5         0       3   \n..           ...       ...     ...   \n886          887         0       2   \n887          888         1       1   \n888          889         0       3   \n889          890         1       1   \n890          891         0       3   \n\n                                                  Name     Sex   Age  SibSp  \\\n0                              Braund, Mr. Owen Harris    male  22.0      1   \n1    Cumings, Mrs. John Bradley (Florence Briggs Th...  female  38.0      1   \n2                               Heikkinen, Miss. Laina  female  26.0      0   \n3         Futrelle, Mrs. Jacques Heath (Lily May Peel)  female  35.0      1   \n4                             Allen, Mr. William Henry    male  35.0      0   \n..                                                 ...     ...   ...    ...   \n886                              Montvila, Rev. Juozas    male  27.0      0   \n887                       Graham, Miss. Margaret Edith  female  19.0      0   \n888           Johnston, Miss. Catherine Helen \"Carrie\"  female   NaN      1   \n889                              Behr, Mr. Karl Howell    male  26.0      0   \n890                                Dooley, Mr. Patrick    male  32.0      0   \n\n     Parch            Ticket     Fare Cabin Embarked  \n0        0         A/5 21171   7.2500   NaN        S  \n1        0          PC 17599  71.2833   C85        C  \n2        0  STON/O2. 3101282   7.9250   NaN        S  \n3        0            113803  53.1000  C123        S  \n4        0            373450   8.0500   NaN        S  \n..     ...               ...      ...   ...      ...  \n886      0            211536  13.0000   NaN        S  \n887      0            112053  30.0000   B42        S  \n888      2        W./C. 6607  23.4500   NaN        S  \n889      0            111369  30.0000  C148        C  \n890      0            370376   7.7500   NaN        Q  \n\n[891 rows x 12 columns]",
      "text/html": "<div>\n<style scoped>\n    .dataframe tbody tr th:only-of-type {\n        vertical-align: middle;\n    }\n\n    .dataframe tbody tr th {\n        vertical-align: top;\n    }\n\n    .dataframe thead th {\n        text-align: right;\n    }\n</style>\n<table border=\"1\" class=\"dataframe\">\n  <thead>\n    <tr style=\"text-align: right;\">\n      <th></th>\n      <th>PassengerId</th>\n      <th>Survived</th>\n      <th>Pclass</th>\n      <th>Name</th>\n      <th>Sex</th>\n      <th>Age</th>\n      <th>SibSp</th>\n      <th>Parch</th>\n      <th>Ticket</th>\n      <th>Fare</th>\n      <th>Cabin</th>\n      <th>Embarked</th>\n    </tr>\n  </thead>\n  <tbody>\n    <tr>\n      <th>0</th>\n      <td>1</td>\n      <td>0</td>\n      <td>3</td>\n      <td>Braund, Mr. Owen Harris</td>\n      <td>male</td>\n      <td>22.0</td>\n      <td>1</td>\n      <td>0</td>\n      <td>A/5 21171</td>\n      <td>7.2500</td>\n      <td>NaN</td>\n      <td>S</td>\n    </tr>\n    <tr>\n      <th>1</th>\n      <td>2</td>\n      <td>1</td>\n      <td>1</td>\n      <td>Cumings, Mrs. John Bradley (Florence Briggs Th...</td>\n      <td>female</td>\n      <td>38.0</td>\n      <td>1</td>\n      <td>0</td>\n      <td>PC 17599</td>\n      <td>71.2833</td>\n      <td>C85</td>\n      <td>C</td>\n    </tr>\n    <tr>\n      <th>2</th>\n      <td>3</td>\n      <td>1</td>\n      <td>3</td>\n      <td>Heikkinen, Miss. Laina</td>\n      <td>female</td>\n      <td>26.0</td>\n      <td>0</td>\n      <td>0</td>\n      <td>STON/O2. 3101282</td>\n      <td>7.9250</td>\n      <td>NaN</td>\n      <td>S</td>\n    </tr>\n    <tr>\n      <th>3</th>\n      <td>4</td>\n      <td>1</td>\n      <td>1</td>\n      <td>Futrelle, Mrs. Jacques Heath (Lily May Peel)</td>\n      <td>female</td>\n      <td>35.0</td>\n      <td>1</td>\n      <td>0</td>\n      <td>113803</td>\n      <td>53.1000</td>\n      <td>C123</td>\n      <td>S</td>\n    </tr>\n    <tr>\n      <th>4</th>\n      <td>5</td>\n      <td>0</td>\n      <td>3</td>\n      <td>Allen, Mr. William Henry</td>\n      <td>male</td>\n      <td>35.0</td>\n      <td>0</td>\n      <td>0</td>\n      <td>373450</td>\n      <td>8.0500</td>\n      <td>NaN</td>\n      <td>S</td>\n    </tr>\n    <tr>\n      <th>...</th>\n      <td>...</td>\n      <td>...</td>\n      <td>...</td>\n      <td>...</td>\n      <td>...</td>\n      <td>...</td>\n      <td>...</td>\n      <td>...</td>\n      <td>...</td>\n      <td>...</td>\n      <td>...</td>\n      <td>...</td>\n    </tr>\n    <tr>\n      <th>886</th>\n      <td>887</td>\n      <td>0</td>\n      <td>2</td>\n      <td>Montvila, Rev. Juozas</td>\n      <td>male</td>\n      <td>27.0</td>\n      <td>0</td>\n      <td>0</td>\n      <td>211536</td>\n      <td>13.0000</td>\n      <td>NaN</td>\n      <td>S</td>\n    </tr>\n    <tr>\n      <th>887</th>\n      <td>888</td>\n      <td>1</td>\n      <td>1</td>\n      <td>Graham, Miss. Margaret Edith</td>\n      <td>female</td>\n      <td>19.0</td>\n      <td>0</td>\n      <td>0</td>\n      <td>112053</td>\n      <td>30.0000</td>\n      <td>B42</td>\n      <td>S</td>\n    </tr>\n    <tr>\n      <th>888</th>\n      <td>889</td>\n      <td>0</td>\n      <td>3</td>\n      <td>Johnston, Miss. Catherine Helen \"Carrie\"</td>\n      <td>female</td>\n      <td>NaN</td>\n      <td>1</td>\n      <td>2</td>\n      <td>W./C. 6607</td>\n      <td>23.4500</td>\n      <td>NaN</td>\n      <td>S</td>\n    </tr>\n    <tr>\n      <th>889</th>\n      <td>890</td>\n      <td>1</td>\n      <td>1</td>\n      <td>Behr, Mr. Karl Howell</td>\n      <td>male</td>\n      <td>26.0</td>\n      <td>0</td>\n      <td>0</td>\n      <td>111369</td>\n      <td>30.0000</td>\n      <td>C148</td>\n      <td>C</td>\n    </tr>\n    <tr>\n      <th>890</th>\n      <td>891</td>\n      <td>0</td>\n      <td>3</td>\n      <td>Dooley, Mr. Patrick</td>\n      <td>male</td>\n      <td>32.0</td>\n      <td>0</td>\n      <td>0</td>\n      <td>370376</td>\n      <td>7.7500</td>\n      <td>NaN</td>\n      <td>Q</td>\n    </tr>\n  </tbody>\n</table>\n<p>891 rows × 12 columns</p>\n</div>"
     },
     "execution_count": 2,
     "metadata": {},
     "output_type": "execute_result"
    }
   ],
   "source": [
    "train = pd.read_csv(\"titanic_train.csv\")\n",
    "train"
   ]
  },
  {
   "cell_type": "markdown",
   "metadata": {
    "colab_type": "text",
    "id": "RFhQG-Nfkruz"
   },
   "source": [
    "## **2. Data Cleaning**"
   ]
  },
  {
   "cell_type": "markdown",
   "metadata": {
    "colab_type": "text",
    "id": "DM-qZojREZ_G"
   },
   "source": [
    "### **Exploratory Data Analysis(EDA)**\n",
    "Analyzing data sets to summarize their main characteristics, with visual methods.\n",
    "\n",
    "We'll start by checking out missing data! "
   ]
  },
  {
   "cell_type": "code",
   "execution_count": 3,
   "metadata": {
    "colab": {
     "base_uri": "https://localhost:8080/",
     "height": 337
    },
    "colab_type": "code",
    "executionInfo": {
     "elapsed": 1785,
     "status": "ok",
     "timestamp": 1595584266784,
     "user": {
      "displayName": "Connie Sze",
      "photoUrl": "",
      "userId": "04636244361226698916"
     },
     "user_tz": -480
    },
    "id": "NWDheEB0pTNa",
    "outputId": "0ef10490-0748-413e-dad2-96f492eb7f2c",
    "ExecuteTime": {
     "end_time": "2024-02-21T09:40:14.170881300Z",
     "start_time": "2024-02-21T09:40:13.798702Z"
    }
   },
   "outputs": [
    {
     "data": {
      "text/plain": "<Axes: >"
     },
     "execution_count": 3,
     "metadata": {},
     "output_type": "execute_result"
    },
    {
     "data": {
      "text/plain": "<Figure size 640x480 with 2 Axes>",
      "image/png": "[encoded data removed]"
     },
     "metadata": {},
     "output_type": "display_data"
    }
   ],
   "source": [
    "sns.heatmap(train.isnull())"
   ]
  },
  {
   "cell_type": "markdown",
   "metadata": {
    "colab_type": "text",
    "id": "E_pCuRR92hml"
   },
   "source": [
    "The **Cabin** and **Age** have some missing values. Especially Cabin 77% are null. We will ignore it for now and focus on others. The Age attribute has about 19% null values, replacing the null values with the median seems promissing.\n"
   ]
  },
  {
   "cell_type": "code",
   "execution_count": 4,
   "metadata": {
    "colab": {},
    "colab_type": "code",
    "id": "d2eWh4Rsqqj_",
    "ExecuteTime": {
     "end_time": "2024-02-21T09:40:14.173880500Z",
     "start_time": "2024-02-21T09:40:14.156872500Z"
    }
   },
   "outputs": [],
   "source": [
    "train.drop(\"Cabin\", axis=1, inplace=True)"
   ]
  },
  {
   "cell_type": "code",
   "execution_count": 5,
   "metadata": {
    "colab": {
     "base_uri": "https://localhost:8080/",
     "height": 424
    },
    "colab_type": "code",
    "executionInfo": {
     "elapsed": 1767,
     "status": "ok",
     "timestamp": 1595584266786,
     "user": {
      "displayName": "Connie Sze",
      "photoUrl": "",
      "userId": "04636244361226698916"
     },
     "user_tz": -480
    },
    "id": "e39-MHYNrClA",
    "outputId": "2628ebb4-ea43-451d-c2c3-0040e13059e4",
    "ExecuteTime": {
     "end_time": "2024-02-21T09:40:14.236079900Z",
     "start_time": "2024-02-21T09:40:14.171880700Z"
    }
   },
   "outputs": [
    {
     "data": {
      "text/plain": "     PassengerId  Survived  Pclass  \\\n0              1         0       3   \n1              2         1       1   \n2              3         1       3   \n3              4         1       1   \n4              5         0       3   \n..           ...       ...     ...   \n886          887         0       2   \n887          888         1       1   \n888          889         0       3   \n889          890         1       1   \n890          891         0       3   \n\n                                                  Name     Sex   Age  SibSp  \\\n0                              Braund, Mr. Owen Harris    male  22.0      1   \n1    Cumings, Mrs. John Bradley (Florence Briggs Th...  female  38.0      1   \n2                               Heikkinen, Miss. Laina  female  26.0      0   \n3         Futrelle, Mrs. Jacques Heath (Lily May Peel)  female  35.0      1   \n4                             Allen, Mr. William Henry    male  35.0      0   \n..                                                 ...     ...   ...    ...   \n886                              Montvila, Rev. Juozas    male  27.0      0   \n887                       Graham, Miss. Margaret Edith  female  19.0      0   \n888           Johnston, Miss. Catherine Helen \"Carrie\"  female   NaN      1   \n889                              Behr, Mr. Karl Howell    male  26.0      0   \n890                                Dooley, Mr. Patrick    male  32.0      0   \n\n     Parch            Ticket     Fare Embarked  \n0        0         A/5 21171   7.2500        S  \n1        0          PC 17599  71.2833        C  \n2        0  STON/O2. 3101282   7.9250        S  \n3        0            113803  53.1000        S  \n4        0            373450   8.0500        S  \n..     ...               ...      ...      ...  \n886      0            211536  13.0000        S  \n887      0            112053  30.0000        S  \n888      2        W./C. 6607  23.4500        S  \n889      0            111369  30.0000        C  \n890      0            370376   7.7500        Q  \n\n[891 rows x 11 columns]",
      "text/html": "<div>\n<style scoped>\n    .dataframe tbody tr th:only-of-type {\n        vertical-align: middle;\n    }\n\n    .dataframe tbody tr th {\n        vertical-align: top;\n    }\n\n    .dataframe thead th {\n        text-align: right;\n    }\n</style>\n<table border=\"1\" class=\"dataframe\">\n  <thead>\n    <tr style=\"text-align: right;\">\n      <th></th>\n      <th>PassengerId</th>\n      <th>Survived</th>\n      <th>Pclass</th>\n      <th>Name</th>\n      <th>Sex</th>\n      <th>Age</th>\n      <th>SibSp</th>\n      <th>Parch</th>\n      <th>Ticket</th>\n      <th>Fare</th>\n      <th>Embarked</th>\n    </tr>\n  </thead>\n  <tbody>\n    <tr>\n      <th>0</th>\n      <td>1</td>\n      <td>0</td>\n      <td>3</td>\n      <td>Braund, Mr. Owen Harris</td>\n      <td>male</td>\n      <td>22.0</td>\n      <td>1</td>\n      <td>0</td>\n      <td>A/5 21171</td>\n      <td>7.2500</td>\n      <td>S</td>\n    </tr>\n    <tr>\n      <th>1</th>\n      <td>2</td>\n      <td>1</td>\n      <td>1</td>\n      <td>Cumings, Mrs. John Bradley (Florence Briggs Th...</td>\n      <td>female</td>\n      <td>38.0</td>\n      <td>1</td>\n      <td>0</td>\n      <td>PC 17599</td>\n      <td>71.2833</td>\n      <td>C</td>\n    </tr>\n    <tr>\n      <th>2</th>\n      <td>3</td>\n      <td>1</td>\n      <td>3</td>\n      <td>Heikkinen, Miss. Laina</td>\n      <td>female</td>\n      <td>26.0</td>\n      <td>0</td>\n      <td>0</td>\n      <td>STON/O2. 3101282</td>\n      <td>7.9250</td>\n      <td>S</td>\n    </tr>\n    <tr>\n      <th>3</th>\n      <td>4</td>\n      <td>1</td>\n      <td>1</td>\n      <td>Futrelle, Mrs. Jacques Heath (Lily May Peel)</td>\n      <td>female</td>\n      <td>35.0</td>\n      <td>1</td>\n      <td>0</td>\n      <td>113803</td>\n      <td>53.1000</td>\n      <td>S</td>\n    </tr>\n    <tr>\n      <th>4</th>\n      <td>5</td>\n      <td>0</td>\n      <td>3</td>\n      <td>Allen, Mr. William Henry</td>\n      <td>male</td>\n      <td>35.0</td>\n      <td>0</td>\n      <td>0</td>\n      <td>373450</td>\n      <td>8.0500</td>\n      <td>S</td>\n    </tr>\n    <tr>\n      <th>...</th>\n      <td>...</td>\n      <td>...</td>\n      <td>...</td>\n      <td>...</td>\n      <td>...</td>\n      <td>...</td>\n      <td>...</td>\n      <td>...</td>\n      <td>...</td>\n      <td>...</td>\n      <td>...</td>\n    </tr>\n    <tr>\n      <th>886</th>\n      <td>887</td>\n      <td>0</td>\n      <td>2</td>\n      <td>Montvila, Rev. Juozas</td>\n      <td>male</td>\n      <td>27.0</td>\n      <td>0</td>\n      <td>0</td>\n      <td>211536</td>\n      <td>13.0000</td>\n      <td>S</td>\n    </tr>\n    <tr>\n      <th>887</th>\n      <td>888</td>\n      <td>1</td>\n      <td>1</td>\n      <td>Graham, Miss. Margaret Edith</td>\n      <td>female</td>\n      <td>19.0</td>\n      <td>0</td>\n      <td>0</td>\n      <td>112053</td>\n      <td>30.0000</td>\n      <td>S</td>\n    </tr>\n    <tr>\n      <th>888</th>\n      <td>889</td>\n      <td>0</td>\n      <td>3</td>\n      <td>Johnston, Miss. Catherine Helen \"Carrie\"</td>\n      <td>female</td>\n      <td>NaN</td>\n      <td>1</td>\n      <td>2</td>\n      <td>W./C. 6607</td>\n      <td>23.4500</td>\n      <td>S</td>\n    </tr>\n    <tr>\n      <th>889</th>\n      <td>890</td>\n      <td>1</td>\n      <td>1</td>\n      <td>Behr, Mr. Karl Howell</td>\n      <td>male</td>\n      <td>26.0</td>\n      <td>0</td>\n      <td>0</td>\n      <td>111369</td>\n      <td>30.0000</td>\n      <td>C</td>\n    </tr>\n    <tr>\n      <th>890</th>\n      <td>891</td>\n      <td>0</td>\n      <td>3</td>\n      <td>Dooley, Mr. Patrick</td>\n      <td>male</td>\n      <td>32.0</td>\n      <td>0</td>\n      <td>0</td>\n      <td>370376</td>\n      <td>7.7500</td>\n      <td>Q</td>\n    </tr>\n  </tbody>\n</table>\n<p>891 rows × 11 columns</p>\n</div>"
     },
     "execution_count": 5,
     "metadata": {},
     "output_type": "execute_result"
    }
   ],
   "source": [
    "train\n"
   ]
  },
  {
   "cell_type": "code",
   "execution_count": 6,
   "metadata": {
    "colab": {
     "base_uri": "https://localhost:8080/",
     "height": 337
    },
    "colab_type": "code",
    "executionInfo": {
     "elapsed": 2203,
     "status": "ok",
     "timestamp": 1595584267236,
     "user": {
      "displayName": "Connie Sze",
      "photoUrl": "",
      "userId": "04636244361226698916"
     },
     "user_tz": -480
    },
    "id": "71ZdLSrMrG3H",
    "outputId": "df26a3c1-9fae-4c34-e310-a40f93b42c31",
    "ExecuteTime": {
     "end_time": "2024-02-21T09:40:14.587099700Z",
     "start_time": "2024-02-21T09:40:14.187419500Z"
    }
   },
   "outputs": [
    {
     "data": {
      "text/plain": "<Axes: >"
     },
     "execution_count": 6,
     "metadata": {},
     "output_type": "execute_result"
    },
    {
     "data": {
      "text/plain": "<Figure size 640x480 with 2 Axes>",
      "image/png": "[encoded data removed]"
     },
     "metadata": {},
     "output_type": "display_data"
    }
   ],
   "source": [
    "train.isnull()\n",
    "\n",
    "sns.heatmap(train.isnull())"
   ]
  },
  {
   "cell_type": "markdown",
   "metadata": {
    "colab_type": "text",
    "id": "KXZr_Q0J3QoE"
   },
   "source": [
    "## **Data Cleaning**"
   ]
  },
  {
   "cell_type": "markdown",
   "metadata": {
    "colab_type": "text",
    "id": "hEnzecWF3bIz"
   },
   "source": [
    "We can see the wealthier passengers in the higher classes tend to be older, which makes sense. We'll use these average age values to impute based on Pclass for Age."
   ]
  },
  {
   "cell_type": "code",
   "execution_count": 7,
   "metadata": {
    "colab": {},
    "colab_type": "code",
    "id": "VHaP1NkPsXin",
    "ExecuteTime": {
     "end_time": "2024-02-21T09:40:14.588597400Z",
     "start_time": "2024-02-21T09:40:14.546981300Z"
    }
   },
   "outputs": [],
   "source": [
    "def get_age(cols):\n",
    "  Age = cols[0]\n",
    "  Pclass = cols[1]\n",
    "\n",
    "  if pd.isnull(Age):\n",
    "    if Pclass ==1:\n",
    "      return 38\n",
    "    \n",
    "    if Pclass ==2:\n",
    "      return 30\n",
    "\n",
    "    else:\n",
    "      return 25\n",
    "  else:\n",
    "    return Age"
   ]
  },
  {
   "cell_type": "code",
   "execution_count": 8,
   "metadata": {
    "colab": {},
    "colab_type": "code",
    "id": "vnbA5etZt4yQ",
    "ExecuteTime": {
     "end_time": "2024-02-21T09:40:14.649727800Z",
     "start_time": "2024-02-21T09:40:14.560996700Z"
    }
   },
   "outputs": [
    {
     "name": "stderr",
     "output_type": "stream",
     "text": [
      "C:\\Users\\afkjh\\AppData\\Local\\Temp\\ipykernel_25232\\2268453332.py:2: FutureWarning: Series.__getitem__ treating keys as positions is deprecated. In a future version, integer keys will always be treated as labels (consistent with DataFrame behavior). To access a value by position, use `ser.iloc[pos]`\n",
      "  Age = cols[0]\n",
      "C:\\Users\\afkjh\\AppData\\Local\\Temp\\ipykernel_25232\\2268453332.py:3: FutureWarning: Series.__getitem__ treating keys as positions is deprecated. In a future version, integer keys will always be treated as labels (consistent with DataFrame behavior). To access a value by position, use `ser.iloc[pos]`\n",
      "  Pclass = cols[1]\n"
     ]
    }
   ],
   "source": [
    "train[\"Age\"] = train[[\"Age\",\"Pclass\"]].apply(get_age, axis=1)"
   ]
  },
  {
   "cell_type": "code",
   "execution_count": 9,
   "metadata": {
    "colab": {
     "base_uri": "https://localhost:8080/",
     "height": 337
    },
    "colab_type": "code",
    "executionInfo": {
     "elapsed": 2616,
     "status": "ok",
     "timestamp": 1595584267674,
     "user": {
      "displayName": "Connie Sze",
      "photoUrl": "",
      "userId": "04636244361226698916"
     },
     "user_tz": -480
    },
    "id": "oGNJluwYuEuw",
    "outputId": "494fddd4-9953-40ec-baad-89f83cf79cc5",
    "ExecuteTime": {
     "end_time": "2024-02-21T09:40:14.921898700Z",
     "start_time": "2024-02-21T09:40:14.592096800Z"
    }
   },
   "outputs": [
    {
     "data": {
      "text/plain": "<Axes: >"
     },
     "execution_count": 9,
     "metadata": {},
     "output_type": "execute_result"
    },
    {
     "data": {
      "text/plain": "<Figure size 640x480 with 2 Axes>",
      "image/png": "[encoded data removed]"
     },
     "metadata": {},
     "output_type": "display_data"
    }
   ],
   "source": [
    "train.isnull()\n",
    "sns.heatmap(train.isnull())"
   ]
  },
  {
   "cell_type": "markdown",
   "metadata": {
    "colab_type": "text",
    "id": "hp16GlyemYqW"
   },
   "source": [
    "## **Converting Categorical Features**\n",
    "We need to convert categorical features to dummy variables using pandas, so that our machine learning algorithm is able to directly take in those features as inputs."
   ]
  },
  {
   "cell_type": "code",
   "execution_count": 10,
   "metadata": {
    "colab": {},
    "colab_type": "code",
    "id": "R5PZXQdSvIOP",
    "ExecuteTime": {
     "end_time": "2024-02-21T09:40:14.977557700Z",
     "start_time": "2024-02-21T09:40:14.920897200Z"
    }
   },
   "outputs": [],
   "source": [
    "# sklearn can only read numeric data\n",
    "sex = pd.get_dummies(train[\"Sex\"], drop_first=True)"
   ]
  },
  {
   "cell_type": "code",
   "execution_count": 11,
   "metadata": {
    "colab": {},
    "colab_type": "code",
    "id": "ajMiphyPvbVF",
    "ExecuteTime": {
     "end_time": "2024-02-21T09:40:14.978556200Z",
     "start_time": "2024-02-21T09:40:14.933490500Z"
    }
   },
   "outputs": [],
   "source": [
    "# train[\"Embarked\"]\n",
    "embark = pd.get_dummies(train[\"Embarked\"], drop_first= True)"
   ]
  },
  {
   "cell_type": "code",
   "execution_count": 12,
   "metadata": {
    "colab": {},
    "colab_type": "code",
    "id": "mPQsPNhdwgrd",
    "ExecuteTime": {
     "end_time": "2024-02-21T09:40:14.980054Z",
     "start_time": "2024-02-21T09:40:14.949519200Z"
    }
   },
   "outputs": [],
   "source": [
    "train.drop([\"Sex\",\"Embarked\",\"Name\",\"Ticket\"], axis=1, inplace=True)"
   ]
  },
  {
   "cell_type": "code",
   "execution_count": 13,
   "metadata": {
    "colab": {},
    "colab_type": "code",
    "id": "HUafI_4tw3cd",
    "ExecuteTime": {
     "end_time": "2024-02-21T09:40:15.019776100Z",
     "start_time": "2024-02-21T09:40:14.964033300Z"
    }
   },
   "outputs": [],
   "source": [
    "# concatenation\n",
    "train= pd.concat([train,sex,embark],axis=1)"
   ]
  },
  {
   "cell_type": "markdown",
   "metadata": {
    "colab_type": "text",
    "id": "YSf744nzms8J"
   },
   "source": [
    "## **3. Model Training & Building**"
   ]
  },
  {
   "cell_type": "markdown",
   "metadata": {
    "colab_type": "text",
    "id": "z4gy586vJ0ln"
   },
   "source": [
    "### **X and y arrays**"
   ]
  },
  {
   "cell_type": "code",
   "execution_count": 14,
   "metadata": {
    "colab": {},
    "colab_type": "code",
    "id": "zWgZpWFSJ525",
    "ExecuteTime": {
     "end_time": "2024-02-21T09:40:15.020776900Z",
     "start_time": "2024-02-21T09:40:14.979554300Z"
    }
   },
   "outputs": [],
   "source": [
    "# X: Columns except Survived one\n",
    "X = train.drop(\"Survived\", axis=1)"
   ]
  },
  {
   "cell_type": "code",
   "execution_count": 15,
   "metadata": {
    "colab": {},
    "colab_type": "code",
    "id": "9Ex5CfqoJ_sE",
    "ExecuteTime": {
     "end_time": "2024-02-21T09:40:15.023280500Z",
     "start_time": "2024-02-21T09:40:14.995749300Z"
    }
   },
   "outputs": [],
   "source": [
    "# y: Survived column\n",
    "y = train[\"Survived\"]"
   ]
  },
  {
   "cell_type": "markdown",
   "metadata": {
    "colab_type": "text",
    "id": "5LoCIml-mxHS"
   },
   "source": [
    "### **Train Test Split**"
   ]
  },
  {
   "cell_type": "code",
   "execution_count": 16,
   "metadata": {
    "colab": {},
    "colab_type": "code",
    "id": "8RVRDaeCxgmL",
    "ExecuteTime": {
     "end_time": "2024-02-21T09:40:15.229869400Z",
     "start_time": "2024-02-21T09:40:15.010764100Z"
    }
   },
   "outputs": [],
   "source": [
    "from sklearn.model_selection import train_test_split"
   ]
  },
  {
   "cell_type": "code",
   "execution_count": 17,
   "metadata": {
    "colab": {},
    "colab_type": "code",
    "id": "-a9_6lNR0EbX",
    "ExecuteTime": {
     "end_time": "2024-02-21T09:40:15.252391100Z",
     "start_time": "2024-02-21T09:40:15.229869400Z"
    }
   },
   "outputs": [],
   "source": [
    "X_train, X_test, y_train, y_test = train_test_split(X, y, test_size=0.3, random_state=52)"
   ]
  },
  {
   "cell_type": "code",
   "execution_count": 18,
   "metadata": {
    "colab": {
     "base_uri": "https://localhost:8080/",
     "height": 424
    },
    "colab_type": "code",
    "executionInfo": {
     "elapsed": 2568,
     "status": "ok",
     "timestamp": 1595584267679,
     "user": {
      "displayName": "Connie Sze",
      "photoUrl": "",
      "userId": "04636244361226698916"
     },
     "user_tz": -480
    },
    "id": "-KSoD3of04XC",
    "outputId": "4917e23d-4c14-404b-8667-466d87bec969",
    "ExecuteTime": {
     "end_time": "2024-02-21T09:40:15.280001800Z",
     "start_time": "2024-02-21T09:40:15.244377500Z"
    }
   },
   "outputs": [
    {
     "data": {
      "text/plain": "     PassengerId  Pclass   Age  SibSp  Parch      Fare   male      Q      S\n515          516       1  47.0      0      0   34.0208   True  False   True\n25            26       3  38.0      1      5   31.3875  False  False   True\n68            69       3  17.0      4      2    7.9250  False  False   True\n481          482       2  30.0      0      0    0.0000   True  False   True\n124          125       1  54.0      0      1   77.2875   True  False   True\n..           ...     ...   ...    ...    ...       ...    ...    ...    ...\n86            87       3  16.0      1      3   34.3750   True  False   True\n151          152       1  22.0      1      0   66.6000  False  False   True\n525          526       3  40.5      0      0    7.7500   True   True  False\n779          780       1  43.0      0      1  211.3375  False  False   True\n668          669       3  43.0      0      0    8.0500   True  False   True\n\n[623 rows x 9 columns]",
      "text/html": "<div>\n<style scoped>\n    .dataframe tbody tr th:only-of-type {\n        vertical-align: middle;\n    }\n\n    .dataframe tbody tr th {\n        vertical-align: top;\n    }\n\n    .dataframe thead th {\n        text-align: right;\n    }\n</style>\n<table border=\"1\" class=\"dataframe\">\n  <thead>\n    <tr style=\"text-align: right;\">\n      <th></th>\n      <th>PassengerId</th>\n      <th>Pclass</th>\n      <th>Age</th>\n      <th>SibSp</th>\n      <th>Parch</th>\n      <th>Fare</th>\n      <th>male</th>\n      <th>Q</th>\n      <th>S</th>\n    </tr>\n  </thead>\n  <tbody>\n    <tr>\n      <th>515</th>\n      <td>516</td>\n      <td>1</td>\n      <td>47.0</td>\n      <td>0</td>\n      <td>0</td>\n      <td>34.0208</td>\n      <td>True</td>\n      <td>False</td>\n      <td>True</td>\n    </tr>\n    <tr>\n      <th>25</th>\n      <td>26</td>\n      <td>3</td>\n      <td>38.0</td>\n      <td>1</td>\n      <td>5</td>\n      <td>31.3875</td>\n      <td>False</td>\n      <td>False</td>\n      <td>True</td>\n    </tr>\n    <tr>\n      <th>68</th>\n      <td>69</td>\n      <td>3</td>\n      <td>17.0</td>\n      <td>4</td>\n      <td>2</td>\n      <td>7.9250</td>\n      <td>False</td>\n      <td>False</td>\n      <td>True</td>\n    </tr>\n    <tr>\n      <th>481</th>\n      <td>482</td>\n      <td>2</td>\n      <td>30.0</td>\n      <td>0</td>\n      <td>0</td>\n      <td>0.0000</td>\n      <td>True</td>\n      <td>False</td>\n      <td>True</td>\n    </tr>\n    <tr>\n      <th>124</th>\n      <td>125</td>\n      <td>1</td>\n      <td>54.0</td>\n      <td>0</td>\n      <td>1</td>\n      <td>77.2875</td>\n      <td>True</td>\n      <td>False</td>\n      <td>True</td>\n    </tr>\n    <tr>\n      <th>...</th>\n      <td>...</td>\n      <td>...</td>\n      <td>...</td>\n      <td>...</td>\n      <td>...</td>\n      <td>...</td>\n      <td>...</td>\n      <td>...</td>\n      <td>...</td>\n    </tr>\n    <tr>\n      <th>86</th>\n      <td>87</td>\n      <td>3</td>\n      <td>16.0</td>\n      <td>1</td>\n      <td>3</td>\n      <td>34.3750</td>\n      <td>True</td>\n      <td>False</td>\n      <td>True</td>\n    </tr>\n    <tr>\n      <th>151</th>\n      <td>152</td>\n      <td>1</td>\n      <td>22.0</td>\n      <td>1</td>\n      <td>0</td>\n      <td>66.6000</td>\n      <td>False</td>\n      <td>False</td>\n      <td>True</td>\n    </tr>\n    <tr>\n      <th>525</th>\n      <td>526</td>\n      <td>3</td>\n      <td>40.5</td>\n      <td>0</td>\n      <td>0</td>\n      <td>7.7500</td>\n      <td>True</td>\n      <td>True</td>\n      <td>False</td>\n    </tr>\n    <tr>\n      <th>779</th>\n      <td>780</td>\n      <td>1</td>\n      <td>43.0</td>\n      <td>0</td>\n      <td>1</td>\n      <td>211.3375</td>\n      <td>False</td>\n      <td>False</td>\n      <td>True</td>\n    </tr>\n    <tr>\n      <th>668</th>\n      <td>669</td>\n      <td>3</td>\n      <td>43.0</td>\n      <td>0</td>\n      <td>0</td>\n      <td>8.0500</td>\n      <td>True</td>\n      <td>False</td>\n      <td>True</td>\n    </tr>\n  </tbody>\n</table>\n<p>623 rows × 9 columns</p>\n</div>"
     },
     "execution_count": 18,
     "metadata": {},
     "output_type": "execute_result"
    }
   ],
   "source": [
    "X_train"
   ]
  },
  {
   "cell_type": "code",
   "execution_count": 19,
   "metadata": {
    "colab": {
     "base_uri": "https://localhost:8080/",
     "height": 225
    },
    "colab_type": "code",
    "executionInfo": {
     "elapsed": 2554,
     "status": "ok",
     "timestamp": 1595584267679,
     "user": {
      "displayName": "Connie Sze",
      "photoUrl": "",
      "userId": "04636244361226698916"
     },
     "user_tz": -480
    },
    "id": "Hq5G5_LH053g",
    "outputId": "609ec237-7ce9-46a6-a8a6-f20c2bb51026",
    "ExecuteTime": {
     "end_time": "2024-02-21T09:40:15.281001200Z",
     "start_time": "2024-02-21T09:40:15.258977900Z"
    }
   },
   "outputs": [
    {
     "data": {
      "text/plain": "515    0\n25     1\n68     1\n481    0\n124    0\n      ..\n86     0\n151    1\n525    0\n779    1\n668    0\nName: Survived, Length: 623, dtype: int64"
     },
     "execution_count": 19,
     "metadata": {},
     "output_type": "execute_result"
    }
   ],
   "source": [
    "y_train"
   ]
  },
  {
   "cell_type": "markdown",
   "metadata": {
    "colab_type": "text",
    "id": "Nl5TDVMaFceZ"
   },
   "source": [
    "### **Creating and Training the Model**"
   ]
  },
  {
   "cell_type": "markdown",
   "metadata": {
    "colab_type": "text",
    "id": "eZWjmTYZJd_L"
   },
   "source": [
    "**i) Importing a model**\n",
    "\n",
    "We need to import the KNeighborsClassifier class."
   ]
  },
  {
   "cell_type": "code",
   "execution_count": 20,
   "metadata": {
    "colab": {},
    "colab_type": "code",
    "id": "ARYv1EeM5v2x",
    "ExecuteTime": {
     "end_time": "2024-02-21T09:40:15.403464700Z",
     "start_time": "2024-02-21T09:40:15.274489100Z"
    }
   },
   "outputs": [],
   "source": [
    "from sklearn.neighbors import KNeighborsClassifier"
   ]
  },
  {
   "cell_type": "markdown",
   "metadata": {
    "colab_type": "text",
    "id": "LTBS1vvH1Rau"
   },
   "source": [
    "**ii) Instantiation**\n",
    "\n",
    "To start out, let's set the value of K to 5."
   ]
  },
  {
   "cell_type": "code",
   "execution_count": 21,
   "metadata": {
    "colab": {},
    "colab_type": "code",
    "id": "g3KDtjdc561L",
    "ExecuteTime": {
     "end_time": "2024-02-21T09:40:15.404465500Z",
     "start_time": "2024-02-21T09:40:15.382786100Z"
    }
   },
   "outputs": [],
   "source": [
    "knn = KNeighborsClassifier(n_neighbors=5)"
   ]
  },
  {
   "cell_type": "markdown",
   "metadata": {
    "colab_type": "text",
    "id": "QYpN6yI2GIax"
   },
   "source": [
    "**iii) Model fitting**"
   ]
  },
  {
   "cell_type": "code",
   "execution_count": 22,
   "metadata": {
    "colab": {
     "base_uri": "https://localhost:8080/",
     "height": 69
    },
    "colab_type": "code",
    "executionInfo": {
     "elapsed": 2531,
     "status": "ok",
     "timestamp": 1595584267681,
     "user": {
      "displayName": "Connie Sze",
      "photoUrl": "",
      "userId": "04636244361226698916"
     },
     "user_tz": -480
    },
    "id": "ovgaZGMA6F3A",
    "outputId": "c0231fab-5fe7-484b-d490-df4fd56f89c1",
    "ExecuteTime": {
     "end_time": "2024-02-21T09:40:15.447033400Z",
     "start_time": "2024-02-21T09:40:15.399464700Z"
    }
   },
   "outputs": [
    {
     "data": {
      "text/plain": "KNeighborsClassifier()",
      "text/html": "<style>#sk-container-id-1 {color: black;}#sk-container-id-1 pre{padding: 0;}#sk-container-id-1 div.sk-toggleable {background-color: white;}#sk-container-id-1 label.sk-toggleable__label {cursor: pointer;display: block;width: 100%;margin-bottom: 0;padding: 0.3em;box-sizing: border-box;text-align: center;}#sk-container-id-1 label.sk-toggleable__label-arrow:before {content: \"▸\";float: left;margin-right: 0.25em;color: #696969;}#sk-container-id-1 label.sk-toggleable__label-arrow:hover:before {color: black;}#sk-container-id-1 div.sk-estimator:hover label.sk-toggleable__label-arrow:before {color: black;}#sk-container-id-1 div.sk-toggleable__content {max-height: 0;max-width: 0;overflow: hidden;text-align: left;background-color: #f0f8ff;}#sk-container-id-1 div.sk-toggleable__content pre {margin: 0.2em;color: black;border-radius: 0.25em;background-color: #f0f8ff;}#sk-container-id-1 input.sk-toggleable__control:checked~div.sk-toggleable__content {max-height: 200px;max-width: 100%;overflow: auto;}#sk-container-id-1 input.sk-toggleable__control:checked~label.sk-toggleable__label-arrow:before {content: \"▾\";}#sk-container-id-1 div.sk-estimator input.sk-toggleable__control:checked~label.sk-toggleable__label {background-color: #d4ebff;}#sk-container-id-1 div.sk-label input.sk-toggleable__control:checked~label.sk-toggleable__label {background-color: #d4ebff;}#sk-container-id-1 input.sk-hidden--visually {border: 0;clip: rect(1px 1px 1px 1px);clip: rect(1px, 1px, 1px, 1px);height: 1px;margin: -1px;overflow: hidden;padding: 0;position: absolute;width: 1px;}#sk-container-id-1 div.sk-estimator {font-family: monospace;background-color: #f0f8ff;border: 1px dotted black;border-radius: 0.25em;box-sizing: border-box;margin-bottom: 0.5em;}#sk-container-id-1 div.sk-estimator:hover {background-color: #d4ebff;}#sk-container-id-1 div.sk-parallel-item::after {content: \"\";width: 100%;border-bottom: 1px solid gray;flex-grow: 1;}#sk-container-id-1 div.sk-label:hover label.sk-toggleable__label {background-color: #d4ebff;}#sk-container-id-1 div.sk-serial::before {content: \"\";position: absolute;border-left: 1px solid gray;box-sizing: border-box;top: 0;bottom: 0;left: 50%;z-index: 0;}#sk-container-id-1 div.sk-serial {display: flex;flex-direction: column;align-items: center;background-color: white;padding-right: 0.2em;padding-left: 0.2em;position: relative;}#sk-container-id-1 div.sk-item {position: relative;z-index: 1;}#sk-container-id-1 div.sk-parallel {display: flex;align-items: stretch;justify-content: center;background-color: white;position: relative;}#sk-container-id-1 div.sk-item::before, #sk-container-id-1 div.sk-parallel-item::before {content: \"\";position: absolute;border-left: 1px solid gray;box-sizing: border-box;top: 0;bottom: 0;left: 50%;z-index: -1;}#sk-container-id-1 div.sk-parallel-item {display: flex;flex-direction: column;z-index: 1;position: relative;background-color: white;}#sk-container-id-1 div.sk-parallel-item:first-child::after {align-self: flex-end;width: 50%;}#sk-container-id-1 div.sk-parallel-item:last-child::after {align-self: flex-start;width: 50%;}#sk-container-id-1 div.sk-parallel-item:only-child::after {width: 0;}#sk-container-id-1 div.sk-dashed-wrapped {border: 1px dashed gray;margin: 0 0.4em 0.5em 0.4em;box-sizing: border-box;padding-bottom: 0.4em;background-color: white;}#sk-container-id-1 div.sk-label label {font-family: monospace;font-weight: bold;display: inline-block;line-height: 1.2em;}#sk-container-id-1 div.sk-label-container {text-align: center;}#sk-container-id-1 div.sk-container {/* jupyter's `normalize.less` sets `[hidden] { display: none; }` but bootstrap.min.css set `[hidden] { display: none !important; }` so we also need the `!important` here to be able to override the default hidden behavior on the sphinx rendered scikit-learn.org. See: https://github.com/scikit-learn/scikit-learn/issues/21755 */display: inline-block !important;position: relative;}#sk-container-id-1 div.sk-text-repr-fallback {display: none;}</style><div id=\"sk-container-id-1\" class=\"sk-top-container\"><div class=\"sk-text-repr-fallback\"><pre>KNeighborsClassifier()</pre><b>In a Jupyter environment, please rerun this cell to show the HTML representation or trust the notebook. <br />On GitHub, the HTML representation is unable to render, please try loading this page with nbviewer.org.</b></div><div class=\"sk-container\" hidden><div class=\"sk-item\"><div class=\"sk-estimator sk-toggleable\"><input class=\"sk-toggleable__control sk-hidden--visually\" id=\"sk-estimator-id-1\" type=\"checkbox\" checked><label for=\"sk-estimator-id-1\" class=\"sk-toggleable__label sk-toggleable__label-arrow\">KNeighborsClassifier</label><div class=\"sk-toggleable__content\"><pre>KNeighborsClassifier()</pre></div></div></div></div></div>"
     },
     "execution_count": 22,
     "metadata": {},
     "output_type": "execute_result"
    }
   ],
   "source": [
    "knn.fit(X_train,y_train)"
   ]
  },
  {
   "cell_type": "markdown",
   "metadata": {
    "colab_type": "text",
    "id": "i8A2V6wkGNiS"
   },
   "source": [
    "## **4. Model Testing / Evaluation**"
   ]
  },
  {
   "cell_type": "markdown",
   "metadata": {
    "colab_type": "text",
    "id": "xJl504IaKTWR"
   },
   "source": [
    "### **Prediction**"
   ]
  },
  {
   "cell_type": "code",
   "execution_count": 1,
   "metadata": {
    "colab": {},
    "colab_type": "code",
    "id": "Ovf_Teke6Rpk",
    "ExecuteTime": {
     "end_time": "2024-02-28T10:40:59.177776600Z",
     "start_time": "2024-02-28T10:40:58.663282800Z"
    }
   },
   "outputs": [
    {
     "ename": "NameError",
     "evalue": "name 'knn' is not defined",
     "output_type": "error",
     "traceback": [
      "\u001B[1;31m---------------------------------------------------------------------------\u001B[0m",
      "\u001B[1;31mNameError\u001B[0m                                 Traceback (most recent call last)",
      "Cell \u001B[1;32mIn[1], line 1\u001B[0m\n\u001B[1;32m----> 1\u001B[0m knn_pred \u001B[38;5;241m=\u001B[39m\u001B[43mknn\u001B[49m\u001B[38;5;241m.\u001B[39mpredict(X_test)\n",
      "\u001B[1;31mNameError\u001B[0m: name 'knn' is not defined"
     ]
    }
   ],
   "source": [
    "knn_pred =knn.predict(X_test)"
   ]
  },
  {
   "cell_type": "markdown",
   "metadata": {
    "colab_type": "text",
    "id": "GveKOLhcGUk8"
   },
   "source": [
    "### **Evaluation**"
   ]
  },
  {
   "cell_type": "code",
   "execution_count": 24,
   "metadata": {
    "colab": {},
    "colab_type": "code",
    "id": "QrLJCALjOcPq",
    "ExecuteTime": {
     "end_time": "2024-02-21T09:40:15.489594500Z",
     "start_time": "2024-02-21T09:40:15.446032600Z"
    }
   },
   "outputs": [],
   "source": [
    "from sklearn.metrics import confusion_matrix, classification_report"
   ]
  },
  {
   "cell_type": "code",
   "execution_count": 25,
   "metadata": {
    "colab": {
     "base_uri": "https://localhost:8080/",
     "height": 52
    },
    "colab_type": "code",
    "executionInfo": {
     "elapsed": 2508,
     "status": "ok",
     "timestamp": 1595584267682,
     "user": {
      "displayName": "Connie Sze",
      "photoUrl": "",
      "userId": "04636244361226698916"
     },
     "user_tz": -480
    },
    "id": "n1UhkI_n6VKO",
    "outputId": "bee1d6e5-03b7-41e3-ac70-0fbad50cd35f",
    "ExecuteTime": {
     "end_time": "2024-02-21T09:40:15.490596Z",
     "start_time": "2024-02-21T09:40:15.461548Z"
    }
   },
   "outputs": [
    {
     "data": {
      "text/plain": "array([[124,  46],\n       [ 64,  34]], dtype=int64)"
     },
     "execution_count": 25,
     "metadata": {},
     "output_type": "execute_result"
    }
   ],
   "source": [
    "# confusion_matrix\n",
    "confusion_matrix(y_test, knn_pred)"
   ]
  },
  {
   "cell_type": "code",
   "execution_count": 26,
   "metadata": {
    "colab": {
     "base_uri": "https://localhost:8080/",
     "height": 173
    },
    "colab_type": "code",
    "executionInfo": {
     "elapsed": 2493,
     "status": "ok",
     "timestamp": 1595584267683,
     "user": {
      "displayName": "Connie Sze",
      "photoUrl": "",
      "userId": "04636244361226698916"
     },
     "user_tz": -480
    },
    "id": "atW_cqhj6e6S",
    "outputId": "58ef6862-75c2-4bd0-89c1-c4a20e86cf30",
    "ExecuteTime": {
     "end_time": "2024-02-21T09:40:15.520631400Z",
     "start_time": "2024-02-21T09:40:15.477073100Z"
    }
   },
   "outputs": [
    {
     "name": "stdout",
     "output_type": "stream",
     "text": [
      "              precision    recall  f1-score   support\n",
      "\n",
      "           0       0.66      0.73      0.69       170\n",
      "           1       0.42      0.35      0.38        98\n",
      "\n",
      "    accuracy                           0.59       268\n",
      "   macro avg       0.54      0.54      0.54       268\n",
      "weighted avg       0.57      0.59      0.58       268\n"
     ]
    }
   ],
   "source": [
    "# classification_report\n",
    "print(classification_report(y_test,knn_pred))"
   ]
  },
  {
   "cell_type": "markdown",
   "metadata": {
    "colab_type": "text",
    "id": "95BSzILVKoEW"
   },
   "source": [
    "## **5. Finding K Values**"
   ]
  },
  {
   "cell_type": "markdown",
   "metadata": {
    "colab_type": "text",
    "id": "Sn6v48aiK1xm"
   },
   "source": [
    "### **classification_report**"
   ]
  },
  {
   "cell_type": "markdown",
   "metadata": {
    "colab_type": "text",
    "id": "FyBORPX6G3Ym"
   },
   "source": [
    "We can print the classification_report for the predicted values of test set for all the K values between 1 and 19."
   ]
  },
  {
   "cell_type": "code",
   "execution_count": 27,
   "metadata": {
    "colab": {
     "base_uri": "https://localhost:8080/",
     "height": 1000
    },
    "colab_type": "code",
    "executionInfo": {
     "elapsed": 2879,
     "status": "ok",
     "timestamp": 1595584268083,
     "user": {
      "displayName": "Connie Sze",
      "photoUrl": "",
      "userId": "04636244361226698916"
     },
     "user_tz": -480
    },
    "id": "41xtEg-X6ku0",
    "outputId": "babee5c6-bf47-42b1-fe99-2ce4aa6b0676",
    "ExecuteTime": {
     "end_time": "2024-02-21T09:40:15.774724900Z",
     "start_time": "2024-02-21T09:40:15.492100900Z"
    }
   },
   "outputs": [
    {
     "name": "stdout",
     "output_type": "stream",
     "text": [
      "              precision    recall  f1-score   support\n",
      "\n",
      "           0       0.69      0.65      0.67       170\n",
      "           1       0.45      0.49      0.47        98\n",
      "\n",
      "    accuracy                           0.59       268\n",
      "   macro avg       0.57      0.57      0.57       268\n",
      "weighted avg       0.60      0.59      0.60       268\n",
      "\n",
      "              precision    recall  f1-score   support\n",
      "\n",
      "           0       0.66      0.87      0.75       170\n",
      "           1       0.51      0.23      0.32        98\n",
      "\n",
      "    accuracy                           0.64       268\n",
      "   macro avg       0.59      0.55      0.54       268\n",
      "weighted avg       0.61      0.64      0.60       268\n",
      "\n",
      "              precision    recall  f1-score   support\n",
      "\n",
      "           0       0.66      0.68      0.67       170\n",
      "           1       0.41      0.39      0.40        98\n",
      "\n",
      "    accuracy                           0.57       268\n",
      "   macro avg       0.54      0.54      0.54       268\n",
      "weighted avg       0.57      0.57      0.57       268\n",
      "\n",
      "              precision    recall  f1-score   support\n",
      "\n",
      "           0       0.67      0.83      0.74       170\n",
      "           1       0.48      0.28      0.35        98\n",
      "\n",
      "    accuracy                           0.63       268\n",
      "   macro avg       0.57      0.55      0.54       268\n",
      "weighted avg       0.60      0.63      0.60       268\n",
      "\n",
      "              precision    recall  f1-score   support\n",
      "\n",
      "           0       0.66      0.73      0.69       170\n",
      "           1       0.42      0.35      0.38        98\n",
      "\n",
      "    accuracy                           0.59       268\n",
      "   macro avg       0.54      0.54      0.54       268\n",
      "weighted avg       0.57      0.59      0.58       268\n",
      "\n",
      "              precision    recall  f1-score   support\n",
      "\n",
      "           0       0.67      0.83      0.74       170\n",
      "           1       0.48      0.28      0.35        98\n",
      "\n",
      "    accuracy                           0.63       268\n",
      "   macro avg       0.57      0.55      0.54       268\n",
      "weighted avg       0.60      0.63      0.60       268\n",
      "\n",
      "              precision    recall  f1-score   support\n",
      "\n",
      "           0       0.65      0.76      0.70       170\n",
      "           1       0.42      0.31      0.36        98\n",
      "\n",
      "    accuracy                           0.59       268\n",
      "   macro avg       0.54      0.53      0.53       268\n",
      "weighted avg       0.57      0.59      0.58       268\n",
      "\n",
      "              precision    recall  f1-score   support\n",
      "\n",
      "           0       0.66      0.85      0.74       170\n",
      "           1       0.49      0.26      0.34        98\n",
      "\n",
      "    accuracy                           0.63       268\n",
      "   macro avg       0.58      0.55      0.54       268\n",
      "weighted avg       0.60      0.63      0.59       268\n",
      "\n",
      "              precision    recall  f1-score   support\n",
      "\n",
      "           0       0.67      0.82      0.74       170\n",
      "           1       0.49      0.31      0.38        98\n",
      "\n",
      "    accuracy                           0.63       268\n",
      "   macro avg       0.58      0.56      0.56       268\n",
      "weighted avg       0.61      0.63      0.61       268\n",
      "\n",
      "              precision    recall  f1-score   support\n",
      "\n",
      "           0       0.67      0.86      0.76       170\n",
      "           1       0.53      0.27      0.35        98\n",
      "\n",
      "    accuracy                           0.65       268\n",
      "   macro avg       0.60      0.57      0.55       268\n",
      "weighted avg       0.62      0.65      0.61       268\n",
      "\n",
      "              precision    recall  f1-score   support\n",
      "\n",
      "           0       0.67      0.82      0.74       170\n",
      "           1       0.48      0.30      0.37        98\n",
      "\n",
      "    accuracy                           0.63       268\n",
      "   macro avg       0.58      0.56      0.55       268\n",
      "weighted avg       0.60      0.63      0.60       268\n",
      "\n",
      "              precision    recall  f1-score   support\n",
      "\n",
      "           0       0.67      0.89      0.77       170\n",
      "           1       0.56      0.23      0.33        98\n",
      "\n",
      "    accuracy                           0.65       268\n",
      "   macro avg       0.62      0.56      0.55       268\n",
      "weighted avg       0.63      0.65      0.61       268\n",
      "\n",
      "              precision    recall  f1-score   support\n",
      "\n",
      "           0       0.67      0.86      0.75       170\n",
      "           1       0.52      0.26      0.34        98\n",
      "\n",
      "    accuracy                           0.64       268\n",
      "   macro avg       0.59      0.56      0.55       268\n",
      "weighted avg       0.61      0.64      0.60       268\n",
      "\n",
      "              precision    recall  f1-score   support\n",
      "\n",
      "           0       0.67      0.90      0.77       170\n",
      "           1       0.56      0.22      0.32        98\n",
      "\n",
      "    accuracy                           0.65       268\n",
      "   macro avg       0.62      0.56      0.54       268\n",
      "weighted avg       0.63      0.65      0.60       268\n",
      "              precision    recall  f1-score   support\n",
      "\n",
      "           0       0.68      0.88      0.77       170\n",
      "           1       0.57      0.27      0.36        98\n",
      "\n",
      "    accuracy                           0.66       268\n",
      "   macro avg       0.62      0.57      0.56       268\n",
      "weighted avg       0.64      0.66      0.62       268\n",
      "\n",
      "              precision    recall  f1-score   support\n",
      "\n",
      "           0       0.67      0.89      0.77       170\n",
      "           1       0.56      0.23      0.33        98\n",
      "\n",
      "    accuracy                           0.65       268\n",
      "   macro avg       0.62      0.56      0.55       268\n",
      "weighted avg       0.63      0.65      0.61       268\n",
      "\n",
      "              precision    recall  f1-score   support\n",
      "\n",
      "           0       0.67      0.88      0.76       170\n",
      "           1       0.54      0.26      0.35        98\n",
      "\n",
      "    accuracy                           0.65       268\n",
      "   macro avg       0.61      0.57      0.55       268\n",
      "weighted avg       0.62      0.65      0.61       268\n",
      "\n",
      "              precision    recall  f1-score   support\n",
      "\n",
      "           0       0.67      0.89      0.76       170\n",
      "           1       0.55      0.23      0.33        98\n",
      "\n",
      "    accuracy                           0.65       268\n",
      "   macro avg       0.61      0.56      0.55       268\n",
      "weighted avg       0.62      0.65      0.60       268\n",
      "\n",
      "              precision    recall  f1-score   support\n",
      "\n",
      "           0       0.66      0.86      0.75       170\n",
      "           1       0.50      0.24      0.33        98\n",
      "\n",
      "    accuracy                           0.63       268\n",
      "   macro avg       0.58      0.55      0.54       268\n",
      "weighted avg       0.60      0.63      0.60       268\n"
     ]
    }
   ],
   "source": [
    "for i in range(1,20):\n",
    "  knn=KNeighborsClassifier(n_neighbors= i)\n",
    "  knn.fit(X_train, y_train)\n",
    "  pred_i = knn.predict(X_test)\n",
    "  print(classification_report(y_test,pred_i))"
   ]
  },
  {
   "cell_type": "markdown",
   "metadata": {
    "colab_type": "text",
    "id": "WRGOXojTH34y"
   },
   "source": [
    "### **Comparing Mean of Error with the K Value**\n",
    "\n",
    "Let's first calculate the mean of error for all the predicted values where K ranges from 1 and 19."
   ]
  },
  {
   "cell_type": "code",
   "execution_count": 28,
   "metadata": {
    "colab": {
     "base_uri": "https://localhost:8080/",
     "height": 346
    },
    "colab_type": "code",
    "executionInfo": {
     "elapsed": 2865,
     "status": "ok",
     "timestamp": 1595584268084,
     "user": {
      "displayName": "Connie Sze",
      "photoUrl": "",
      "userId": "04636244361226698916"
     },
     "user_tz": -480
    },
    "id": "oI87V9ROHhvQ",
    "outputId": "7fe82900-7c0d-45a9-87b1-a01ea2308733",
    "ExecuteTime": {
     "end_time": "2024-02-21T09:40:15.972615400Z",
     "start_time": "2024-02-21T09:40:15.771726100Z"
    }
   },
   "outputs": [
    {
     "data": {
      "text/plain": "[0.40671641791044777,\n 0.3619402985074627,\n 0.4253731343283582,\n 0.373134328358209,\n 0.41044776119402987,\n 0.373134328358209,\n 0.40671641791044777,\n 0.3694029850746269,\n 0.3694029850746269,\n 0.35447761194029853,\n 0.373134328358209,\n 0.34701492537313433,\n 0.3582089552238806,\n 0.34701492537313433,\n 0.34328358208955223,\n 0.34701492537313433,\n 0.35074626865671643,\n 0.35074626865671643,\n 0.3656716417910448]"
     },
     "execution_count": 28,
     "metadata": {},
     "output_type": "execute_result"
    }
   ],
   "source": [
    "error_mean =[]\n",
    "\n",
    "for i in range(1,20):\n",
    "  knn=KNeighborsClassifier(n_neighbors= i)\n",
    "  knn.fit(X_train, y_train)\n",
    "  pred_i = knn.predict(X_test)\n",
    "  error_mean.append(np.mean(pred_i != y_test))\n",
    "  \n",
    "error_mean"
   ]
  },
  {
   "cell_type": "markdown",
   "metadata": {
    "colab_type": "text",
    "id": "co17LGLbITuT"
   },
   "source": [
    "The next step is to plot the mean of error against K values."
   ]
  },
  {
   "cell_type": "code",
   "execution_count": 29,
   "metadata": {
    "colab": {
     "base_uri": "https://localhost:8080/",
     "height": 421
    },
    "colab_type": "code",
    "executionInfo": {
     "elapsed": 3509,
     "status": "ok",
     "timestamp": 1595584268743,
     "user": {
      "displayName": "Connie Sze",
      "photoUrl": "",
      "userId": "04636244361226698916"
     },
     "user_tz": -480
    },
    "id": "KGXA_cRL8BOx",
    "outputId": "9cc1271a-4151-4210-cd13-a546cd5091c9",
    "ExecuteTime": {
     "end_time": "2024-02-21T09:40:16.180155600Z",
     "start_time": "2024-02-21T09:40:15.973116500Z"
    }
   },
   "outputs": [
    {
     "data": {
      "text/plain": "Text(0, 0.5, 'Mean Error')"
     },
     "execution_count": 29,
     "metadata": {},
     "output_type": "execute_result"
    },
    {
     "data": {
      "text/plain": "<Figure size 1200x600 with 1 Axes>",
      "image/png": "[encoded data removed]"
     },
     "metadata": {},
     "output_type": "display_data"
    }
   ],
   "source": [
    "plt.figure(figsize=(12, 6))\n",
    "plt.plot(range(1, 20), error_mean, color='red', linestyle='dashed', marker='o', markerfacecolor='blue', markersize=10)\n",
    "plt.title('Error Rate K Value')\n",
    "plt.xlabel('K Value')\n",
    "plt.ylabel('Mean Error')"
   ]
  },
  {
   "cell_type": "markdown",
   "metadata": {
    "colab_type": "text",
    "id": "uRTsScqLIqmt"
   },
   "source": [
    "Find the K value which gives the minimum mean of error:"
   ]
  },
  {
   "cell_type": "code",
   "execution_count": 30,
   "metadata": {
    "colab": {
     "base_uri": "https://localhost:8080/",
     "height": 645
    },
    "colab_type": "code",
    "executionInfo": {
     "elapsed": 3496,
     "status": "ok",
     "timestamp": 1595584268744,
     "user": {
      "displayName": "Connie Sze",
      "photoUrl": "",
      "userId": "04636244361226698916"
     },
     "user_tz": -480
    },
    "id": "-2sztGQKOtCE",
    "outputId": "6185c00f-9c73-4bac-a817-0a6a400484c4",
    "ExecuteTime": {
     "end_time": "2024-02-21T09:40:16.193160200Z",
     "start_time": "2024-02-21T09:40:16.175637800Z"
    }
   },
   "outputs": [
    {
     "data": {
      "text/plain": "    Mean Error\n1     0.406716\n2     0.361940\n3     0.425373\n4     0.373134\n5     0.410448\n6     0.373134\n7     0.406716\n8     0.369403\n9     0.369403\n10    0.354478\n11    0.373134\n12    0.347015\n13    0.358209\n14    0.347015\n15    0.343284\n16    0.347015\n17    0.350746\n18    0.350746\n19    0.365672",
      "text/html": "<div>\n<style scoped>\n    .dataframe tbody tr th:only-of-type {\n        vertical-align: middle;\n    }\n\n    .dataframe tbody tr th {\n        vertical-align: top;\n    }\n\n    .dataframe thead th {\n        text-align: right;\n    }\n</style>\n<table border=\"1\" class=\"dataframe\">\n  <thead>\n    <tr style=\"text-align: right;\">\n      <th></th>\n      <th>Mean Error</th>\n    </tr>\n  </thead>\n  <tbody>\n    <tr>\n      <th>1</th>\n      <td>0.406716</td>\n    </tr>\n    <tr>\n      <th>2</th>\n      <td>0.361940</td>\n    </tr>\n    <tr>\n      <th>3</th>\n      <td>0.425373</td>\n    </tr>\n    <tr>\n      <th>4</th>\n      <td>0.373134</td>\n    </tr>\n    <tr>\n      <th>5</th>\n      <td>0.410448</td>\n    </tr>\n    <tr>\n      <th>6</th>\n      <td>0.373134</td>\n    </tr>\n    <tr>\n      <th>7</th>\n      <td>0.406716</td>\n    </tr>\n    <tr>\n      <th>8</th>\n      <td>0.369403</td>\n    </tr>\n    <tr>\n      <th>9</th>\n      <td>0.369403</td>\n    </tr>\n    <tr>\n      <th>10</th>\n      <td>0.354478</td>\n    </tr>\n    <tr>\n      <th>11</th>\n      <td>0.373134</td>\n    </tr>\n    <tr>\n      <th>12</th>\n      <td>0.347015</td>\n    </tr>\n    <tr>\n      <th>13</th>\n      <td>0.358209</td>\n    </tr>\n    <tr>\n      <th>14</th>\n      <td>0.347015</td>\n    </tr>\n    <tr>\n      <th>15</th>\n      <td>0.343284</td>\n    </tr>\n    <tr>\n      <th>16</th>\n      <td>0.347015</td>\n    </tr>\n    <tr>\n      <th>17</th>\n      <td>0.350746</td>\n    </tr>\n    <tr>\n      <th>18</th>\n      <td>0.350746</td>\n    </tr>\n    <tr>\n      <th>19</th>\n      <td>0.365672</td>\n    </tr>\n  </tbody>\n</table>\n</div>"
     },
     "execution_count": 30,
     "metadata": {},
     "output_type": "execute_result"
    }
   ],
   "source": [
    "error_mean= pd.DataFrame(data=error_mean, index=list(range(1,20)), columns=[\"Mean Error\"])\n",
    "error_mean"
   ]
  },
  {
   "cell_type": "code",
   "execution_count": 31,
   "metadata": {
    "colab": {
     "base_uri": "https://localhost:8080/",
     "height": 52
    },
    "colab_type": "code",
    "executionInfo": {
     "elapsed": 3485,
     "status": "ok",
     "timestamp": 1595584268744,
     "user": {
      "displayName": "Connie Sze",
      "photoUrl": "",
      "userId": "04636244361226698916"
     },
     "user_tz": -480
    },
    "id": "0-ZPnlEiL5u8",
    "outputId": "3c8e9ac5-084f-4e74-b55c-a56717cd9750",
    "ExecuteTime": {
     "end_time": "2024-02-21T09:40:16.328992Z",
     "start_time": "2024-02-21T09:40:16.190660300Z"
    }
   },
   "outputs": [
    {
     "data": {
      "text/plain": "Mean Error    15\ndtype: int64"
     },
     "execution_count": 31,
     "metadata": {},
     "output_type": "execute_result"
    }
   ],
   "source": [
    "error_mean.idxmin()"
   ]
  }
 ],
 "metadata": {
  "colab": {
   "collapsed_sections": [],
   "name": "[Answer]ML_Exercises_Titanic with KNN.ipynb",
   "provenance": [
    {
     "file_id": "159VLic_B0Hpik5SHh8QeEKvHzMGyi3Gp",
     "timestamp": 1595581198912
    },
    {
     "file_id": "10QvFHxiF4bjrvk6ojFOR1__injGUGOju",
     "timestamp": 1586263479290
    }
   ],
   "toc_visible": true
  },
  "kernelspec": {
   "display_name": "Python 3 (ipykernel)",
   "language": "python",
   "name": "python3"
  },
  "language_info": {
   "codemirror_mode": {
    "name": "ipython",
    "version": 3
   },
   "file_extension": ".py",
   "mimetype": "text/x-python",
   "name": "python",
   "nbconvert_exporter": "python",
   "pygments_lexer": "ipython3",
   "version": "3.10.9"
  }
 },
 "nbformat": 4,
 "nbformat_minor": 4
}
