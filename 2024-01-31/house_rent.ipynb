{
 "cells": [
  {
   "cell_type": "code",
   "execution_count": 1,
   "id": "initial_id",
   "metadata": {
    "collapsed": true,
    "ExecuteTime": {
     "end_time": "2024-01-31T10:36:45.440220400Z",
     "start_time": "2024-01-31T10:36:45.424709900Z"
    }
   },
   "outputs": [],
   "source": [
    "import pandas as pd\n",
    "import numpy as np"
   ]
  },
  {
   "cell_type": "code",
   "outputs": [
    {
     "data": {
      "text/plain": "       Posted On  BHK   Rent  Size    Area Type       City Furnishing Status  \\\n0     2022-05-18    2  10000  1100   Super Area    Kolkata       Unfurnished   \n1     2022-05-13    2  20000   800   Super Area    Kolkata    Semi-Furnished   \n2     2022-05-16    2  17000  1000   Super Area    Kolkata    Semi-Furnished   \n3     2022-07-04    2  10000   800   Super Area    Kolkata       Unfurnished   \n4     2022-05-09    2   7500   850  Carpet Area    Kolkata       Unfurnished   \n...          ...  ...    ...   ...          ...        ...               ...   \n4741  2022-05-18    2  15000  1000  Carpet Area  Hyderabad    Semi-Furnished   \n4742  2022-05-15    3  29000  2000   Super Area  Hyderabad    Semi-Furnished   \n4743  2022-07-10    3  35000  1750  Carpet Area  Hyderabad    Semi-Furnished   \n4744  2022-07-06    3  45000  1500  Carpet Area  Hyderabad    Semi-Furnished   \n4745  2022-05-04    2  15000  1000  Carpet Area  Hyderabad       Unfurnished   \n\n      Tenant Preferred  Bathroom Point of Contact  \n0     Bachelors/Family         2    Contact Owner  \n1     Bachelors/Family         1    Contact Owner  \n2     Bachelors/Family         1    Contact Owner  \n3     Bachelors/Family         1    Contact Owner  \n4            Bachelors         1    Contact Owner  \n...                ...       ...              ...  \n4741  Bachelors/Family         2    Contact Owner  \n4742  Bachelors/Family         3    Contact Owner  \n4743  Bachelors/Family         3    Contact Agent  \n4744            Family         2    Contact Agent  \n4745         Bachelors         2    Contact Owner  \n\n[4746 rows x 10 columns]",
      "text/html": "<div>\n<style scoped>\n    .dataframe tbody tr th:only-of-type {\n        vertical-align: middle;\n    }\n\n    .dataframe tbody tr th {\n        vertical-align: top;\n    }\n\n    .dataframe thead th {\n        text-align: right;\n    }\n</style>\n<table border=\"1\" class=\"dataframe\">\n  <thead>\n    <tr style=\"text-align: right;\">\n      <th></th>\n      <th>Posted On</th>\n      <th>BHK</th>\n      <th>Rent</th>\n      <th>Size</th>\n      <th>Area Type</th>\n      <th>City</th>\n      <th>Furnishing Status</th>\n      <th>Tenant Preferred</th>\n      <th>Bathroom</th>\n      <th>Point of Contact</th>\n    </tr>\n  </thead>\n  <tbody>\n    <tr>\n      <th>0</th>\n      <td>2022-05-18</td>\n      <td>2</td>\n      <td>10000</td>\n      <td>1100</td>\n      <td>Super Area</td>\n      <td>Kolkata</td>\n      <td>Unfurnished</td>\n      <td>Bachelors/Family</td>\n      <td>2</td>\n      <td>Contact Owner</td>\n    </tr>\n    <tr>\n      <th>1</th>\n      <td>2022-05-13</td>\n      <td>2</td>\n      <td>20000</td>\n      <td>800</td>\n      <td>Super Area</td>\n      <td>Kolkata</td>\n      <td>Semi-Furnished</td>\n      <td>Bachelors/Family</td>\n      <td>1</td>\n      <td>Contact Owner</td>\n    </tr>\n    <tr>\n      <th>2</th>\n      <td>2022-05-16</td>\n      <td>2</td>\n      <td>17000</td>\n      <td>1000</td>\n      <td>Super Area</td>\n      <td>Kolkata</td>\n      <td>Semi-Furnished</td>\n      <td>Bachelors/Family</td>\n      <td>1</td>\n      <td>Contact Owner</td>\n    </tr>\n    <tr>\n      <th>3</th>\n      <td>2022-07-04</td>\n      <td>2</td>\n      <td>10000</td>\n      <td>800</td>\n      <td>Super Area</td>\n      <td>Kolkata</td>\n      <td>Unfurnished</td>\n      <td>Bachelors/Family</td>\n      <td>1</td>\n      <td>Contact Owner</td>\n    </tr>\n    <tr>\n      <th>4</th>\n      <td>2022-05-09</td>\n      <td>2</td>\n      <td>7500</td>\n      <td>850</td>\n      <td>Carpet Area</td>\n      <td>Kolkata</td>\n      <td>Unfurnished</td>\n      <td>Bachelors</td>\n      <td>1</td>\n      <td>Contact Owner</td>\n    </tr>\n    <tr>\n      <th>...</th>\n      <td>...</td>\n      <td>...</td>\n      <td>...</td>\n      <td>...</td>\n      <td>...</td>\n      <td>...</td>\n      <td>...</td>\n      <td>...</td>\n      <td>...</td>\n      <td>...</td>\n    </tr>\n    <tr>\n      <th>4741</th>\n      <td>2022-05-18</td>\n      <td>2</td>\n      <td>15000</td>\n      <td>1000</td>\n      <td>Carpet Area</td>\n      <td>Hyderabad</td>\n      <td>Semi-Furnished</td>\n      <td>Bachelors/Family</td>\n      <td>2</td>\n      <td>Contact Owner</td>\n    </tr>\n    <tr>\n      <th>4742</th>\n      <td>2022-05-15</td>\n      <td>3</td>\n      <td>29000</td>\n      <td>2000</td>\n      <td>Super Area</td>\n      <td>Hyderabad</td>\n      <td>Semi-Furnished</td>\n      <td>Bachelors/Family</td>\n      <td>3</td>\n      <td>Contact Owner</td>\n    </tr>\n    <tr>\n      <th>4743</th>\n      <td>2022-07-10</td>\n      <td>3</td>\n      <td>35000</td>\n      <td>1750</td>\n      <td>Carpet Area</td>\n      <td>Hyderabad</td>\n      <td>Semi-Furnished</td>\n      <td>Bachelors/Family</td>\n      <td>3</td>\n      <td>Contact Agent</td>\n    </tr>\n    <tr>\n      <th>4744</th>\n      <td>2022-07-06</td>\n      <td>3</td>\n      <td>45000</td>\n      <td>1500</td>\n      <td>Carpet Area</td>\n      <td>Hyderabad</td>\n      <td>Semi-Furnished</td>\n      <td>Family</td>\n      <td>2</td>\n      <td>Contact Agent</td>\n    </tr>\n    <tr>\n      <th>4745</th>\n      <td>2022-05-04</td>\n      <td>2</td>\n      <td>15000</td>\n      <td>1000</td>\n      <td>Carpet Area</td>\n      <td>Hyderabad</td>\n      <td>Unfurnished</td>\n      <td>Bachelors</td>\n      <td>2</td>\n      <td>Contact Owner</td>\n    </tr>\n  </tbody>\n</table>\n<p>4746 rows × 10 columns</p>\n</div>"
     },
     "execution_count": 4,
     "metadata": {},
     "output_type": "execute_result"
    }
   ],
   "source": [
    "df = pd.read_csv(\"House_Rent_Dataset.csv\")\n",
    "df.drop(\"Area Locality\", axis='columns', inplace = True)\n",
    "df.drop(\"Floor\", axis='columns', inplace = True)\n",
    "df"
   ],
   "metadata": {
    "collapsed": false,
    "ExecuteTime": {
     "end_time": "2024-01-31T10:39:56.959712300Z",
     "start_time": "2024-01-31T10:39:56.930662600Z"
    }
   },
   "id": "a7162838afebfd21",
   "execution_count": 4
  },
  {
   "cell_type": "code",
   "outputs": [
    {
     "name": "stdout",
     "output_type": "stream",
     "text": [
      "  Category  Category_Encoded\n",
      "0        A                 0\n",
      "1        B                 1\n",
      "2        C                 2\n",
      "3        A                 0\n",
      "4        B                 1\n",
      "5        C                 2\n"
     ]
    }
   ],
   "source": [
    "from sklearn.preprocessing import LabelEncoder\n",
    "import pandas as pd\n",
    "\n",
    "# Create a sample DataFrame\n",
    "data = {'Category': ['A', 'B', 'C', 'A', 'B', 'C']}\n",
    "df = pd.DataFrame(data)\n",
    "\n",
    "# Create an instance of LabelEncoder\n",
    "label_encoder = LabelEncoder()\n",
    "\n",
    "# Fit the LabelEncoder to the categories in the DataFrame\n",
    "label_encoder.fit(df['Category'])\n",
    "\n",
    "# Transform the categories into numerical values\n",
    "df['Category_Encoded'] = label_encoder.transform(df['Category'])\n",
    "\n",
    "# Print the transformed DataFrame\n",
    "print(df)"
   ],
   "metadata": {
    "collapsed": false,
    "ExecuteTime": {
     "end_time": "2024-01-31T10:42:50.569855400Z",
     "start_time": "2024-01-31T10:42:50.496604Z"
    }
   },
   "id": "6b098e01ca49e878",
   "execution_count": 5
  },
  {
   "cell_type": "code",
   "outputs": [
    {
     "name": "stdout",
     "output_type": "stream",
     "text": [
      "  Category      A      B      C\n",
      "0        A   True  False  False\n",
      "1        B  False   True  False\n",
      "2        C  False  False   True\n",
      "3        A   True  False  False\n",
      "4        B  False   True  False\n",
      "5        C  False  False   True\n"
     ]
    }
   ],
   "source": [
    "import pandas as pd\n",
    "\n",
    "# Create a sample DataFrame\n",
    "data = {'Category': ['A', 'B', 'C', 'A', 'B', 'C']}\n",
    "df = pd.DataFrame(data)\n",
    "\n",
    "# Perform one-hot encoding using get_dummies()\n",
    "encoded_df = pd.get_dummies(df['Category'])\n",
    "\n",
    "# Concatenate the original DataFrame with the encoded DataFrame\n",
    "df_encoded = pd.concat([df, encoded_df], axis=1)\n",
    "\n",
    "# Print the encoded DataFrame\n",
    "print(df_encoded)"
   ],
   "metadata": {
    "collapsed": false,
    "ExecuteTime": {
     "end_time": "2024-01-31T10:42:50.913752100Z",
     "start_time": "2024-01-31T10:42:50.886702200Z"
    }
   },
   "id": "a610bb9eab6f12f8",
   "execution_count": 6
  },
  {
   "cell_type": "code",
   "outputs": [],
   "source": [],
   "metadata": {
    "collapsed": false
   },
   "id": "21c70473f35f773f"
  }
 ],
 "metadata": {
  "kernelspec": {
   "display_name": "Python 3",
   "language": "python",
   "name": "python3"
  },
  "language_info": {
   "codemirror_mode": {
    "name": "ipython",
    "version": 2
   },
   "file_extension": ".py",
   "mimetype": "text/x-python",
   "name": "python",
   "nbconvert_exporter": "python",
   "pygments_lexer": "ipython2",
   "version": "2.7.6"
  }
 },
 "nbformat": 4,
 "nbformat_minor": 5
}
