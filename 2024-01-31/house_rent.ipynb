{
 "cells": [
  {
   "cell_type": "code",
   "execution_count": 69,
   "id": "initial_id",
   "metadata": {
    "collapsed": true,
    "ExecuteTime": {
     "end_time": "2024-02-06T09:45:52.344470700Z",
     "start_time": "2024-02-06T09:45:52.338459500Z"
    }
   },
   "outputs": [],
   "source": [
    "import pandas as pd\n",
    "import numpy as np"
   ]
  },
  {
   "cell_type": "code",
   "outputs": [
    {
     "data": {
      "text/plain": "       Posted On  BHK   Rent  Size    Area Type       City Furnishing Status  \\\n0     2022-05-18    2  10000  1100   Super Area    Kolkata       Unfurnished   \n1     2022-05-13    2  20000   800   Super Area    Kolkata    Semi-Furnished   \n2     2022-05-16    2  17000  1000   Super Area    Kolkata    Semi-Furnished   \n3     2022-07-04    2  10000   800   Super Area    Kolkata       Unfurnished   \n4     2022-05-09    2   7500   850  Carpet Area    Kolkata       Unfurnished   \n...          ...  ...    ...   ...          ...        ...               ...   \n4741  2022-05-18    2  15000  1000  Carpet Area  Hyderabad    Semi-Furnished   \n4742  2022-05-15    3  29000  2000   Super Area  Hyderabad    Semi-Furnished   \n4743  2022-07-10    3  35000  1750  Carpet Area  Hyderabad    Semi-Furnished   \n4744  2022-07-06    3  45000  1500  Carpet Area  Hyderabad    Semi-Furnished   \n4745  2022-05-04    2  15000  1000  Carpet Area  Hyderabad       Unfurnished   \n\n      Tenant Preferred  Bathroom Point of Contact  \n0     Bachelors/Family         2    Contact Owner  \n1     Bachelors/Family         1    Contact Owner  \n2     Bachelors/Family         1    Contact Owner  \n3     Bachelors/Family         1    Contact Owner  \n4            Bachelors         1    Contact Owner  \n...                ...       ...              ...  \n4741  Bachelors/Family         2    Contact Owner  \n4742  Bachelors/Family         3    Contact Owner  \n4743  Bachelors/Family         3    Contact Agent  \n4744            Family         2    Contact Agent  \n4745         Bachelors         2    Contact Owner  \n\n[4746 rows x 10 columns]",
      "text/html": "<div>\n<style scoped>\n    .dataframe tbody tr th:only-of-type {\n        vertical-align: middle;\n    }\n\n    .dataframe tbody tr th {\n        vertical-align: top;\n    }\n\n    .dataframe thead th {\n        text-align: right;\n    }\n</style>\n<table border=\"1\" class=\"dataframe\">\n  <thead>\n    <tr style=\"text-align: right;\">\n      <th></th>\n      <th>Posted On</th>\n      <th>BHK</th>\n      <th>Rent</th>\n      <th>Size</th>\n      <th>Area Type</th>\n      <th>City</th>\n      <th>Furnishing Status</th>\n      <th>Tenant Preferred</th>\n      <th>Bathroom</th>\n      <th>Point of Contact</th>\n    </tr>\n  </thead>\n  <tbody>\n    <tr>\n      <th>0</th>\n      <td>2022-05-18</td>\n      <td>2</td>\n      <td>10000</td>\n      <td>1100</td>\n      <td>Super Area</td>\n      <td>Kolkata</td>\n      <td>Unfurnished</td>\n      <td>Bachelors/Family</td>\n      <td>2</td>\n      <td>Contact Owner</td>\n    </tr>\n    <tr>\n      <th>1</th>\n      <td>2022-05-13</td>\n      <td>2</td>\n      <td>20000</td>\n      <td>800</td>\n      <td>Super Area</td>\n      <td>Kolkata</td>\n      <td>Semi-Furnished</td>\n      <td>Bachelors/Family</td>\n      <td>1</td>\n      <td>Contact Owner</td>\n    </tr>\n    <tr>\n      <th>2</th>\n      <td>2022-05-16</td>\n      <td>2</td>\n      <td>17000</td>\n      <td>1000</td>\n      <td>Super Area</td>\n      <td>Kolkata</td>\n      <td>Semi-Furnished</td>\n      <td>Bachelors/Family</td>\n      <td>1</td>\n      <td>Contact Owner</td>\n    </tr>\n    <tr>\n      <th>3</th>\n      <td>2022-07-04</td>\n      <td>2</td>\n      <td>10000</td>\n      <td>800</td>\n      <td>Super Area</td>\n      <td>Kolkata</td>\n      <td>Unfurnished</td>\n      <td>Bachelors/Family</td>\n      <td>1</td>\n      <td>Contact Owner</td>\n    </tr>\n    <tr>\n      <th>4</th>\n      <td>2022-05-09</td>\n      <td>2</td>\n      <td>7500</td>\n      <td>850</td>\n      <td>Carpet Area</td>\n      <td>Kolkata</td>\n      <td>Unfurnished</td>\n      <td>Bachelors</td>\n      <td>1</td>\n      <td>Contact Owner</td>\n    </tr>\n    <tr>\n      <th>...</th>\n      <td>...</td>\n      <td>...</td>\n      <td>...</td>\n      <td>...</td>\n      <td>...</td>\n      <td>...</td>\n      <td>...</td>\n      <td>...</td>\n      <td>...</td>\n      <td>...</td>\n    </tr>\n    <tr>\n      <th>4741</th>\n      <td>2022-05-18</td>\n      <td>2</td>\n      <td>15000</td>\n      <td>1000</td>\n      <td>Carpet Area</td>\n      <td>Hyderabad</td>\n      <td>Semi-Furnished</td>\n      <td>Bachelors/Family</td>\n      <td>2</td>\n      <td>Contact Owner</td>\n    </tr>\n    <tr>\n      <th>4742</th>\n      <td>2022-05-15</td>\n      <td>3</td>\n      <td>29000</td>\n      <td>2000</td>\n      <td>Super Area</td>\n      <td>Hyderabad</td>\n      <td>Semi-Furnished</td>\n      <td>Bachelors/Family</td>\n      <td>3</td>\n      <td>Contact Owner</td>\n    </tr>\n    <tr>\n      <th>4743</th>\n      <td>2022-07-10</td>\n      <td>3</td>\n      <td>35000</td>\n      <td>1750</td>\n      <td>Carpet Area</td>\n      <td>Hyderabad</td>\n      <td>Semi-Furnished</td>\n      <td>Bachelors/Family</td>\n      <td>3</td>\n      <td>Contact Agent</td>\n    </tr>\n    <tr>\n      <th>4744</th>\n      <td>2022-07-06</td>\n      <td>3</td>\n      <td>45000</td>\n      <td>1500</td>\n      <td>Carpet Area</td>\n      <td>Hyderabad</td>\n      <td>Semi-Furnished</td>\n      <td>Family</td>\n      <td>2</td>\n      <td>Contact Agent</td>\n    </tr>\n    <tr>\n      <th>4745</th>\n      <td>2022-05-04</td>\n      <td>2</td>\n      <td>15000</td>\n      <td>1000</td>\n      <td>Carpet Area</td>\n      <td>Hyderabad</td>\n      <td>Unfurnished</td>\n      <td>Bachelors</td>\n      <td>2</td>\n      <td>Contact Owner</td>\n    </tr>\n  </tbody>\n</table>\n<p>4746 rows × 10 columns</p>\n</div>"
     },
     "execution_count": 70,
     "metadata": {},
     "output_type": "execute_result"
    }
   ],
   "source": [
    "df = pd.read_csv(\"House_Rent_Dataset.csv\")\n",
    "df.drop(\"Area Locality\", axis='columns', inplace = True)\n",
    "df.drop(\"Floor\", axis='columns', inplace = True)\n",
    "df"
   ],
   "metadata": {
    "collapsed": false,
    "ExecuteTime": {
     "end_time": "2024-02-06T09:45:52.376218700Z",
     "start_time": "2024-02-06T09:45:52.346107700Z"
    }
   },
   "id": "a7162838afebfd21",
   "execution_count": 70
  },
  {
   "cell_type": "code",
   "outputs": [],
   "source": [
    "# from sklearn.preprocessing import LabelEncoder\n",
    "# import pandas as pd\n",
    "# \n",
    "# # Create a sample DataFrame\n",
    "# data = {'Category': ['A', 'B', 'C', 'A', 'B', 'C']}\n",
    "# df = pd.DataFrame(data)\n",
    "# \n",
    "# # Create an instance of LabelEncoder\n",
    "# label_encoder = LabelEncoder()\n",
    "# \n",
    "# # Fit the LabelEncoder to the categories in the DataFrame\n",
    "# label_encoder.fit(df['Category'])\n",
    "# \n",
    "# # Transform the categories into numerical values\n",
    "# df['Category_Encoded'] = label_encoder.transform(df['Category'])\n",
    "# \n",
    "# # Print the transformed DataFrame\n",
    "# print(df)"
   ],
   "metadata": {
    "collapsed": false,
    "ExecuteTime": {
     "end_time": "2024-02-06T09:45:52.394242700Z",
     "start_time": "2024-02-06T09:45:52.376718700Z"
    }
   },
   "id": "b4338e0fb7133066",
   "execution_count": 71
  },
  {
   "cell_type": "code",
   "outputs": [
    {
     "data": {
      "text/plain": "       Posted On  BHK   Rent  Size  Bathroom  Built Area  Carpet Area  \\\n0     2022-05-18    2  10000  1100         2       False        False   \n1     2022-05-13    2  20000   800         1       False        False   \n2     2022-05-16    2  17000  1000         1       False        False   \n3     2022-07-04    2  10000   800         1       False        False   \n4     2022-05-09    2   7500   850         1       False         True   \n...          ...  ...    ...   ...       ...         ...          ...   \n4741  2022-05-18    2  15000  1000         2       False         True   \n4742  2022-05-15    3  29000  2000         3       False        False   \n4743  2022-07-10    3  35000  1750         3       False         True   \n4744  2022-07-06    3  45000  1500         2       False         True   \n4745  2022-05-04    2  15000  1000         2       False         True   \n\n      Super Area  Bangalore  Chennai  ...  Mumbai  Bachelors  \\\n0           True      False    False  ...   False      False   \n1           True      False    False  ...   False      False   \n2           True      False    False  ...   False      False   \n3           True      False    False  ...   False      False   \n4          False      False    False  ...   False       True   \n...          ...        ...      ...  ...     ...        ...   \n4741       False      False    False  ...   False      False   \n4742        True      False    False  ...   False      False   \n4743       False      False    False  ...   False      False   \n4744       False      False    False  ...   False      False   \n4745       False      False    False  ...   False       True   \n\n      Bachelors/Family  Family  Contact Agent  Contact Builder  Contact Owner  \\\n0                 True   False          False            False           True   \n1                 True   False          False            False           True   \n2                 True   False          False            False           True   \n3                 True   False          False            False           True   \n4                False   False          False            False           True   \n...                ...     ...            ...              ...            ...   \n4741              True   False          False            False           True   \n4742              True   False          False            False           True   \n4743              True   False           True            False          False   \n4744             False    True           True            False          False   \n4745             False   False          False            False           True   \n\n      Furnished  Semi-Furnished  Unfurnished  \n0         False           False         True  \n1         False            True        False  \n2         False            True        False  \n3         False           False         True  \n4         False           False         True  \n...         ...             ...          ...  \n4741      False            True        False  \n4742      False            True        False  \n4743      False            True        False  \n4744      False            True        False  \n4745      False           False         True  \n\n[4746 rows x 23 columns]",
      "text/html": "<div>\n<style scoped>\n    .dataframe tbody tr th:only-of-type {\n        vertical-align: middle;\n    }\n\n    .dataframe tbody tr th {\n        vertical-align: top;\n    }\n\n    .dataframe thead th {\n        text-align: right;\n    }\n</style>\n<table border=\"1\" class=\"dataframe\">\n  <thead>\n    <tr style=\"text-align: right;\">\n      <th></th>\n      <th>Posted On</th>\n      <th>BHK</th>\n      <th>Rent</th>\n      <th>Size</th>\n      <th>Bathroom</th>\n      <th>Built Area</th>\n      <th>Carpet Area</th>\n      <th>Super Area</th>\n      <th>Bangalore</th>\n      <th>Chennai</th>\n      <th>...</th>\n      <th>Mumbai</th>\n      <th>Bachelors</th>\n      <th>Bachelors/Family</th>\n      <th>Family</th>\n      <th>Contact Agent</th>\n      <th>Contact Builder</th>\n      <th>Contact Owner</th>\n      <th>Furnished</th>\n      <th>Semi-Furnished</th>\n      <th>Unfurnished</th>\n    </tr>\n  </thead>\n  <tbody>\n    <tr>\n      <th>0</th>\n      <td>2022-05-18</td>\n      <td>2</td>\n      <td>10000</td>\n      <td>1100</td>\n      <td>2</td>\n      <td>False</td>\n      <td>False</td>\n      <td>True</td>\n      <td>False</td>\n      <td>False</td>\n      <td>...</td>\n      <td>False</td>\n      <td>False</td>\n      <td>True</td>\n      <td>False</td>\n      <td>False</td>\n      <td>False</td>\n      <td>True</td>\n      <td>False</td>\n      <td>False</td>\n      <td>True</td>\n    </tr>\n    <tr>\n      <th>1</th>\n      <td>2022-05-13</td>\n      <td>2</td>\n      <td>20000</td>\n      <td>800</td>\n      <td>1</td>\n      <td>False</td>\n      <td>False</td>\n      <td>True</td>\n      <td>False</td>\n      <td>False</td>\n      <td>...</td>\n      <td>False</td>\n      <td>False</td>\n      <td>True</td>\n      <td>False</td>\n      <td>False</td>\n      <td>False</td>\n      <td>True</td>\n      <td>False</td>\n      <td>True</td>\n      <td>False</td>\n    </tr>\n    <tr>\n      <th>2</th>\n      <td>2022-05-16</td>\n      <td>2</td>\n      <td>17000</td>\n      <td>1000</td>\n      <td>1</td>\n      <td>False</td>\n      <td>False</td>\n      <td>True</td>\n      <td>False</td>\n      <td>False</td>\n      <td>...</td>\n      <td>False</td>\n      <td>False</td>\n      <td>True</td>\n      <td>False</td>\n      <td>False</td>\n      <td>False</td>\n      <td>True</td>\n      <td>False</td>\n      <td>True</td>\n      <td>False</td>\n    </tr>\n    <tr>\n      <th>3</th>\n      <td>2022-07-04</td>\n      <td>2</td>\n      <td>10000</td>\n      <td>800</td>\n      <td>1</td>\n      <td>False</td>\n      <td>False</td>\n      <td>True</td>\n      <td>False</td>\n      <td>False</td>\n      <td>...</td>\n      <td>False</td>\n      <td>False</td>\n      <td>True</td>\n      <td>False</td>\n      <td>False</td>\n      <td>False</td>\n      <td>True</td>\n      <td>False</td>\n      <td>False</td>\n      <td>True</td>\n    </tr>\n    <tr>\n      <th>4</th>\n      <td>2022-05-09</td>\n      <td>2</td>\n      <td>7500</td>\n      <td>850</td>\n      <td>1</td>\n      <td>False</td>\n      <td>True</td>\n      <td>False</td>\n      <td>False</td>\n      <td>False</td>\n      <td>...</td>\n      <td>False</td>\n      <td>True</td>\n      <td>False</td>\n      <td>False</td>\n      <td>False</td>\n      <td>False</td>\n      <td>True</td>\n      <td>False</td>\n      <td>False</td>\n      <td>True</td>\n    </tr>\n    <tr>\n      <th>...</th>\n      <td>...</td>\n      <td>...</td>\n      <td>...</td>\n      <td>...</td>\n      <td>...</td>\n      <td>...</td>\n      <td>...</td>\n      <td>...</td>\n      <td>...</td>\n      <td>...</td>\n      <td>...</td>\n      <td>...</td>\n      <td>...</td>\n      <td>...</td>\n      <td>...</td>\n      <td>...</td>\n      <td>...</td>\n      <td>...</td>\n      <td>...</td>\n      <td>...</td>\n      <td>...</td>\n    </tr>\n    <tr>\n      <th>4741</th>\n      <td>2022-05-18</td>\n      <td>2</td>\n      <td>15000</td>\n      <td>1000</td>\n      <td>2</td>\n      <td>False</td>\n      <td>True</td>\n      <td>False</td>\n      <td>False</td>\n      <td>False</td>\n      <td>...</td>\n      <td>False</td>\n      <td>False</td>\n      <td>True</td>\n      <td>False</td>\n      <td>False</td>\n      <td>False</td>\n      <td>True</td>\n      <td>False</td>\n      <td>True</td>\n      <td>False</td>\n    </tr>\n    <tr>\n      <th>4742</th>\n      <td>2022-05-15</td>\n      <td>3</td>\n      <td>29000</td>\n      <td>2000</td>\n      <td>3</td>\n      <td>False</td>\n      <td>False</td>\n      <td>True</td>\n      <td>False</td>\n      <td>False</td>\n      <td>...</td>\n      <td>False</td>\n      <td>False</td>\n      <td>True</td>\n      <td>False</td>\n      <td>False</td>\n      <td>False</td>\n      <td>True</td>\n      <td>False</td>\n      <td>True</td>\n      <td>False</td>\n    </tr>\n    <tr>\n      <th>4743</th>\n      <td>2022-07-10</td>\n      <td>3</td>\n      <td>35000</td>\n      <td>1750</td>\n      <td>3</td>\n      <td>False</td>\n      <td>True</td>\n      <td>False</td>\n      <td>False</td>\n      <td>False</td>\n      <td>...</td>\n      <td>False</td>\n      <td>False</td>\n      <td>True</td>\n      <td>False</td>\n      <td>True</td>\n      <td>False</td>\n      <td>False</td>\n      <td>False</td>\n      <td>True</td>\n      <td>False</td>\n    </tr>\n    <tr>\n      <th>4744</th>\n      <td>2022-07-06</td>\n      <td>3</td>\n      <td>45000</td>\n      <td>1500</td>\n      <td>2</td>\n      <td>False</td>\n      <td>True</td>\n      <td>False</td>\n      <td>False</td>\n      <td>False</td>\n      <td>...</td>\n      <td>False</td>\n      <td>False</td>\n      <td>False</td>\n      <td>True</td>\n      <td>True</td>\n      <td>False</td>\n      <td>False</td>\n      <td>False</td>\n      <td>True</td>\n      <td>False</td>\n    </tr>\n    <tr>\n      <th>4745</th>\n      <td>2022-05-04</td>\n      <td>2</td>\n      <td>15000</td>\n      <td>1000</td>\n      <td>2</td>\n      <td>False</td>\n      <td>True</td>\n      <td>False</td>\n      <td>False</td>\n      <td>False</td>\n      <td>...</td>\n      <td>False</td>\n      <td>True</td>\n      <td>False</td>\n      <td>False</td>\n      <td>False</td>\n      <td>False</td>\n      <td>True</td>\n      <td>False</td>\n      <td>False</td>\n      <td>True</td>\n    </tr>\n  </tbody>\n</table>\n<p>4746 rows × 23 columns</p>\n</div>"
     },
     "execution_count": 72,
     "metadata": {},
     "output_type": "execute_result"
    }
   ],
   "source": [
    "change_columns = [\"Area Type\", \"City\", \"Tenant Preferred\", \"Point of Contact\", \"Furnishing Status\"]\n",
    "df_encoded = df\n",
    "\n",
    "for column in change_columns:\n",
    "    # Perform one-hot encoding using get_dummies()\n",
    "    encoded_df = pd.get_dummies(df[column])\n",
    "\n",
    "    # Concatenate the original DataFrame with the encoded DataFrame\n",
    "    df_encoded = pd.concat([df_encoded, encoded_df], axis=1)\n",
    "    \n",
    "    df_encoded.drop(column, axis='columns', inplace = True)\n",
    "\n",
    "df_encoded"
   ],
   "metadata": {
    "collapsed": false,
    "ExecuteTime": {
     "end_time": "2024-02-06T09:45:52.452825900Z",
     "start_time": "2024-02-06T09:45:52.392733100Z"
    }
   },
   "id": "21c70473f35f773f",
   "execution_count": 72
  },
  {
   "cell_type": "code",
   "outputs": [],
   "source": [
    "X = df_encoded[[\"Size\", \"Bathroom\", \"Built Area\", \"Carpet Area\", \"Super Area\", \"Bangalore\", \"Chennai\", \"Delhi\", \"Hyderabad\", \"Kolkata\", \"Mumbai\", \"Bachelors\", \"Bachelors/Family\", \"Family\", \"Contact Agent\", \"Contact Builder\", \"Contact Owner\", \"Furnished\", \"Semi-Furnished\", \"Unfurnished\"]]\n",
    "Y = df_encoded[\"Rent\"]"
   ],
   "metadata": {
    "collapsed": false,
    "ExecuteTime": {
     "end_time": "2024-02-06T10:00:22.605098300Z",
     "start_time": "2024-02-06T10:00:22.583576600Z"
    }
   },
   "id": "edb26a2f3152da1",
   "execution_count": 76
  },
  {
   "cell_type": "code",
   "outputs": [],
   "source": [
    "from sklearn.model_selection import train_test_split\n",
    "X_train, X_test, y_train, y_test = train_test_split(X, Y, test_size=0.2, random_state=12)"
   ],
   "metadata": {
    "collapsed": false,
    "ExecuteTime": {
     "end_time": "2024-02-06T10:00:23.186086200Z",
     "start_time": "2024-02-06T10:00:23.167564200Z"
    }
   },
   "id": "ca6f91a681ceef00",
   "execution_count": 77
  },
  {
   "cell_type": "code",
   "outputs": [],
   "source": [
    "from sklearn.linear_model import LinearRegression\n",
    "\n",
    "model1 = LinearRegression()\n",
    "# training\n",
    "model1.fit(X_train, y_train)\n",
    "# prediction\n",
    "y_pred = model1.predict(X_test)"
   ],
   "metadata": {
    "collapsed": false,
    "ExecuteTime": {
     "end_time": "2024-02-06T10:00:43.287411900Z",
     "start_time": "2024-02-06T10:00:43.270889Z"
    }
   },
   "id": "4b605d62bb8c5057",
   "execution_count": 78
  },
  {
   "cell_type": "code",
   "outputs": [
    {
     "name": "stdout",
     "output_type": "stream",
     "text": [
      "Model 1 MAE: 22823.300212520244\n",
      "Model 1 MSE: 1541515668.8173077\n",
      "Model 1 RMSE: 39262.14040035652\n",
      "Model 1 R-squared: 0.528824304993758\n"
     ]
    }
   ],
   "source": [
    "from sklearn.metrics import mean_absolute_error as mae, mean_squared_error as mse, r2_score\n",
    "print(\"Model 1 MAE: {}\".format(mae(y_test, y_pred)))\n",
    "print(\"Model 1 MSE: {}\".format(mse(y_test, y_pred)))\n",
    "print(\"Model 1 RMSE: {}\".format(np.sqrt(mse(y_test, y_pred))))\n",
    "print(\"Model 1 R-squared: {}\".format(r2_score(y_test, y_pred)))"
   ],
   "metadata": {
    "collapsed": false,
    "ExecuteTime": {
     "end_time": "2024-02-06T10:01:11.919300400Z",
     "start_time": "2024-02-06T10:01:11.891267600Z"
    }
   },
   "id": "7b3dab1a8e87a35b",
   "execution_count": 79
  },
  {
   "cell_type": "code",
   "outputs": [
    {
     "data": {
      "text/plain": "<Figure size 640x480 with 1 Axes>",
      "image/png": "[encoded data removed]"
     },
     "metadata": {},
     "output_type": "display_data"
    }
   ],
   "source": [
    "from matplotlib import pyplot as plt\n",
    "\n",
    "# visualise the prediction\n",
    "plt.scatter(y_pred, y_test)\n",
    "plt.xlabel(\"Predicted Value\")\n",
    "plt.ylabel(\"Actual Value\")\n",
    "plt.show()"
   ],
   "metadata": {
    "collapsed": false,
    "ExecuteTime": {
     "end_time": "2024-02-06T10:02:03.564795100Z",
     "start_time": "2024-02-06T10:02:03.419584Z"
    }
   },
   "id": "d599bcb85958c48d",
   "execution_count": 80
  },
  {
   "cell_type": "code",
   "outputs": [],
   "source": [],
   "metadata": {
    "collapsed": false
   },
   "id": "9ce9e7f1fc03d984"
  }
 ],
 "metadata": {
  "kernelspec": {
   "display_name": "Python 3",
   "language": "python",
   "name": "python3"
  },
  "language_info": {
   "codemirror_mode": {
    "name": "ipython",
    "version": 2
   },
   "file_extension": ".py",
   "mimetype": "text/x-python",
   "name": "python",
   "nbconvert_exporter": "python",
   "pygments_lexer": "ipython2",
   "version": "2.7.6"
  }
 },
 "nbformat": 4,
 "nbformat_minor": 5
}
