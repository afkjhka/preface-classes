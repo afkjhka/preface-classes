{
 "cells": [
  {
   "cell_type": "code",
   "execution_count": 91,
   "id": "initial_id",
   "metadata": {
    "collapsed": true,
    "ExecuteTime": {
     "end_time": "2024-02-28T10:31:50.409258600Z",
     "start_time": "2024-02-28T10:31:50.320089Z"
    }
   },
   "outputs": [],
   "source": [
    "import pandas as pd\n",
    "import numpy as np\n",
    "from sklearn.preprocessing import StandardScaler"
   ]
  },
  {
   "cell_type": "markdown",
   "source": [
    "## **analysis**"
   ],
   "metadata": {
    "collapsed": false
   },
   "id": "305c69713e676c6c"
  },
  {
   "cell_type": "code",
   "outputs": [],
   "source": [
    "wine = pd.read_csv(\"winequality-red.csv\")"
   ],
   "metadata": {
    "collapsed": false,
    "ExecuteTime": {
     "end_time": "2024-02-28T10:31:50.441319200Z",
     "start_time": "2024-02-28T10:31:50.412777300Z"
    }
   },
   "id": "dfcdc85f82e1dfc7",
   "execution_count": 92
  },
  {
   "cell_type": "code",
   "outputs": [
    {
     "data": {
      "text/plain": "      fixed acidity  volatile acidity  citric acid  residual sugar  chlorides  \\\n0               7.4             0.700         0.00             1.9      0.076   \n1               7.8             0.880         0.00             2.6      0.098   \n2               7.8             0.760         0.04             2.3      0.092   \n3              11.2             0.280         0.56             1.9      0.075   \n4               7.4             0.700         0.00             1.9      0.076   \n...             ...               ...          ...             ...        ...   \n1594            6.2             0.600         0.08             2.0      0.090   \n1595            5.9             0.550         0.10             2.2      0.062   \n1596            6.3             0.510         0.13             2.3      0.076   \n1597            5.9             0.645         0.12             2.0      0.075   \n1598            6.0             0.310         0.47             3.6      0.067   \n\n      free sulfur dioxide  total sulfur dioxide  density    pH  sulphates  \\\n0                    11.0                  34.0  0.99780  3.51       0.56   \n1                    25.0                  67.0  0.99680  3.20       0.68   \n2                    15.0                  54.0  0.99700  3.26       0.65   \n3                    17.0                  60.0  0.99800  3.16       0.58   \n4                    11.0                  34.0  0.99780  3.51       0.56   \n...                   ...                   ...      ...   ...        ...   \n1594                 32.0                  44.0  0.99490  3.45       0.58   \n1595                 39.0                  51.0  0.99512  3.52       0.76   \n1596                 29.0                  40.0  0.99574  3.42       0.75   \n1597                 32.0                  44.0  0.99547  3.57       0.71   \n1598                 18.0                  42.0  0.99549  3.39       0.66   \n\n      alcohol  quality  \n0         9.4        5  \n1         9.8        5  \n2         9.8        5  \n3         9.8        6  \n4         9.4        5  \n...       ...      ...  \n1594     10.5        5  \n1595     11.2        6  \n1596     11.0        6  \n1597     10.2        5  \n1598     11.0        6  \n\n[1599 rows x 12 columns]",
      "text/html": "<div>\n<style scoped>\n    .dataframe tbody tr th:only-of-type {\n        vertical-align: middle;\n    }\n\n    .dataframe tbody tr th {\n        vertical-align: top;\n    }\n\n    .dataframe thead th {\n        text-align: right;\n    }\n</style>\n<table border=\"1\" class=\"dataframe\">\n  <thead>\n    <tr style=\"text-align: right;\">\n      <th></th>\n      <th>fixed acidity</th>\n      <th>volatile acidity</th>\n      <th>citric acid</th>\n      <th>residual sugar</th>\n      <th>chlorides</th>\n      <th>free sulfur dioxide</th>\n      <th>total sulfur dioxide</th>\n      <th>density</th>\n      <th>pH</th>\n      <th>sulphates</th>\n      <th>alcohol</th>\n      <th>quality</th>\n    </tr>\n  </thead>\n  <tbody>\n    <tr>\n      <th>0</th>\n      <td>7.4</td>\n      <td>0.700</td>\n      <td>0.00</td>\n      <td>1.9</td>\n      <td>0.076</td>\n      <td>11.0</td>\n      <td>34.0</td>\n      <td>0.99780</td>\n      <td>3.51</td>\n      <td>0.56</td>\n      <td>9.4</td>\n      <td>5</td>\n    </tr>\n    <tr>\n      <th>1</th>\n      <td>7.8</td>\n      <td>0.880</td>\n      <td>0.00</td>\n      <td>2.6</td>\n      <td>0.098</td>\n      <td>25.0</td>\n      <td>67.0</td>\n      <td>0.99680</td>\n      <td>3.20</td>\n      <td>0.68</td>\n      <td>9.8</td>\n      <td>5</td>\n    </tr>\n    <tr>\n      <th>2</th>\n      <td>7.8</td>\n      <td>0.760</td>\n      <td>0.04</td>\n      <td>2.3</td>\n      <td>0.092</td>\n      <td>15.0</td>\n      <td>54.0</td>\n      <td>0.99700</td>\n      <td>3.26</td>\n      <td>0.65</td>\n      <td>9.8</td>\n      <td>5</td>\n    </tr>\n    <tr>\n      <th>3</th>\n      <td>11.2</td>\n      <td>0.280</td>\n      <td>0.56</td>\n      <td>1.9</td>\n      <td>0.075</td>\n      <td>17.0</td>\n      <td>60.0</td>\n      <td>0.99800</td>\n      <td>3.16</td>\n      <td>0.58</td>\n      <td>9.8</td>\n      <td>6</td>\n    </tr>\n    <tr>\n      <th>4</th>\n      <td>7.4</td>\n      <td>0.700</td>\n      <td>0.00</td>\n      <td>1.9</td>\n      <td>0.076</td>\n      <td>11.0</td>\n      <td>34.0</td>\n      <td>0.99780</td>\n      <td>3.51</td>\n      <td>0.56</td>\n      <td>9.4</td>\n      <td>5</td>\n    </tr>\n    <tr>\n      <th>...</th>\n      <td>...</td>\n      <td>...</td>\n      <td>...</td>\n      <td>...</td>\n      <td>...</td>\n      <td>...</td>\n      <td>...</td>\n      <td>...</td>\n      <td>...</td>\n      <td>...</td>\n      <td>...</td>\n      <td>...</td>\n    </tr>\n    <tr>\n      <th>1594</th>\n      <td>6.2</td>\n      <td>0.600</td>\n      <td>0.08</td>\n      <td>2.0</td>\n      <td>0.090</td>\n      <td>32.0</td>\n      <td>44.0</td>\n      <td>0.99490</td>\n      <td>3.45</td>\n      <td>0.58</td>\n      <td>10.5</td>\n      <td>5</td>\n    </tr>\n    <tr>\n      <th>1595</th>\n      <td>5.9</td>\n      <td>0.550</td>\n      <td>0.10</td>\n      <td>2.2</td>\n      <td>0.062</td>\n      <td>39.0</td>\n      <td>51.0</td>\n      <td>0.99512</td>\n      <td>3.52</td>\n      <td>0.76</td>\n      <td>11.2</td>\n      <td>6</td>\n    </tr>\n    <tr>\n      <th>1596</th>\n      <td>6.3</td>\n      <td>0.510</td>\n      <td>0.13</td>\n      <td>2.3</td>\n      <td>0.076</td>\n      <td>29.0</td>\n      <td>40.0</td>\n      <td>0.99574</td>\n      <td>3.42</td>\n      <td>0.75</td>\n      <td>11.0</td>\n      <td>6</td>\n    </tr>\n    <tr>\n      <th>1597</th>\n      <td>5.9</td>\n      <td>0.645</td>\n      <td>0.12</td>\n      <td>2.0</td>\n      <td>0.075</td>\n      <td>32.0</td>\n      <td>44.0</td>\n      <td>0.99547</td>\n      <td>3.57</td>\n      <td>0.71</td>\n      <td>10.2</td>\n      <td>5</td>\n    </tr>\n    <tr>\n      <th>1598</th>\n      <td>6.0</td>\n      <td>0.310</td>\n      <td>0.47</td>\n      <td>3.6</td>\n      <td>0.067</td>\n      <td>18.0</td>\n      <td>42.0</td>\n      <td>0.99549</td>\n      <td>3.39</td>\n      <td>0.66</td>\n      <td>11.0</td>\n      <td>6</td>\n    </tr>\n  </tbody>\n</table>\n<p>1599 rows × 12 columns</p>\n</div>"
     },
     "execution_count": 93,
     "metadata": {},
     "output_type": "execute_result"
    }
   ],
   "source": [
    "wine"
   ],
   "metadata": {
    "collapsed": false,
    "ExecuteTime": {
     "end_time": "2024-02-28T10:31:50.479381800Z",
     "start_time": "2024-02-28T10:31:50.427791600Z"
    }
   },
   "id": "6120b4036b14d72",
   "execution_count": 93
  },
  {
   "cell_type": "markdown",
   "source": [
    "## **scaling**"
   ],
   "metadata": {
    "collapsed": false
   },
   "id": "555d4cc05160be39"
  },
  {
   "cell_type": "code",
   "outputs": [],
   "source": [
    "scaler = StandardScaler()"
   ],
   "metadata": {
    "collapsed": false,
    "ExecuteTime": {
     "end_time": "2024-02-28T10:31:50.479883400Z",
     "start_time": "2024-02-28T10:31:50.457352200Z"
    }
   },
   "id": "54e7759b088d38b5",
   "execution_count": 94
  },
  {
   "cell_type": "code",
   "outputs": [
    {
     "data": {
      "text/plain": "      fixed acidity  volatile acidity  citric acid  residual sugar  chlorides  \\\n0         -0.528360          0.961877    -1.391472       -0.453218  -0.243707   \n1         -0.298547          1.967442    -1.391472        0.043416   0.223875   \n2         -0.298547          1.297065    -1.186070       -0.169427   0.096353   \n3          1.654856         -1.384443     1.484154       -0.453218  -0.264960   \n4         -0.528360          0.961877    -1.391472       -0.453218  -0.243707   \n...             ...               ...          ...             ...        ...   \n1594      -1.217796          0.403229    -0.980669       -0.382271   0.053845   \n1595      -1.390155          0.123905    -0.877968       -0.240375  -0.541259   \n1596      -1.160343         -0.099554    -0.723916       -0.169427  -0.243707   \n1597      -1.390155          0.654620    -0.775267       -0.382271  -0.264960   \n1598      -1.332702         -1.216849     1.021999        0.752894  -0.434990   \n\n      free sulfur dioxide  total sulfur dioxide   density        pH  \\\n0               -0.466193             -0.379133  0.558274  1.288643   \n1                0.872638              0.624363  0.028261 -0.719933   \n2               -0.083669              0.229047  0.134264 -0.331177   \n3                0.107592              0.411500  0.664277 -0.979104   \n4               -0.466193             -0.379133  0.558274  1.288643   \n...                   ...                   ...       ...       ...   \n1594             1.542054             -0.075043 -0.978765  0.899886   \n1595             2.211469              0.137820 -0.862162  1.353436   \n1596             1.255161             -0.196679 -0.533554  0.705508   \n1597             1.542054             -0.075043 -0.676657  1.677400   \n1598             0.203223             -0.135861 -0.666057  0.511130   \n\n      sulphates   alcohol  quality  \n0     -0.579207 -0.960246        5  \n1      0.128950 -0.584777        5  \n2     -0.048089 -0.584777        5  \n3     -0.461180 -0.584777        6  \n4     -0.579207 -0.960246        5  \n...         ...       ...      ...  \n1594  -0.461180  0.072294        5  \n1595   0.601055  0.729364        6  \n1596   0.542042  0.541630        6  \n1597   0.305990 -0.209308        5  \n1598   0.010924  0.541630        6  \n\n[1599 rows x 12 columns]",
      "text/html": "<div>\n<style scoped>\n    .dataframe tbody tr th:only-of-type {\n        vertical-align: middle;\n    }\n\n    .dataframe tbody tr th {\n        vertical-align: top;\n    }\n\n    .dataframe thead th {\n        text-align: right;\n    }\n</style>\n<table border=\"1\" class=\"dataframe\">\n  <thead>\n    <tr style=\"text-align: right;\">\n      <th></th>\n      <th>fixed acidity</th>\n      <th>volatile acidity</th>\n      <th>citric acid</th>\n      <th>residual sugar</th>\n      <th>chlorides</th>\n      <th>free sulfur dioxide</th>\n      <th>total sulfur dioxide</th>\n      <th>density</th>\n      <th>pH</th>\n      <th>sulphates</th>\n      <th>alcohol</th>\n      <th>quality</th>\n    </tr>\n  </thead>\n  <tbody>\n    <tr>\n      <th>0</th>\n      <td>-0.528360</td>\n      <td>0.961877</td>\n      <td>-1.391472</td>\n      <td>-0.453218</td>\n      <td>-0.243707</td>\n      <td>-0.466193</td>\n      <td>-0.379133</td>\n      <td>0.558274</td>\n      <td>1.288643</td>\n      <td>-0.579207</td>\n      <td>-0.960246</td>\n      <td>5</td>\n    </tr>\n    <tr>\n      <th>1</th>\n      <td>-0.298547</td>\n      <td>1.967442</td>\n      <td>-1.391472</td>\n      <td>0.043416</td>\n      <td>0.223875</td>\n      <td>0.872638</td>\n      <td>0.624363</td>\n      <td>0.028261</td>\n      <td>-0.719933</td>\n      <td>0.128950</td>\n      <td>-0.584777</td>\n      <td>5</td>\n    </tr>\n    <tr>\n      <th>2</th>\n      <td>-0.298547</td>\n      <td>1.297065</td>\n      <td>-1.186070</td>\n      <td>-0.169427</td>\n      <td>0.096353</td>\n      <td>-0.083669</td>\n      <td>0.229047</td>\n      <td>0.134264</td>\n      <td>-0.331177</td>\n      <td>-0.048089</td>\n      <td>-0.584777</td>\n      <td>5</td>\n    </tr>\n    <tr>\n      <th>3</th>\n      <td>1.654856</td>\n      <td>-1.384443</td>\n      <td>1.484154</td>\n      <td>-0.453218</td>\n      <td>-0.264960</td>\n      <td>0.107592</td>\n      <td>0.411500</td>\n      <td>0.664277</td>\n      <td>-0.979104</td>\n      <td>-0.461180</td>\n      <td>-0.584777</td>\n      <td>6</td>\n    </tr>\n    <tr>\n      <th>4</th>\n      <td>-0.528360</td>\n      <td>0.961877</td>\n      <td>-1.391472</td>\n      <td>-0.453218</td>\n      <td>-0.243707</td>\n      <td>-0.466193</td>\n      <td>-0.379133</td>\n      <td>0.558274</td>\n      <td>1.288643</td>\n      <td>-0.579207</td>\n      <td>-0.960246</td>\n      <td>5</td>\n    </tr>\n    <tr>\n      <th>...</th>\n      <td>...</td>\n      <td>...</td>\n      <td>...</td>\n      <td>...</td>\n      <td>...</td>\n      <td>...</td>\n      <td>...</td>\n      <td>...</td>\n      <td>...</td>\n      <td>...</td>\n      <td>...</td>\n      <td>...</td>\n    </tr>\n    <tr>\n      <th>1594</th>\n      <td>-1.217796</td>\n      <td>0.403229</td>\n      <td>-0.980669</td>\n      <td>-0.382271</td>\n      <td>0.053845</td>\n      <td>1.542054</td>\n      <td>-0.075043</td>\n      <td>-0.978765</td>\n      <td>0.899886</td>\n      <td>-0.461180</td>\n      <td>0.072294</td>\n      <td>5</td>\n    </tr>\n    <tr>\n      <th>1595</th>\n      <td>-1.390155</td>\n      <td>0.123905</td>\n      <td>-0.877968</td>\n      <td>-0.240375</td>\n      <td>-0.541259</td>\n      <td>2.211469</td>\n      <td>0.137820</td>\n      <td>-0.862162</td>\n      <td>1.353436</td>\n      <td>0.601055</td>\n      <td>0.729364</td>\n      <td>6</td>\n    </tr>\n    <tr>\n      <th>1596</th>\n      <td>-1.160343</td>\n      <td>-0.099554</td>\n      <td>-0.723916</td>\n      <td>-0.169427</td>\n      <td>-0.243707</td>\n      <td>1.255161</td>\n      <td>-0.196679</td>\n      <td>-0.533554</td>\n      <td>0.705508</td>\n      <td>0.542042</td>\n      <td>0.541630</td>\n      <td>6</td>\n    </tr>\n    <tr>\n      <th>1597</th>\n      <td>-1.390155</td>\n      <td>0.654620</td>\n      <td>-0.775267</td>\n      <td>-0.382271</td>\n      <td>-0.264960</td>\n      <td>1.542054</td>\n      <td>-0.075043</td>\n      <td>-0.676657</td>\n      <td>1.677400</td>\n      <td>0.305990</td>\n      <td>-0.209308</td>\n      <td>5</td>\n    </tr>\n    <tr>\n      <th>1598</th>\n      <td>-1.332702</td>\n      <td>-1.216849</td>\n      <td>1.021999</td>\n      <td>0.752894</td>\n      <td>-0.434990</td>\n      <td>0.203223</td>\n      <td>-0.135861</td>\n      <td>-0.666057</td>\n      <td>0.511130</td>\n      <td>0.010924</td>\n      <td>0.541630</td>\n      <td>6</td>\n    </tr>\n  </tbody>\n</table>\n<p>1599 rows × 12 columns</p>\n</div>"
     },
     "execution_count": 95,
     "metadata": {},
     "output_type": "execute_result"
    }
   ],
   "source": [
    "scaled_wine = scaler.fit_transform(wine[wine.drop('quality', axis=1).columns])\n",
    "wine[wine.drop('quality', axis=1).columns] = scaled_wine\n",
    "wine"
   ],
   "metadata": {
    "collapsed": false,
    "ExecuteTime": {
     "end_time": "2024-02-28T10:31:50.589070600Z",
     "start_time": "2024-02-28T10:31:50.483401700Z"
    }
   },
   "id": "5c2232d06856a26d",
   "execution_count": 95
  },
  {
   "cell_type": "markdown",
   "source": [
    "## **train/test/split**"
   ],
   "metadata": {
    "collapsed": false
   },
   "id": "8f7f70b574a417a3"
  },
  {
   "cell_type": "code",
   "outputs": [],
   "source": [
    "from sklearn.model_selection import train_test_split"
   ],
   "metadata": {
    "collapsed": false,
    "ExecuteTime": {
     "end_time": "2024-02-28T10:31:50.616226300Z",
     "start_time": "2024-02-28T10:31:50.525966600Z"
    }
   },
   "id": "f163a3778fcc454a",
   "execution_count": 96
  },
  {
   "cell_type": "code",
   "outputs": [],
   "source": [
    "X = wine[[\"fixed acidity\", \"volatile acidity\", \"citric acid\", \"residual sugar\", \"chlorides\", \"free sulfur dioxide\", \"total sulfur dioxide\", \"density\", \"pH\", \"sulphates\", \"alcohol\"]]\n",
    "y = wine[\"quality\"]"
   ],
   "metadata": {
    "collapsed": false,
    "ExecuteTime": {
     "end_time": "2024-02-28T10:31:50.666790900Z",
     "start_time": "2024-02-28T10:31:50.600199Z"
    }
   },
   "id": "5a7411b7beff6d47",
   "execution_count": 97
  },
  {
   "cell_type": "code",
   "outputs": [],
   "source": [
    "X_train, X_test, y_train, y_test = train_test_split(X,y, test_size=0.3, random_state=101)"
   ],
   "metadata": {
    "collapsed": false,
    "ExecuteTime": {
     "end_time": "2024-02-28T10:31:50.724394Z",
     "start_time": "2024-02-28T10:31:50.670292800Z"
    }
   },
   "id": "d0277ae1aa210804",
   "execution_count": 98
  },
  {
   "cell_type": "markdown",
   "source": [
    "## **forest**"
   ],
   "metadata": {
    "collapsed": false
   },
   "id": "77a6e3fd619865dd"
  },
  {
   "cell_type": "code",
   "outputs": [],
   "source": [
    "from sklearn.ensemble import RandomForestClassifier"
   ],
   "metadata": {
    "collapsed": false,
    "ExecuteTime": {
     "end_time": "2024-02-28T10:31:50.736911100Z",
     "start_time": "2024-02-28T10:31:50.717878300Z"
    }
   },
   "id": "3e3eb96d777119c7",
   "execution_count": 99
  },
  {
   "cell_type": "code",
   "outputs": [],
   "source": [
    "rfc = RandomForestClassifier(n_estimators=500)"
   ],
   "metadata": {
    "collapsed": false,
    "ExecuteTime": {
     "end_time": "2024-02-28T10:31:50.770970700Z",
     "start_time": "2024-02-28T10:31:50.739913300Z"
    }
   },
   "id": "461ee256a3d961c0",
   "execution_count": 100
  },
  {
   "cell_type": "code",
   "outputs": [
    {
     "data": {
      "text/plain": "RandomForestClassifier(n_estimators=500)",
      "text/html": "<style>#sk-container-id-3 {color: black;}#sk-container-id-3 pre{padding: 0;}#sk-container-id-3 div.sk-toggleable {background-color: white;}#sk-container-id-3 label.sk-toggleable__label {cursor: pointer;display: block;width: 100%;margin-bottom: 0;padding: 0.3em;box-sizing: border-box;text-align: center;}#sk-container-id-3 label.sk-toggleable__label-arrow:before {content: \"▸\";float: left;margin-right: 0.25em;color: #696969;}#sk-container-id-3 label.sk-toggleable__label-arrow:hover:before {color: black;}#sk-container-id-3 div.sk-estimator:hover label.sk-toggleable__label-arrow:before {color: black;}#sk-container-id-3 div.sk-toggleable__content {max-height: 0;max-width: 0;overflow: hidden;text-align: left;background-color: #f0f8ff;}#sk-container-id-3 div.sk-toggleable__content pre {margin: 0.2em;color: black;border-radius: 0.25em;background-color: #f0f8ff;}#sk-container-id-3 input.sk-toggleable__control:checked~div.sk-toggleable__content {max-height: 200px;max-width: 100%;overflow: auto;}#sk-container-id-3 input.sk-toggleable__control:checked~label.sk-toggleable__label-arrow:before {content: \"▾\";}#sk-container-id-3 div.sk-estimator input.sk-toggleable__control:checked~label.sk-toggleable__label {background-color: #d4ebff;}#sk-container-id-3 div.sk-label input.sk-toggleable__control:checked~label.sk-toggleable__label {background-color: #d4ebff;}#sk-container-id-3 input.sk-hidden--visually {border: 0;clip: rect(1px 1px 1px 1px);clip: rect(1px, 1px, 1px, 1px);height: 1px;margin: -1px;overflow: hidden;padding: 0;position: absolute;width: 1px;}#sk-container-id-3 div.sk-estimator {font-family: monospace;background-color: #f0f8ff;border: 1px dotted black;border-radius: 0.25em;box-sizing: border-box;margin-bottom: 0.5em;}#sk-container-id-3 div.sk-estimator:hover {background-color: #d4ebff;}#sk-container-id-3 div.sk-parallel-item::after {content: \"\";width: 100%;border-bottom: 1px solid gray;flex-grow: 1;}#sk-container-id-3 div.sk-label:hover label.sk-toggleable__label {background-color: #d4ebff;}#sk-container-id-3 div.sk-serial::before {content: \"\";position: absolute;border-left: 1px solid gray;box-sizing: border-box;top: 0;bottom: 0;left: 50%;z-index: 0;}#sk-container-id-3 div.sk-serial {display: flex;flex-direction: column;align-items: center;background-color: white;padding-right: 0.2em;padding-left: 0.2em;position: relative;}#sk-container-id-3 div.sk-item {position: relative;z-index: 1;}#sk-container-id-3 div.sk-parallel {display: flex;align-items: stretch;justify-content: center;background-color: white;position: relative;}#sk-container-id-3 div.sk-item::before, #sk-container-id-3 div.sk-parallel-item::before {content: \"\";position: absolute;border-left: 1px solid gray;box-sizing: border-box;top: 0;bottom: 0;left: 50%;z-index: -1;}#sk-container-id-3 div.sk-parallel-item {display: flex;flex-direction: column;z-index: 1;position: relative;background-color: white;}#sk-container-id-3 div.sk-parallel-item:first-child::after {align-self: flex-end;width: 50%;}#sk-container-id-3 div.sk-parallel-item:last-child::after {align-self: flex-start;width: 50%;}#sk-container-id-3 div.sk-parallel-item:only-child::after {width: 0;}#sk-container-id-3 div.sk-dashed-wrapped {border: 1px dashed gray;margin: 0 0.4em 0.5em 0.4em;box-sizing: border-box;padding-bottom: 0.4em;background-color: white;}#sk-container-id-3 div.sk-label label {font-family: monospace;font-weight: bold;display: inline-block;line-height: 1.2em;}#sk-container-id-3 div.sk-label-container {text-align: center;}#sk-container-id-3 div.sk-container {/* jupyter's `normalize.less` sets `[hidden] { display: none; }` but bootstrap.min.css set `[hidden] { display: none !important; }` so we also need the `!important` here to be able to override the default hidden behavior on the sphinx rendered scikit-learn.org. See: https://github.com/scikit-learn/scikit-learn/issues/21755 */display: inline-block !important;position: relative;}#sk-container-id-3 div.sk-text-repr-fallback {display: none;}</style><div id=\"sk-container-id-3\" class=\"sk-top-container\"><div class=\"sk-text-repr-fallback\"><pre>RandomForestClassifier(n_estimators=500)</pre><b>In a Jupyter environment, please rerun this cell to show the HTML representation or trust the notebook. <br />On GitHub, the HTML representation is unable to render, please try loading this page with nbviewer.org.</b></div><div class=\"sk-container\" hidden><div class=\"sk-item\"><div class=\"sk-estimator sk-toggleable\"><input class=\"sk-toggleable__control sk-hidden--visually\" id=\"sk-estimator-id-3\" type=\"checkbox\" checked><label for=\"sk-estimator-id-3\" class=\"sk-toggleable__label sk-toggleable__label-arrow\">RandomForestClassifier</label><div class=\"sk-toggleable__content\"><pre>RandomForestClassifier(n_estimators=500)</pre></div></div></div></div></div>"
     },
     "execution_count": 101,
     "metadata": {},
     "output_type": "execute_result"
    }
   ],
   "source": [
    "rfc.fit(X_train, y_train)"
   ],
   "metadata": {
    "collapsed": false,
    "ExecuteTime": {
     "end_time": "2024-02-28T10:31:52.367088900Z",
     "start_time": "2024-02-28T10:31:50.750933300Z"
    }
   },
   "id": "a4a670bb51b70e3c",
   "execution_count": 101
  },
  {
   "cell_type": "markdown",
   "source": [
    "## forest predict + eval"
   ],
   "metadata": {
    "collapsed": false
   },
   "id": "20903fddaf440b34"
  },
  {
   "cell_type": "code",
   "outputs": [
    {
     "data": {
      "text/plain": "array([5, 5, 5, 7, 6, 6, 6, 6, 6, 5, 6, 5, 6, 5, 6, 5, 6, 5, 5, 6, 6, 6,\n       5, 5, 5, 5, 5, 6, 7, 5, 5, 5, 6, 5, 6, 6, 6, 6, 5, 5, 7, 5, 6, 6,\n       7, 6, 6, 6, 5, 6, 5, 6, 5, 6, 6, 6, 6, 8, 7, 7, 5, 5, 5, 5, 5, 6,\n       5, 6, 5, 5, 5, 6, 6, 6, 5, 7, 6, 6, 5, 7, 5, 6, 5, 6, 6, 5, 5, 6,\n       5, 5, 6, 6, 5, 5, 7, 6, 5, 6, 5, 6, 5, 6, 5, 7, 5, 5, 5, 6, 5, 6,\n       6, 6, 5, 7, 5, 6, 6, 5, 6, 5, 6, 5, 5, 7, 6, 5, 6, 5, 6, 5, 5, 5,\n       6, 6, 5, 7, 5, 6, 6, 6, 5, 6, 5, 5, 6, 7, 5, 6, 6, 5, 6, 6, 5, 6,\n       6, 5, 5, 5, 6, 5, 5, 6, 5, 5, 7, 6, 6, 7, 6, 5, 5, 6, 6, 5, 6, 6,\n       6, 6, 6, 5, 7, 6, 5, 5, 6, 6, 6, 6, 6, 5, 6, 6, 6, 6, 5, 6, 5, 5,\n       6, 6, 5, 6, 6, 7, 6, 5, 6, 6, 6, 6, 6, 5, 7, 5, 5, 7, 5, 6, 5, 5,\n       6, 7, 5, 6, 7, 6, 6, 6, 6, 6, 5, 6, 6, 5, 5, 5, 6, 5, 6, 5, 6, 5,\n       6, 5, 5, 5, 5, 6, 5, 5, 6, 6, 5, 5, 6, 5, 6, 5, 6, 6, 5, 7, 5, 5,\n       5, 6, 5, 5, 6, 7, 5, 6, 6, 5, 6, 5, 5, 6, 6, 5, 6, 6, 6, 7, 5, 6,\n       5, 5, 5, 5, 6, 5, 5, 5, 6, 8, 5, 6, 5, 5, 7, 5, 6, 5, 6, 5, 6, 6,\n       5, 5, 6, 7, 5, 6, 5, 6, 5, 6, 6, 5, 5, 5, 5, 7, 5, 7, 6, 5, 5, 5,\n       7, 5, 5, 6, 7, 5, 5, 5, 6, 5, 6, 6, 6, 7, 6, 5, 5, 6, 6, 5, 6, 6,\n       5, 7, 7, 7, 6, 5, 5, 6, 6, 6, 5, 6, 5, 5, 6, 6, 6, 5, 7, 5, 5, 5,\n       5, 7, 7, 7, 5, 6, 5, 7, 5, 5, 5, 6, 6, 5, 6, 6, 6, 6, 5, 5, 6, 6,\n       5, 6, 5, 6, 5, 5, 6, 7, 7, 6, 5, 6, 5, 6, 5, 6, 6, 5, 5, 6, 5, 6,\n       4, 5, 5, 5, 4, 5, 5, 5, 6, 7, 6, 6, 7, 7, 5, 6, 6, 5, 6, 5, 5, 6,\n       6, 6, 7, 6, 5, 6, 6, 5, 5, 6, 5, 6, 5, 6, 6, 6, 5, 6, 6, 5, 5, 5,\n       6, 6, 5, 5, 5, 5, 5, 5, 5, 7, 5, 5, 5, 6, 7, 6, 5, 6], dtype=int64)"
     },
     "execution_count": 102,
     "metadata": {},
     "output_type": "execute_result"
    }
   ],
   "source": [
    "rfc_predict= rfc.predict(X_test)\n",
    "rfc_predict"
   ],
   "metadata": {
    "collapsed": false,
    "ExecuteTime": {
     "end_time": "2024-02-28T10:31:52.436077500Z",
     "start_time": "2024-02-28T10:31:52.367590300Z"
    }
   },
   "id": "ad991f1d326193e9",
   "execution_count": 102
  },
  {
   "cell_type": "code",
   "outputs": [],
   "source": [
    "from sklearn.metrics import accuracy_score, confusion_matrix, precision_score, recall_score"
   ],
   "metadata": {
    "collapsed": false,
    "ExecuteTime": {
     "end_time": "2024-02-28T10:31:52.444206700Z",
     "start_time": "2024-02-28T10:31:52.429559Z"
    }
   },
   "id": "5ce8c13a515909e5",
   "execution_count": 103
  },
  {
   "cell_type": "code",
   "outputs": [
    {
     "data": {
      "text/plain": "0.6520833333333333"
     },
     "execution_count": 114,
     "metadata": {},
     "output_type": "execute_result"
    }
   ],
   "source": [
    "accuracy_score(y_test, rfc_predict)"
   ],
   "metadata": {
    "collapsed": false,
    "ExecuteTime": {
     "end_time": "2024-02-28T10:38:17.770388500Z",
     "start_time": "2024-02-28T10:38:17.729884600Z"
    }
   },
   "id": "20b0980ca3f1cca1",
   "execution_count": 114
  },
  {
   "cell_type": "code",
   "outputs": [
    {
     "data": {
      "text/plain": "array([[  0,   0,   5,   0,   0,   0],\n       [  0,   0,  14,   5,   0,   0],\n       [  0,   1, 160,  46,   1,   0],\n       [  0,   1,  39, 124,  16,   0],\n       [  0,   0,   1,  33,  28,   1],\n       [  0,   0,   0,   1,   3,   1]], dtype=int64)"
     },
     "execution_count": 115,
     "metadata": {},
     "output_type": "execute_result"
    }
   ],
   "source": [
    "confusion_matrix(y_test, rfc_predict)"
   ],
   "metadata": {
    "collapsed": false,
    "ExecuteTime": {
     "end_time": "2024-02-28T10:38:17.943416Z",
     "start_time": "2024-02-28T10:38:17.914803600Z"
    }
   },
   "id": "9e83054b59c6761d",
   "execution_count": 115
  },
  {
   "cell_type": "code",
   "outputs": [
    {
     "name": "stderr",
     "output_type": "stream",
     "text": [
      "C:\\Users\\afkjh\\DataspellProjects\\untitled\\venv\\lib\\site-packages\\sklearn\\metrics\\_classification.py:1471: UndefinedMetricWarning: Precision is ill-defined and being set to 0.0 in labels with no predicted samples. Use `zero_division` parameter to control this behavior.\n",
      "  _warn_prf(average, modifier, msg_start, len(result))\n"
     ]
    },
    {
     "data": {
      "text/plain": "0.6208494347767509"
     },
     "execution_count": 116,
     "metadata": {},
     "output_type": "execute_result"
    }
   ],
   "source": [
    "precision_score(y_test, rfc_predict, average=\"weighted\")"
   ],
   "metadata": {
    "collapsed": false,
    "ExecuteTime": {
     "end_time": "2024-02-28T10:38:18.140795Z",
     "start_time": "2024-02-28T10:38:18.125768400Z"
    }
   },
   "id": "891ccf3c6dac54ee",
   "execution_count": 116
  },
  {
   "cell_type": "code",
   "outputs": [
    {
     "data": {
      "text/plain": "0.6520833333333333"
     },
     "execution_count": 117,
     "metadata": {},
     "output_type": "execute_result"
    }
   ],
   "source": [
    "recall_score(y_test, rfc_predict, average=\"weighted\")"
   ],
   "metadata": {
    "collapsed": false,
    "ExecuteTime": {
     "end_time": "2024-02-28T10:38:18.507061900Z",
     "start_time": "2024-02-28T10:38:18.478014Z"
    }
   },
   "id": "746de39aea3a2d83",
   "execution_count": 117
  },
  {
   "cell_type": "markdown",
   "source": [
    "## **logistic**"
   ],
   "metadata": {
    "collapsed": false
   },
   "id": "51b224df2e2bf881"
  },
  {
   "cell_type": "code",
   "outputs": [
    {
     "data": {
      "text/plain": "LogisticRegression(max_iter=1000)",
      "text/html": "<style>#sk-container-id-5 {color: black;}#sk-container-id-5 pre{padding: 0;}#sk-container-id-5 div.sk-toggleable {background-color: white;}#sk-container-id-5 label.sk-toggleable__label {cursor: pointer;display: block;width: 100%;margin-bottom: 0;padding: 0.3em;box-sizing: border-box;text-align: center;}#sk-container-id-5 label.sk-toggleable__label-arrow:before {content: \"▸\";float: left;margin-right: 0.25em;color: #696969;}#sk-container-id-5 label.sk-toggleable__label-arrow:hover:before {color: black;}#sk-container-id-5 div.sk-estimator:hover label.sk-toggleable__label-arrow:before {color: black;}#sk-container-id-5 div.sk-toggleable__content {max-height: 0;max-width: 0;overflow: hidden;text-align: left;background-color: #f0f8ff;}#sk-container-id-5 div.sk-toggleable__content pre {margin: 0.2em;color: black;border-radius: 0.25em;background-color: #f0f8ff;}#sk-container-id-5 input.sk-toggleable__control:checked~div.sk-toggleable__content {max-height: 200px;max-width: 100%;overflow: auto;}#sk-container-id-5 input.sk-toggleable__control:checked~label.sk-toggleable__label-arrow:before {content: \"▾\";}#sk-container-id-5 div.sk-estimator input.sk-toggleable__control:checked~label.sk-toggleable__label {background-color: #d4ebff;}#sk-container-id-5 div.sk-label input.sk-toggleable__control:checked~label.sk-toggleable__label {background-color: #d4ebff;}#sk-container-id-5 input.sk-hidden--visually {border: 0;clip: rect(1px 1px 1px 1px);clip: rect(1px, 1px, 1px, 1px);height: 1px;margin: -1px;overflow: hidden;padding: 0;position: absolute;width: 1px;}#sk-container-id-5 div.sk-estimator {font-family: monospace;background-color: #f0f8ff;border: 1px dotted black;border-radius: 0.25em;box-sizing: border-box;margin-bottom: 0.5em;}#sk-container-id-5 div.sk-estimator:hover {background-color: #d4ebff;}#sk-container-id-5 div.sk-parallel-item::after {content: \"\";width: 100%;border-bottom: 1px solid gray;flex-grow: 1;}#sk-container-id-5 div.sk-label:hover label.sk-toggleable__label {background-color: #d4ebff;}#sk-container-id-5 div.sk-serial::before {content: \"\";position: absolute;border-left: 1px solid gray;box-sizing: border-box;top: 0;bottom: 0;left: 50%;z-index: 0;}#sk-container-id-5 div.sk-serial {display: flex;flex-direction: column;align-items: center;background-color: white;padding-right: 0.2em;padding-left: 0.2em;position: relative;}#sk-container-id-5 div.sk-item {position: relative;z-index: 1;}#sk-container-id-5 div.sk-parallel {display: flex;align-items: stretch;justify-content: center;background-color: white;position: relative;}#sk-container-id-5 div.sk-item::before, #sk-container-id-5 div.sk-parallel-item::before {content: \"\";position: absolute;border-left: 1px solid gray;box-sizing: border-box;top: 0;bottom: 0;left: 50%;z-index: -1;}#sk-container-id-5 div.sk-parallel-item {display: flex;flex-direction: column;z-index: 1;position: relative;background-color: white;}#sk-container-id-5 div.sk-parallel-item:first-child::after {align-self: flex-end;width: 50%;}#sk-container-id-5 div.sk-parallel-item:last-child::after {align-self: flex-start;width: 50%;}#sk-container-id-5 div.sk-parallel-item:only-child::after {width: 0;}#sk-container-id-5 div.sk-dashed-wrapped {border: 1px dashed gray;margin: 0 0.4em 0.5em 0.4em;box-sizing: border-box;padding-bottom: 0.4em;background-color: white;}#sk-container-id-5 div.sk-label label {font-family: monospace;font-weight: bold;display: inline-block;line-height: 1.2em;}#sk-container-id-5 div.sk-label-container {text-align: center;}#sk-container-id-5 div.sk-container {/* jupyter's `normalize.less` sets `[hidden] { display: none; }` but bootstrap.min.css set `[hidden] { display: none !important; }` so we also need the `!important` here to be able to override the default hidden behavior on the sphinx rendered scikit-learn.org. See: https://github.com/scikit-learn/scikit-learn/issues/21755 */display: inline-block !important;position: relative;}#sk-container-id-5 div.sk-text-repr-fallback {display: none;}</style><div id=\"sk-container-id-5\" class=\"sk-top-container\"><div class=\"sk-text-repr-fallback\"><pre>LogisticRegression(max_iter=1000)</pre><b>In a Jupyter environment, please rerun this cell to show the HTML representation or trust the notebook. <br />On GitHub, the HTML representation is unable to render, please try loading this page with nbviewer.org.</b></div><div class=\"sk-container\" hidden><div class=\"sk-item\"><div class=\"sk-estimator sk-toggleable\"><input class=\"sk-toggleable__control sk-hidden--visually\" id=\"sk-estimator-id-5\" type=\"checkbox\" checked><label for=\"sk-estimator-id-5\" class=\"sk-toggleable__label sk-toggleable__label-arrow\">LogisticRegression</label><div class=\"sk-toggleable__content\"><pre>LogisticRegression(max_iter=1000)</pre></div></div></div></div></div>"
     },
     "execution_count": 111,
     "metadata": {},
     "output_type": "execute_result"
    }
   ],
   "source": [
    "from sklearn.linear_model import LogisticRegression\n",
    "logmodel = LogisticRegression(max_iter=1000)\n",
    "logmodel.fit(X_train, y_train)"
   ],
   "metadata": {
    "collapsed": false,
    "ExecuteTime": {
     "end_time": "2024-02-28T10:36:48.845475800Z",
     "start_time": "2024-02-28T10:36:48.800919200Z"
    }
   },
   "id": "456548f2b2457459",
   "execution_count": 111
  },
  {
   "cell_type": "code",
   "outputs": [
    {
     "data": {
      "text/plain": "array([5, 5, 5, 5, 6, 7, 6, 6, 6, 6, 6, 6, 6, 5, 5, 5, 7, 5, 5, 6, 6, 6,\n       5, 6, 6, 5, 5, 6, 7, 5, 5, 5, 6, 5, 5, 6, 6, 6, 5, 5, 7, 5, 6, 6,\n       6, 6, 6, 7, 5, 5, 6, 6, 5, 5, 6, 6, 6, 6, 7, 7, 5, 5, 5, 6, 5, 6,\n       5, 6, 5, 6, 5, 6, 6, 6, 5, 7, 5, 6, 5, 7, 5, 6, 5, 5, 6, 5, 5, 6,\n       5, 5, 7, 6, 5, 6, 7, 5, 5, 6, 5, 6, 5, 6, 5, 6, 5, 5, 6, 6, 5, 7,\n       5, 6, 5, 6, 5, 6, 6, 5, 5, 5, 6, 6, 5, 7, 6, 5, 6, 5, 6, 6, 5, 5,\n       7, 6, 5, 7, 5, 6, 6, 7, 5, 6, 5, 5, 5, 7, 6, 6, 6, 5, 6, 6, 5, 6,\n       5, 5, 5, 5, 6, 5, 5, 5, 6, 5, 6, 6, 7, 6, 6, 6, 5, 6, 7, 5, 6, 7,\n       7, 6, 6, 5, 6, 5, 6, 5, 6, 5, 5, 6, 6, 5, 6, 7, 6, 6, 6, 6, 5, 5,\n       6, 6, 5, 6, 6, 7, 6, 5, 6, 6, 6, 6, 6, 5, 7, 5, 5, 7, 5, 6, 5, 5,\n       5, 7, 5, 6, 6, 6, 6, 6, 6, 6, 5, 5, 6, 5, 6, 5, 6, 5, 5, 6, 6, 6,\n       6, 5, 5, 5, 5, 6, 5, 6, 5, 6, 5, 5, 6, 5, 6, 5, 6, 7, 5, 7, 5, 6,\n       5, 6, 5, 5, 6, 7, 6, 6, 6, 5, 6, 5, 6, 6, 5, 6, 6, 6, 6, 6, 5, 6,\n       5, 5, 5, 6, 5, 5, 5, 5, 5, 6, 5, 6, 5, 5, 7, 5, 5, 5, 6, 5, 6, 6,\n       5, 6, 6, 6, 5, 5, 5, 5, 5, 5, 6, 5, 6, 5, 5, 7, 6, 7, 6, 5, 5, 5,\n       7, 5, 5, 6, 7, 5, 4, 5, 6, 5, 6, 6, 6, 6, 5, 5, 6, 6, 6, 5, 6, 6,\n       6, 7, 7, 7, 7, 6, 6, 6, 6, 6, 5, 6, 5, 6, 6, 6, 6, 5, 7, 5, 5, 6,\n       5, 6, 7, 7, 6, 6, 5, 7, 5, 5, 5, 6, 6, 5, 6, 6, 7, 6, 3, 5, 6, 6,\n       6, 5, 5, 6, 5, 5, 6, 6, 6, 6, 5, 6, 5, 7, 5, 7, 6, 6, 5, 6, 5, 6,\n       4, 5, 5, 5, 5, 5, 5, 5, 6, 7, 6, 6, 7, 7, 5, 6, 6, 5, 6, 5, 6, 6,\n       6, 7, 5, 7, 5, 6, 6, 5, 5, 5, 5, 6, 5, 6, 6, 6, 5, 6, 7, 5, 5, 5,\n       5, 5, 6, 3, 5, 5, 5, 5, 5, 8, 5, 5, 5, 6, 6, 5, 5, 6], dtype=int64)"
     },
     "execution_count": 113,
     "metadata": {},
     "output_type": "execute_result"
    }
   ],
   "source": [
    "logmodel_predict= logmodel.predict(X_test)\n",
    "logmodel_predict"
   ],
   "metadata": {
    "collapsed": false,
    "ExecuteTime": {
     "end_time": "2024-02-28T10:38:08.417246200Z",
     "start_time": "2024-02-28T10:38:08.397210200Z"
    }
   },
   "id": "b2171e9227d088c4",
   "execution_count": 113
  },
  {
   "cell_type": "code",
   "outputs": [
    {
     "data": {
      "text/plain": "0.5666666666666667"
     },
     "execution_count": 118,
     "metadata": {},
     "output_type": "execute_result"
    }
   ],
   "source": [
    "accuracy_score(y_test, logmodel_predict)"
   ],
   "metadata": {
    "collapsed": false,
    "ExecuteTime": {
     "end_time": "2024-02-28T10:39:06.320747200Z",
     "start_time": "2024-02-28T10:39:06.311237900Z"
    }
   },
   "id": "ddda316fa487f96e",
   "execution_count": 118
  },
  {
   "cell_type": "code",
   "outputs": [
    {
     "data": {
      "text/plain": "array([[  0,   1,   4,   0,   0,   0],\n       [  0,   0,   8,  10,   1,   0],\n       [  2,   1, 147,  54,   4,   0],\n       [  0,   0,  50, 105,  24,   1],\n       [  0,   0,   3,  40,  20,   0],\n       [  0,   0,   0,   3,   2,   0]], dtype=int64)"
     },
     "execution_count": 119,
     "metadata": {},
     "output_type": "execute_result"
    }
   ],
   "source": [
    "confusion_matrix(y_test, logmodel_predict)"
   ],
   "metadata": {
    "collapsed": false,
    "ExecuteTime": {
     "end_time": "2024-02-28T10:39:06.483016700Z",
     "start_time": "2024-02-28T10:39:06.465969600Z"
    }
   },
   "id": "9beb31378c46b848",
   "execution_count": 119
  },
  {
   "cell_type": "code",
   "outputs": [
    {
     "data": {
      "text/plain": "0.5376734184239733"
     },
     "execution_count": 120,
     "metadata": {},
     "output_type": "execute_result"
    }
   ],
   "source": [
    "precision_score(y_test, logmodel_predict, average=\"weighted\")"
   ],
   "metadata": {
    "collapsed": false,
    "ExecuteTime": {
     "end_time": "2024-02-28T10:39:06.660023100Z",
     "start_time": "2024-02-28T10:39:06.625331300Z"
    }
   },
   "id": "f9ed8a67bc8b16bf",
   "execution_count": 120
  },
  {
   "cell_type": "code",
   "outputs": [
    {
     "data": {
      "text/plain": "0.5666666666666667"
     },
     "execution_count": 121,
     "metadata": {},
     "output_type": "execute_result"
    }
   ],
   "source": [
    "recall_score(y_test, logmodel_predict, average=\"weighted\")"
   ],
   "metadata": {
    "collapsed": false,
    "ExecuteTime": {
     "end_time": "2024-02-28T10:39:07.296464300Z",
     "start_time": "2024-02-28T10:39:07.281449900Z"
    }
   },
   "id": "bc434e1aa19720e0",
   "execution_count": 121
  },
  {
   "cell_type": "markdown",
   "source": [
    "## **KNN**"
   ],
   "metadata": {
    "collapsed": false
   },
   "id": "c4cf2928980b1097"
  },
  {
   "cell_type": "code",
   "outputs": [],
   "source": [
    "from sklearn.neighbors import KNeighborsClassifier"
   ],
   "metadata": {
    "collapsed": false,
    "ExecuteTime": {
     "end_time": "2024-02-28T10:40:19.057430100Z",
     "start_time": "2024-02-28T10:40:19.038880700Z"
    }
   },
   "id": "d4ec95ed4cacc585",
   "execution_count": 122
  },
  {
   "cell_type": "code",
   "outputs": [],
   "source": [
    "knn = KNeighborsClassifier(n_neighbors=8)"
   ],
   "metadata": {
    "collapsed": false,
    "ExecuteTime": {
     "end_time": "2024-02-28T10:45:14.170661Z",
     "start_time": "2024-02-28T10:45:14.152636600Z"
    }
   },
   "id": "3183d46e39b4b026",
   "execution_count": 147
  },
  {
   "cell_type": "code",
   "outputs": [
    {
     "data": {
      "text/plain": "KNeighborsClassifier(n_neighbors=8)",
      "text/html": "<style>#sk-container-id-8 {color: black;}#sk-container-id-8 pre{padding: 0;}#sk-container-id-8 div.sk-toggleable {background-color: white;}#sk-container-id-8 label.sk-toggleable__label {cursor: pointer;display: block;width: 100%;margin-bottom: 0;padding: 0.3em;box-sizing: border-box;text-align: center;}#sk-container-id-8 label.sk-toggleable__label-arrow:before {content: \"▸\";float: left;margin-right: 0.25em;color: #696969;}#sk-container-id-8 label.sk-toggleable__label-arrow:hover:before {color: black;}#sk-container-id-8 div.sk-estimator:hover label.sk-toggleable__label-arrow:before {color: black;}#sk-container-id-8 div.sk-toggleable__content {max-height: 0;max-width: 0;overflow: hidden;text-align: left;background-color: #f0f8ff;}#sk-container-id-8 div.sk-toggleable__content pre {margin: 0.2em;color: black;border-radius: 0.25em;background-color: #f0f8ff;}#sk-container-id-8 input.sk-toggleable__control:checked~div.sk-toggleable__content {max-height: 200px;max-width: 100%;overflow: auto;}#sk-container-id-8 input.sk-toggleable__control:checked~label.sk-toggleable__label-arrow:before {content: \"▾\";}#sk-container-id-8 div.sk-estimator input.sk-toggleable__control:checked~label.sk-toggleable__label {background-color: #d4ebff;}#sk-container-id-8 div.sk-label input.sk-toggleable__control:checked~label.sk-toggleable__label {background-color: #d4ebff;}#sk-container-id-8 input.sk-hidden--visually {border: 0;clip: rect(1px 1px 1px 1px);clip: rect(1px, 1px, 1px, 1px);height: 1px;margin: -1px;overflow: hidden;padding: 0;position: absolute;width: 1px;}#sk-container-id-8 div.sk-estimator {font-family: monospace;background-color: #f0f8ff;border: 1px dotted black;border-radius: 0.25em;box-sizing: border-box;margin-bottom: 0.5em;}#sk-container-id-8 div.sk-estimator:hover {background-color: #d4ebff;}#sk-container-id-8 div.sk-parallel-item::after {content: \"\";width: 100%;border-bottom: 1px solid gray;flex-grow: 1;}#sk-container-id-8 div.sk-label:hover label.sk-toggleable__label {background-color: #d4ebff;}#sk-container-id-8 div.sk-serial::before {content: \"\";position: absolute;border-left: 1px solid gray;box-sizing: border-box;top: 0;bottom: 0;left: 50%;z-index: 0;}#sk-container-id-8 div.sk-serial {display: flex;flex-direction: column;align-items: center;background-color: white;padding-right: 0.2em;padding-left: 0.2em;position: relative;}#sk-container-id-8 div.sk-item {position: relative;z-index: 1;}#sk-container-id-8 div.sk-parallel {display: flex;align-items: stretch;justify-content: center;background-color: white;position: relative;}#sk-container-id-8 div.sk-item::before, #sk-container-id-8 div.sk-parallel-item::before {content: \"\";position: absolute;border-left: 1px solid gray;box-sizing: border-box;top: 0;bottom: 0;left: 50%;z-index: -1;}#sk-container-id-8 div.sk-parallel-item {display: flex;flex-direction: column;z-index: 1;position: relative;background-color: white;}#sk-container-id-8 div.sk-parallel-item:first-child::after {align-self: flex-end;width: 50%;}#sk-container-id-8 div.sk-parallel-item:last-child::after {align-self: flex-start;width: 50%;}#sk-container-id-8 div.sk-parallel-item:only-child::after {width: 0;}#sk-container-id-8 div.sk-dashed-wrapped {border: 1px dashed gray;margin: 0 0.4em 0.5em 0.4em;box-sizing: border-box;padding-bottom: 0.4em;background-color: white;}#sk-container-id-8 div.sk-label label {font-family: monospace;font-weight: bold;display: inline-block;line-height: 1.2em;}#sk-container-id-8 div.sk-label-container {text-align: center;}#sk-container-id-8 div.sk-container {/* jupyter's `normalize.less` sets `[hidden] { display: none; }` but bootstrap.min.css set `[hidden] { display: none !important; }` so we also need the `!important` here to be able to override the default hidden behavior on the sphinx rendered scikit-learn.org. See: https://github.com/scikit-learn/scikit-learn/issues/21755 */display: inline-block !important;position: relative;}#sk-container-id-8 div.sk-text-repr-fallback {display: none;}</style><div id=\"sk-container-id-8\" class=\"sk-top-container\"><div class=\"sk-text-repr-fallback\"><pre>KNeighborsClassifier(n_neighbors=8)</pre><b>In a Jupyter environment, please rerun this cell to show the HTML representation or trust the notebook. <br />On GitHub, the HTML representation is unable to render, please try loading this page with nbviewer.org.</b></div><div class=\"sk-container\" hidden><div class=\"sk-item\"><div class=\"sk-estimator sk-toggleable\"><input class=\"sk-toggleable__control sk-hidden--visually\" id=\"sk-estimator-id-8\" type=\"checkbox\" checked><label for=\"sk-estimator-id-8\" class=\"sk-toggleable__label sk-toggleable__label-arrow\">KNeighborsClassifier</label><div class=\"sk-toggleable__content\"><pre>KNeighborsClassifier(n_neighbors=8)</pre></div></div></div></div></div>"
     },
     "execution_count": 148,
     "metadata": {},
     "output_type": "execute_result"
    }
   ],
   "source": [
    "knn.fit(X_train,y_train)"
   ],
   "metadata": {
    "collapsed": false,
    "ExecuteTime": {
     "end_time": "2024-02-28T10:45:14.762880500Z",
     "start_time": "2024-02-28T10:45:14.721255400Z"
    }
   },
   "id": "2243110878deb41b",
   "execution_count": 148
  },
  {
   "cell_type": "code",
   "outputs": [
    {
     "data": {
      "text/plain": "array([5, 5, 5, 5, 6, 6, 7, 6, 5, 5, 5, 5, 6, 6, 6, 5, 7, 5, 5, 6, 6, 5,\n       5, 5, 5, 5, 5, 6, 7, 6, 5, 6, 6, 6, 5, 6, 6, 6, 5, 6, 6, 5, 6, 6,\n       7, 6, 6, 6, 5, 6, 5, 6, 6, 6, 6, 6, 7, 7, 7, 7, 5, 5, 5, 6, 5, 5,\n       5, 6, 5, 5, 5, 5, 6, 5, 5, 7, 5, 6, 6, 7, 5, 6, 6, 5, 6, 5, 6, 6,\n       5, 5, 6, 6, 5, 5, 7, 5, 6, 6, 5, 6, 5, 6, 5, 6, 6, 5, 5, 5, 5, 6,\n       6, 6, 5, 6, 6, 5, 7, 4, 5, 5, 6, 5, 5, 6, 6, 5, 6, 5, 5, 6, 5, 5,\n       6, 6, 5, 7, 5, 6, 6, 6, 5, 6, 6, 5, 6, 7, 5, 6, 6, 5, 5, 6, 4, 6,\n       5, 5, 5, 6, 6, 5, 5, 5, 5, 5, 6, 5, 7, 6, 6, 6, 5, 6, 6, 5, 6, 6,\n       7, 5, 6, 6, 7, 6, 5, 5, 5, 5, 5, 6, 6, 5, 6, 7, 6, 6, 6, 7, 6, 6,\n       6, 6, 5, 6, 5, 7, 6, 5, 6, 6, 6, 6, 6, 5, 7, 5, 5, 7, 5, 6, 6, 5,\n       6, 7, 6, 6, 7, 6, 6, 5, 6, 5, 5, 6, 5, 5, 6, 5, 6, 6, 5, 5, 6, 5,\n       6, 5, 5, 5, 5, 6, 5, 6, 5, 6, 5, 5, 5, 6, 6, 5, 6, 7, 5, 6, 5, 5,\n       5, 6, 5, 5, 6, 7, 5, 6, 6, 5, 6, 5, 6, 6, 6, 5, 6, 6, 6, 7, 5, 6,\n       5, 5, 5, 5, 6, 5, 6, 5, 5, 7, 5, 6, 5, 5, 7, 5, 5, 5, 6, 5, 6, 6,\n       5, 6, 7, 6, 5, 6, 5, 5, 5, 6, 6, 5, 5, 5, 5, 7, 5, 7, 6, 5, 5, 5,\n       7, 5, 5, 6, 7, 5, 4, 5, 5, 6, 6, 6, 6, 7, 6, 5, 7, 6, 5, 5, 6, 6,\n       6, 7, 7, 7, 7, 6, 5, 6, 5, 6, 5, 7, 6, 6, 6, 7, 6, 5, 6, 5, 6, 5,\n       5, 5, 7, 7, 6, 6, 6, 7, 5, 5, 5, 6, 5, 5, 6, 5, 7, 6, 4, 5, 6, 5,\n       5, 5, 6, 6, 5, 5, 6, 6, 7, 6, 5, 6, 5, 6, 5, 6, 6, 5, 5, 6, 5, 6,\n       4, 5, 6, 5, 6, 5, 6, 5, 6, 7, 6, 6, 7, 7, 6, 6, 6, 5, 6, 5, 5, 6,\n       5, 7, 6, 6, 5, 6, 6, 5, 5, 5, 5, 6, 5, 5, 6, 6, 5, 6, 6, 5, 5, 5,\n       6, 6, 5, 4, 5, 5, 6, 5, 5, 7, 5, 6, 5, 6, 6, 6, 5, 6], dtype=int64)"
     },
     "execution_count": 149,
     "metadata": {},
     "output_type": "execute_result"
    }
   ],
   "source": [
    "knn_predict = knn.predict(X_test)\n",
    "knn_predict"
   ],
   "metadata": {
    "collapsed": false,
    "ExecuteTime": {
     "end_time": "2024-02-28T10:45:15.283452700Z",
     "start_time": "2024-02-28T10:45:15.252400700Z"
    }
   },
   "id": "b469c3b35c408328",
   "execution_count": 149
  },
  {
   "cell_type": "code",
   "outputs": [
    {
     "data": {
      "text/plain": "0.5833333333333334"
     },
     "execution_count": 150,
     "metadata": {},
     "output_type": "execute_result"
    }
   ],
   "source": [
    "accuracy_score(y_test, knn_predict)"
   ],
   "metadata": {
    "collapsed": false,
    "ExecuteTime": {
     "end_time": "2024-02-28T10:45:16.128046100Z",
     "start_time": "2024-02-28T10:45:16.069897700Z"
    }
   },
   "id": "be8507a199be6e24",
   "execution_count": 150
  },
  {
   "cell_type": "code",
   "outputs": [
    {
     "data": {
      "text/plain": "array([[  0,   1,   2,   2,   0,   0],\n       [  0,   0,  13,   5,   1,   0],\n       [  0,   5, 144,  55,   4,   0],\n       [  0,   0,  48, 112,  20,   0],\n       [  0,   0,   6,  33,  24,   0],\n       [  0,   0,   0,   2,   3,   0]], dtype=int64)"
     },
     "execution_count": 151,
     "metadata": {},
     "output_type": "execute_result"
    }
   ],
   "source": [
    "confusion_matrix(y_test, knn_predict)"
   ],
   "metadata": {
    "collapsed": false,
    "ExecuteTime": {
     "end_time": "2024-02-28T10:45:16.858279600Z",
     "start_time": "2024-02-28T10:45:16.837253300Z"
    }
   },
   "id": "195bb522ef9bbe62",
   "execution_count": 151
  },
  {
   "cell_type": "code",
   "outputs": [
    {
     "name": "stderr",
     "output_type": "stream",
     "text": [
      "C:\\Users\\afkjh\\DataspellProjects\\untitled\\venv\\lib\\site-packages\\sklearn\\metrics\\_classification.py:1471: UndefinedMetricWarning: Precision is ill-defined and being set to 0.0 in labels with no predicted samples. Use `zero_division` parameter to control this behavior.\n",
      "  _warn_prf(average, modifier, msg_start, len(result))\n"
     ]
    },
    {
     "data": {
      "text/plain": "0.5544916073548394"
     },
     "execution_count": 152,
     "metadata": {},
     "output_type": "execute_result"
    }
   ],
   "source": [
    "precision_score(y_test, knn_predict, average=\"weighted\")"
   ],
   "metadata": {
    "collapsed": false,
    "ExecuteTime": {
     "end_time": "2024-02-28T10:45:17.634235200Z",
     "start_time": "2024-02-28T10:45:17.615571300Z"
    }
   },
   "id": "34551306d66b10fa",
   "execution_count": 152
  },
  {
   "cell_type": "code",
   "outputs": [
    {
     "data": {
      "text/plain": "0.5833333333333334"
     },
     "execution_count": 153,
     "metadata": {},
     "output_type": "execute_result"
    }
   ],
   "source": [
    "recall_score(y_test, knn_predict, average=\"weighted\")"
   ],
   "metadata": {
    "collapsed": false,
    "ExecuteTime": {
     "end_time": "2024-02-28T10:45:18.579376300Z",
     "start_time": "2024-02-28T10:45:18.563349500Z"
    }
   },
   "id": "be99921fb0ee5092",
   "execution_count": 153
  },
  {
   "cell_type": "code",
   "outputs": [
    {
     "data": {
      "text/plain": "[0.41041666666666665,\n 0.44375,\n 0.46875,\n 0.4270833333333333,\n 0.42083333333333334,\n 0.42291666666666666,\n 0.425,\n 0.4166666666666667,\n 0.4354166666666667,\n 0.42083333333333334,\n 0.4354166666666667,\n 0.4270833333333333,\n 0.4375,\n 0.4395833333333333,\n 0.4395833333333333,\n 0.4395833333333333,\n 0.44375,\n 0.45625,\n 0.46041666666666664]"
     },
     "execution_count": 136,
     "metadata": {},
     "output_type": "execute_result"
    }
   ],
   "source": [
    "error_mean =[]\n",
    "\n",
    "for i in range(1,20):\n",
    "    knn=KNeighborsClassifier(n_neighbors= i)\n",
    "    knn.fit(X_train, y_train)\n",
    "    pred_i = knn.predict(X_test)\n",
    "    error_mean.append(np.mean(pred_i != y_test))\n",
    "\n",
    "error_mean"
   ],
   "metadata": {
    "collapsed": false,
    "ExecuteTime": {
     "end_time": "2024-02-28T10:43:12.438330300Z",
     "start_time": "2024-02-28T10:43:11.950803Z"
    }
   },
   "id": "27a4f8478b3161ca",
   "execution_count": 136
  },
  {
   "cell_type": "code",
   "outputs": [],
   "source": [
    "import matplotlib.pyplot as plt"
   ],
   "metadata": {
    "collapsed": false,
    "ExecuteTime": {
     "end_time": "2024-02-28T10:43:52.019733200Z",
     "start_time": "2024-02-28T10:43:51.999718400Z"
    }
   },
   "id": "f553b17bd89b583a",
   "execution_count": 138
  },
  {
   "cell_type": "code",
   "outputs": [
    {
     "data": {
      "text/plain": "Text(0, 0.5, 'Mean Error')"
     },
     "execution_count": 139,
     "metadata": {},
     "output_type": "execute_result"
    },
    {
     "data": {
      "text/plain": "<Figure size 1200x600 with 1 Axes>",
      "image/png": "[encoded data removed]"
     },
     "metadata": {},
     "output_type": "display_data"
    }
   ],
   "source": [
    "plt.figure(figsize=(12, 6))\n",
    "plt.plot(range(1, 20), error_mean, color='red', linestyle='dashed', marker='o', markerfacecolor='blue', markersize=10)\n",
    "plt.title('Error Rate K Value')\n",
    "plt.xlabel('K Value')\n",
    "plt.ylabel('Mean Error')"
   ],
   "metadata": {
    "collapsed": false,
    "ExecuteTime": {
     "end_time": "2024-02-28T10:43:52.920802700Z",
     "start_time": "2024-02-28T10:43:52.718274Z"
    }
   },
   "id": "2694a6e85e97db54",
   "execution_count": 139
  },
  {
   "cell_type": "code",
   "outputs": [],
   "source": [],
   "metadata": {
    "collapsed": false
   },
   "id": "95762aadcf8471a0"
  }
 ],
 "metadata": {
  "kernelspec": {
   "display_name": "Python 3",
   "language": "python",
   "name": "python3"
  },
  "language_info": {
   "codemirror_mode": {
    "name": "ipython",
    "version": 2
   },
   "file_extension": ".py",
   "mimetype": "text/x-python",
   "name": "python",
   "nbconvert_exporter": "python",
   "pygments_lexer": "ipython2",
   "version": "2.7.6"
  }
 },
 "nbformat": 4,
 "nbformat_minor": 5
}
