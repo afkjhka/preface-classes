{
 "nbformat": 4,
 "nbformat_minor": 0,
 "metadata": {
  "colab": {
   "name": "M3_Data and Machine Learning Models_L4_Demonstration_Breast Cancer.ipynb",
   "provenance": [
    {
     "file_id": "1lgK5tyymBkZwChMRuffJGGhQxJjbEDkR",
     "timestamp": 1595654049401
    },
    {
     "file_id": "1ooiCDFijkITGjodnFP-3xlFjBwqgS9zf",
     "timestamp": 1589111956065
    }
   ],
   "collapsed_sections": []
  },
  "kernelspec": {
   "name": "python3",
   "language": "python",
   "display_name": "Python 3 (ipykernel)"
  }
 },
 "cells": [
  {
   "cell_type": "markdown",
   "metadata": {
    "id": "Rc8b1mg9tpQK",
    "colab_type": "text"
   },
   "source": [
    "# **Demonstration**"
   ]
  },
  {
   "cell_type": "markdown",
   "metadata": {
    "id": "D20DZBS2jcrK",
    "colab_type": "text"
   },
   "source": [
    "## **1. Data Acquisition**"
   ]
  },
  {
   "cell_type": "markdown",
   "metadata": {
    "id": "SBLf9PwGjfDM",
    "colab_type": "text"
   },
   "source": [
    "**Importing required libraries**"
   ]
  },
  {
   "cell_type": "code",
   "metadata": {
    "id": "0NgBkETC-DX4",
    "colab_type": "code",
    "colab": {
     "base_uri": "https://localhost:8080/",
     "height": 72
    },
    "executionInfo": {
     "status": "ok",
     "timestamp": 1595661895377,
     "user_tz": -480,
     "elapsed": 1059,
     "user": {
      "displayName": "Connie Sze",
      "photoUrl": "",
      "userId": "04636244361226698916"
     }
    },
    "outputId": "70ac9be6-2399-4afd-bf65-2fabe46eb291",
    "ExecuteTime": {
     "end_time": "2024-02-21T10:15:34.843220800Z",
     "start_time": "2024-02-21T10:15:34.829698200Z"
    }
   },
   "source": [
    "import pandas as pd\n",
    "import numpy as np\n",
    "import matplotlib.pyplot as plt\n",
    "import seaborn as sns"
   ],
   "execution_count": 1,
   "outputs": []
  },
  {
   "cell_type": "markdown",
   "metadata": {
    "id": "VcdcieIdjhYi",
    "colab_type": "text"
   },
   "source": [
    "**Loading an example dataset**"
   ]
  },
  {
   "cell_type": "code",
   "metadata": {
    "id": "s_xLglcf-ZnM",
    "colab_type": "code",
    "colab": {},
    "ExecuteTime": {
     "end_time": "2024-02-21T10:15:34.997165100Z",
     "start_time": "2024-02-21T10:15:34.843720800Z"
    }
   },
   "source": [
    "# get the dataset from sklearn\n",
    "from sklearn.datasets import load_breast_cancer"
   ],
   "execution_count": 2,
   "outputs": []
  },
  {
   "cell_type": "code",
   "metadata": {
    "id": "gw04ovGfsdCI",
    "colab_type": "code",
    "colab": {},
    "ExecuteTime": {
     "end_time": "2024-02-21T10:15:35.013211600Z",
     "start_time": "2024-02-21T10:15:34.998171200Z"
    }
   },
   "source": [
    "cancer = load_breast_cancer()"
   ],
   "execution_count": 3,
   "outputs": []
  },
  {
   "cell_type": "code",
   "metadata": {
    "id": "cA1K-Tm2sa1a",
    "colab_type": "code",
    "colab": {
     "base_uri": "https://localhost:8080/",
     "height": 34
    },
    "executionInfo": {
     "status": "ok",
     "timestamp": 1595661896342,
     "user_tz": -480,
     "elapsed": 1985,
     "user": {
      "displayName": "Connie Sze",
      "photoUrl": "",
      "userId": "04636244361226698916"
     }
    },
    "outputId": "6600f478-f1c6-4b0e-da05-0a4f734e5585",
    "ExecuteTime": {
     "end_time": "2024-02-21T10:15:35.040757600Z",
     "start_time": "2024-02-21T10:15:35.013711900Z"
    }
   },
   "source": [
    "type(cancer)"
   ],
   "execution_count": 4,
   "outputs": [
    {
     "data": {
      "text/plain": "sklearn.utils._bunch.Bunch"
     },
     "execution_count": 4,
     "metadata": {},
     "output_type": "execute_result"
    }
   ]
  },
  {
   "cell_type": "code",
   "metadata": {
    "id": "zj9KW2YT-31Q",
    "colab_type": "code",
    "colab": {
     "base_uri": "https://localhost:8080/",
     "height": 938
    },
    "executionInfo": {
     "status": "ok",
     "timestamp": 1595661896343,
     "user_tz": -480,
     "elapsed": 1972,
     "user": {
      "displayName": "Connie Sze",
      "photoUrl": "",
      "userId": "04636244361226698916"
     }
    },
    "outputId": "711e45b4-676a-4921-f99f-b44d640f9ef7",
    "ExecuteTime": {
     "end_time": "2024-02-21T10:15:35.054273200Z",
     "start_time": "2024-02-21T10:15:35.031243600Z"
    }
   },
   "source": [
    "cancer\n",
    "#the data set is presented in a dictionary form"
   ],
   "execution_count": 5,
   "outputs": [
    {
     "data": {
      "text/plain": "{'data': array([[1.799e+01, 1.038e+01, 1.228e+02, ..., 2.654e-01, 4.601e-01,\n         1.189e-01],\n        [2.057e+01, 1.777e+01, 1.329e+02, ..., 1.860e-01, 2.750e-01,\n         8.902e-02],\n        [1.969e+01, 2.125e+01, 1.300e+02, ..., 2.430e-01, 3.613e-01,\n         8.758e-02],\n        ...,\n        [1.660e+01, 2.808e+01, 1.083e+02, ..., 1.418e-01, 2.218e-01,\n         7.820e-02],\n        [2.060e+01, 2.933e+01, 1.401e+02, ..., 2.650e-01, 4.087e-01,\n         1.240e-01],\n        [7.760e+00, 2.454e+01, 4.792e+01, ..., 0.000e+00, 2.871e-01,\n         7.039e-02]]),\n 'target': array([0, 0, 0, 0, 0, 0, 0, 0, 0, 0, 0, 0, 0, 0, 0, 0, 0, 0, 0, 1, 1, 1,\n        0, 0, 0, 0, 0, 0, 0, 0, 0, 0, 0, 0, 0, 0, 0, 1, 0, 0, 0, 0, 0, 0,\n        0, 0, 1, 0, 1, 1, 1, 1, 1, 0, 0, 1, 0, 0, 1, 1, 1, 1, 0, 1, 0, 0,\n        1, 1, 1, 1, 0, 1, 0, 0, 1, 0, 1, 0, 0, 1, 1, 1, 0, 0, 1, 0, 0, 0,\n        1, 1, 1, 0, 1, 1, 0, 0, 1, 1, 1, 0, 0, 1, 1, 1, 1, 0, 1, 1, 0, 1,\n        1, 1, 1, 1, 1, 1, 1, 0, 0, 0, 1, 0, 0, 1, 1, 1, 0, 0, 1, 0, 1, 0,\n        0, 1, 0, 0, 1, 1, 0, 1, 1, 0, 1, 1, 1, 1, 0, 1, 1, 1, 1, 1, 1, 1,\n        1, 1, 0, 1, 1, 1, 1, 0, 0, 1, 0, 1, 1, 0, 0, 1, 1, 0, 0, 1, 1, 1,\n        1, 0, 1, 1, 0, 0, 0, 1, 0, 1, 0, 1, 1, 1, 0, 1, 1, 0, 0, 1, 0, 0,\n        0, 0, 1, 0, 0, 0, 1, 0, 1, 0, 1, 1, 0, 1, 0, 0, 0, 0, 1, 1, 0, 0,\n        1, 1, 1, 0, 1, 1, 1, 1, 1, 0, 0, 1, 1, 0, 1, 1, 0, 0, 1, 0, 1, 1,\n        1, 1, 0, 1, 1, 1, 1, 1, 0, 1, 0, 0, 0, 0, 0, 0, 0, 0, 0, 0, 0, 0,\n        0, 0, 1, 1, 1, 1, 1, 1, 0, 1, 0, 1, 1, 0, 1, 1, 0, 1, 0, 0, 1, 1,\n        1, 1, 1, 1, 1, 1, 1, 1, 1, 1, 1, 0, 1, 1, 0, 1, 0, 1, 1, 1, 1, 1,\n        1, 1, 1, 1, 1, 1, 1, 1, 1, 0, 1, 1, 1, 0, 1, 0, 1, 1, 1, 1, 0, 0,\n        0, 1, 1, 1, 1, 0, 1, 0, 1, 0, 1, 1, 1, 0, 1, 1, 1, 1, 1, 1, 1, 0,\n        0, 0, 1, 1, 1, 1, 1, 1, 1, 1, 1, 1, 1, 0, 0, 1, 0, 0, 0, 1, 0, 0,\n        1, 1, 1, 1, 1, 0, 1, 1, 1, 1, 1, 0, 1, 1, 1, 0, 1, 1, 0, 0, 1, 1,\n        1, 1, 1, 1, 0, 1, 1, 1, 1, 1, 1, 1, 0, 1, 1, 1, 1, 1, 0, 1, 1, 0,\n        1, 1, 1, 1, 1, 1, 1, 1, 1, 1, 1, 1, 0, 1, 0, 0, 1, 0, 1, 1, 1, 1,\n        1, 0, 1, 1, 0, 1, 0, 1, 1, 0, 1, 0, 1, 1, 1, 1, 1, 1, 1, 1, 0, 0,\n        1, 1, 1, 1, 1, 1, 0, 1, 1, 1, 1, 1, 1, 1, 1, 1, 1, 0, 1, 1, 1, 1,\n        1, 1, 1, 0, 1, 0, 1, 1, 0, 1, 1, 1, 1, 1, 0, 0, 1, 0, 1, 0, 1, 1,\n        1, 1, 1, 0, 1, 1, 0, 1, 0, 1, 0, 0, 1, 1, 1, 0, 1, 1, 1, 1, 1, 1,\n        1, 1, 1, 1, 1, 0, 1, 0, 0, 1, 1, 1, 1, 1, 1, 1, 1, 1, 1, 1, 1, 1,\n        1, 1, 1, 1, 1, 1, 1, 1, 1, 1, 1, 1, 0, 0, 0, 0, 0, 0, 1]),\n 'frame': None,\n 'target_names': array(['malignant', 'benign'], dtype='<U9'),\n 'DESCR': '.. _breast_cancer_dataset:\\n\\nBreast cancer wisconsin (diagnostic) dataset\\n--------------------------------------------\\n\\n**Data Set Characteristics:**\\n\\n    :Number of Instances: 569\\n\\n    :Number of Attributes: 30 numeric, predictive attributes and the class\\n\\n    :Attribute Information:\\n        - radius (mean of distances from center to points on the perimeter)\\n        - texture (standard deviation of gray-scale values)\\n        - perimeter\\n        - area\\n        - smoothness (local variation in radius lengths)\\n        - compactness (perimeter^2 / area - 1.0)\\n        - concavity (severity of concave portions of the contour)\\n        - concave points (number of concave portions of the contour)\\n        - symmetry\\n        - fractal dimension (\"coastline approximation\" - 1)\\n\\n        The mean, standard error, and \"worst\" or largest (mean of the three\\n        worst/largest values) of these features were computed for each image,\\n        resulting in 30 features.  For instance, field 0 is Mean Radius, field\\n        10 is Radius SE, field 20 is Worst Radius.\\n\\n        - class:\\n                - WDBC-Malignant\\n                - WDBC-Benign\\n\\n    :Summary Statistics:\\n\\n    ===================================== ====== ======\\n                                           Min    Max\\n    ===================================== ====== ======\\n    radius (mean):                        6.981  28.11\\n    texture (mean):                       9.71   39.28\\n    perimeter (mean):                     43.79  188.5\\n    area (mean):                          143.5  2501.0\\n    smoothness (mean):                    0.053  0.163\\n    compactness (mean):                   0.019  0.345\\n    concavity (mean):                     0.0    0.427\\n    concave points (mean):                0.0    0.201\\n    symmetry (mean):                      0.106  0.304\\n    fractal dimension (mean):             0.05   0.097\\n    radius (standard error):              0.112  2.873\\n    texture (standard error):             0.36   4.885\\n    perimeter (standard error):           0.757  21.98\\n    area (standard error):                6.802  542.2\\n    smoothness (standard error):          0.002  0.031\\n    compactness (standard error):         0.002  0.135\\n    concavity (standard error):           0.0    0.396\\n    concave points (standard error):      0.0    0.053\\n    symmetry (standard error):            0.008  0.079\\n    fractal dimension (standard error):   0.001  0.03\\n    radius (worst):                       7.93   36.04\\n    texture (worst):                      12.02  49.54\\n    perimeter (worst):                    50.41  251.2\\n    area (worst):                         185.2  4254.0\\n    smoothness (worst):                   0.071  0.223\\n    compactness (worst):                  0.027  1.058\\n    concavity (worst):                    0.0    1.252\\n    concave points (worst):               0.0    0.291\\n    symmetry (worst):                     0.156  0.664\\n    fractal dimension (worst):            0.055  0.208\\n    ===================================== ====== ======\\n\\n    :Missing Attribute Values: None\\n\\n    :Class Distribution: 212 - Malignant, 357 - Benign\\n\\n    :Creator:  Dr. William H. Wolberg, W. Nick Street, Olvi L. Mangasarian\\n\\n    :Donor: Nick Street\\n\\n    :Date: November, 1995\\n\\nThis is a copy of UCI ML Breast Cancer Wisconsin (Diagnostic) datasets.\\nhttps://goo.gl/U2Uwz2\\n\\nFeatures are computed from a digitized image of a fine needle\\naspirate (FNA) of a breast mass.  They describe\\ncharacteristics of the cell nuclei present in the image.\\n\\nSeparating plane described above was obtained using\\nMultisurface Method-Tree (MSM-T) [K. P. Bennett, \"Decision Tree\\nConstruction Via Linear Programming.\" Proceedings of the 4th\\nMidwest Artificial Intelligence and Cognitive Science Society,\\npp. 97-101, 1992], a classification method which uses linear\\nprogramming to construct a decision tree.  Relevant features\\nwere selected using an exhaustive search in the space of 1-4\\nfeatures and 1-3 separating planes.\\n\\nThe actual linear program used to obtain the separating plane\\nin the 3-dimensional space is that described in:\\n[K. P. Bennett and O. L. Mangasarian: \"Robust Linear\\nProgramming Discrimination of Two Linearly Inseparable Sets\",\\nOptimization Methods and Software 1, 1992, 23-34].\\n\\nThis database is also available through the UW CS ftp server:\\n\\nftp ftp.cs.wisc.edu\\ncd math-prog/cpo-dataset/machine-learn/WDBC/\\n\\n|details-start|\\n**References**\\n|details-split|\\n\\n- W.N. Street, W.H. Wolberg and O.L. Mangasarian. Nuclear feature extraction \\n  for breast tumor diagnosis. IS&T/SPIE 1993 International Symposium on \\n  Electronic Imaging: Science and Technology, volume 1905, pages 861-870,\\n  San Jose, CA, 1993.\\n- O.L. Mangasarian, W.N. Street and W.H. Wolberg. Breast cancer diagnosis and \\n  prognosis via linear programming. Operations Research, 43(4), pages 570-577, \\n  July-August 1995.\\n- W.H. Wolberg, W.N. Street, and O.L. Mangasarian. Machine learning techniques\\n  to diagnose breast cancer from fine-needle aspirates. Cancer Letters 77 (1994) \\n  163-171.\\n\\n|details-end|',\n 'feature_names': array(['mean radius', 'mean texture', 'mean perimeter', 'mean area',\n        'mean smoothness', 'mean compactness', 'mean concavity',\n        'mean concave points', 'mean symmetry', 'mean fractal dimension',\n        'radius error', 'texture error', 'perimeter error', 'area error',\n        'smoothness error', 'compactness error', 'concavity error',\n        'concave points error', 'symmetry error',\n        'fractal dimension error', 'worst radius', 'worst texture',\n        'worst perimeter', 'worst area', 'worst smoothness',\n        'worst compactness', 'worst concavity', 'worst concave points',\n        'worst symmetry', 'worst fractal dimension'], dtype='<U23'),\n 'filename': 'breast_cancer.csv',\n 'data_module': 'sklearn.datasets.data'}"
     },
     "execution_count": 5,
     "metadata": {},
     "output_type": "execute_result"
    }
   ]
  },
  {
   "cell_type": "code",
   "metadata": {
    "id": "Qlj1_YeD-_Og",
    "colab_type": "code",
    "colab": {
     "base_uri": "https://localhost:8080/",
     "height": 34
    },
    "executionInfo": {
     "status": "ok",
     "timestamp": 1595661896343,
     "user_tz": -480,
     "elapsed": 1960,
     "user": {
      "displayName": "Connie Sze",
      "photoUrl": "",
      "userId": "04636244361226698916"
     }
    },
    "outputId": "5428bac2-ee44-48b8-b352-138bffa80b10",
    "ExecuteTime": {
     "end_time": "2024-02-21T10:15:35.101907800Z",
     "start_time": "2024-02-21T10:15:35.045257800Z"
    }
   },
   "source": [
    "cancer.keys()"
   ],
   "execution_count": 6,
   "outputs": [
    {
     "data": {
      "text/plain": "dict_keys(['data', 'target', 'frame', 'target_names', 'DESCR', 'feature_names', 'filename', 'data_module'])"
     },
     "execution_count": 6,
     "metadata": {},
     "output_type": "execute_result"
    }
   ]
  },
  {
   "cell_type": "code",
   "metadata": {
    "id": "5DFT6oVFIQ_C",
    "colab_type": "code",
    "colab": {
     "base_uri": "https://localhost:8080/",
     "height": 34
    },
    "executionInfo": {
     "status": "ok",
     "timestamp": 1595661896344,
     "user_tz": -480,
     "elapsed": 1950,
     "user": {
      "displayName": "Connie Sze",
      "photoUrl": "",
      "userId": "04636244361226698916"
     }
    },
    "outputId": "8f134ce5-eb9c-4da9-96c3-09533a30f510",
    "ExecuteTime": {
     "end_time": "2024-02-21T10:15:35.103406200Z",
     "start_time": "2024-02-21T10:15:35.060784200Z"
    }
   },
   "source": [
    "len(cancer[\"data\"][0])"
   ],
   "execution_count": 7,
   "outputs": [
    {
     "data": {
      "text/plain": "30"
     },
     "execution_count": 7,
     "metadata": {},
     "output_type": "execute_result"
    }
   ]
  },
  {
   "cell_type": "markdown",
   "metadata": {
    "id": "JUHHVdtckIl0",
    "colab_type": "text"
   },
   "source": [
    "We can grab information and arrays out of this dictionary to set up our data frame and understanding of the features:"
   ]
  },
  {
   "cell_type": "code",
   "metadata": {
    "id": "G3mvhkpg_SJp",
    "colab_type": "code",
    "colab": {
     "base_uri": "https://localhost:8080/",
     "height": 1000
    },
    "executionInfo": {
     "status": "ok",
     "timestamp": 1595661896344,
     "user_tz": -480,
     "elapsed": 1938,
     "user": {
      "displayName": "Connie Sze",
      "photoUrl": "",
      "userId": "04636244361226698916"
     }
    },
    "outputId": "84a8ea8e-d9fe-4b3e-9da6-cff9e3d29fa4",
    "ExecuteTime": {
     "end_time": "2024-02-21T10:15:35.104907500Z",
     "start_time": "2024-02-21T10:15:35.077793300Z"
    }
   },
   "source": [
    "print(cancer[\"DESCR\"])"
   ],
   "execution_count": 8,
   "outputs": [
    {
     "name": "stdout",
     "output_type": "stream",
     "text": [
      ".. _breast_cancer_dataset:\n",
      "\n",
      "Breast cancer wisconsin (diagnostic) dataset\n",
      "--------------------------------------------\n",
      "\n",
      "**Data Set Characteristics:**\n",
      "\n",
      "    :Number of Instances: 569\n",
      "\n",
      "    :Number of Attributes: 30 numeric, predictive attributes and the class\n",
      "\n",
      "    :Attribute Information:\n",
      "        - radius (mean of distances from center to points on the perimeter)\n",
      "        - texture (standard deviation of gray-scale values)\n",
      "        - perimeter\n",
      "        - area\n",
      "        - smoothness (local variation in radius lengths)\n",
      "        - compactness (perimeter^2 / area - 1.0)\n",
      "        - concavity (severity of concave portions of the contour)\n",
      "        - concave points (number of concave portions of the contour)\n",
      "        - symmetry\n",
      "        - fractal dimension (\"coastline approximation\" - 1)\n",
      "\n",
      "        The mean, standard error, and \"worst\" or largest (mean of the three\n",
      "        worst/largest values) of these features were computed for each image,\n",
      "        resulting in 30 features.  For instance, field 0 is Mean Radius, field\n",
      "        10 is Radius SE, field 20 is Worst Radius.\n",
      "\n",
      "        - class:\n",
      "                - WDBC-Malignant\n",
      "                - WDBC-Benign\n",
      "\n",
      "    :Summary Statistics:\n",
      "\n",
      "    ===================================== ====== ======\n",
      "                                           Min    Max\n",
      "    ===================================== ====== ======\n",
      "    radius (mean):                        6.981  28.11\n",
      "    texture (mean):                       9.71   39.28\n",
      "    perimeter (mean):                     43.79  188.5\n",
      "    area (mean):                          143.5  2501.0\n",
      "    smoothness (mean):                    0.053  0.163\n",
      "    compactness (mean):                   0.019  0.345\n",
      "    concavity (mean):                     0.0    0.427\n",
      "    concave points (mean):                0.0    0.201\n",
      "    symmetry (mean):                      0.106  0.304\n",
      "    fractal dimension (mean):             0.05   0.097\n",
      "    radius (standard error):              0.112  2.873\n",
      "    texture (standard error):             0.36   4.885\n",
      "    perimeter (standard error):           0.757  21.98\n",
      "    area (standard error):                6.802  542.2\n",
      "    smoothness (standard error):          0.002  0.031\n",
      "    compactness (standard error):         0.002  0.135\n",
      "    concavity (standard error):           0.0    0.396\n",
      "    concave points (standard error):      0.0    0.053\n",
      "    symmetry (standard error):            0.008  0.079\n",
      "    fractal dimension (standard error):   0.001  0.03\n",
      "    radius (worst):                       7.93   36.04\n",
      "    texture (worst):                      12.02  49.54\n",
      "    perimeter (worst):                    50.41  251.2\n",
      "    area (worst):                         185.2  4254.0\n",
      "    smoothness (worst):                   0.071  0.223\n",
      "    compactness (worst):                  0.027  1.058\n",
      "    concavity (worst):                    0.0    1.252\n",
      "    concave points (worst):               0.0    0.291\n",
      "    symmetry (worst):                     0.156  0.664\n",
      "    fractal dimension (worst):            0.055  0.208\n",
      "    ===================================== ====== ======\n",
      "\n",
      "    :Missing Attribute Values: None\n",
      "\n",
      "    :Class Distribution: 212 - Malignant, 357 - Benign\n",
      "\n",
      "    :Creator:  Dr. William H. Wolberg, W. Nick Street, Olvi L. Mangasarian\n",
      "\n",
      "    :Donor: Nick Street\n",
      "\n",
      "    :Date: November, 1995\n",
      "\n",
      "This is a copy of UCI ML Breast Cancer Wisconsin (Diagnostic) datasets.\n",
      "https://goo.gl/U2Uwz2\n",
      "\n",
      "Features are computed from a digitized image of a fine needle\n",
      "aspirate (FNA) of a breast mass.  They describe\n",
      "characteristics of the cell nuclei present in the image.\n",
      "\n",
      "Separating plane described above was obtained using\n",
      "Multisurface Method-Tree (MSM-T) [K. P. Bennett, \"Decision Tree\n",
      "Construction Via Linear Programming.\" Proceedings of the 4th\n",
      "Midwest Artificial Intelligence and Cognitive Science Society,\n",
      "pp. 97-101, 1992], a classification method which uses linear\n",
      "programming to construct a decision tree.  Relevant features\n",
      "were selected using an exhaustive search in the space of 1-4\n",
      "features and 1-3 separating planes.\n",
      "\n",
      "The actual linear program used to obtain the separating plane\n",
      "in the 3-dimensional space is that described in:\n",
      "[K. P. Bennett and O. L. Mangasarian: \"Robust Linear\n",
      "Programming Discrimination of Two Linearly Inseparable Sets\",\n",
      "Optimization Methods and Software 1, 1992, 23-34].\n",
      "\n",
      "This database is also available through the UW CS ftp server:\n",
      "\n",
      "ftp ftp.cs.wisc.edu\n",
      "cd math-prog/cpo-dataset/machine-learn/WDBC/\n",
      "\n",
      "|details-start|\n",
      "**References**\n",
      "|details-split|\n",
      "\n",
      "- W.N. Street, W.H. Wolberg and O.L. Mangasarian. Nuclear feature extraction \n",
      "  for breast tumor diagnosis. IS&T/SPIE 1993 International Symposium on \n",
      "  Electronic Imaging: Science and Technology, volume 1905, pages 861-870,\n",
      "  San Jose, CA, 1993.\n",
      "- O.L. Mangasarian, W.N. Street and W.H. Wolberg. Breast cancer diagnosis and \n",
      "  prognosis via linear programming. Operations Research, 43(4), pages 570-577, \n",
      "  July-August 1995.\n",
      "- W.H. Wolberg, W.N. Street, and O.L. Mangasarian. Machine learning techniques\n",
      "  to diagnose breast cancer from fine-needle aspirates. Cancer Letters 77 (1994) \n",
      "  163-171.\n",
      "\n",
      "|details-end|\n"
     ]
    }
   ]
  },
  {
   "cell_type": "code",
   "metadata": {
    "id": "ifoXUqSIIaQp",
    "colab_type": "code",
    "colab": {
     "base_uri": "https://localhost:8080/",
     "height": 34
    },
    "executionInfo": {
     "status": "ok",
     "timestamp": 1595661896345,
     "user_tz": -480,
     "elapsed": 1928,
     "user": {
      "displayName": "Connie Sze",
      "photoUrl": "",
      "userId": "04636244361226698916"
     }
    },
    "outputId": "7d9635eb-7847-42b1-d32e-2e49f217d94a",
    "ExecuteTime": {
     "end_time": "2024-02-21T10:15:35.157983100Z",
     "start_time": "2024-02-21T10:15:35.092390600Z"
    }
   },
   "source": [
    "sum(cancer[\"target\"])"
   ],
   "execution_count": 9,
   "outputs": [
    {
     "data": {
      "text/plain": "357"
     },
     "execution_count": 9,
     "metadata": {},
     "output_type": "execute_result"
    }
   ]
  },
  {
   "cell_type": "code",
   "metadata": {
    "id": "XYKSJFjhIYNE",
    "colab_type": "code",
    "colab": {
     "base_uri": "https://localhost:8080/",
     "height": 1000
    },
    "executionInfo": {
     "status": "ok",
     "timestamp": 1595661896345,
     "user_tz": -480,
     "elapsed": 1915,
     "user": {
      "displayName": "Connie Sze",
      "photoUrl": "",
      "userId": "04636244361226698916"
     }
    },
    "outputId": "ba0146a1-6250-4ede-cab0-e5edb269c532",
    "ExecuteTime": {
     "end_time": "2024-02-21T10:15:35.159494800Z",
     "start_time": "2024-02-21T10:15:35.107901200Z"
    }
   },
   "source": [
    "cancer[\"target\"]==0\n",
    "#1- benign\n",
    "#0- malignant"
   ],
   "execution_count": 10,
   "outputs": [
    {
     "data": {
      "text/plain": "array([ True,  True,  True,  True,  True,  True,  True,  True,  True,\n        True,  True,  True,  True,  True,  True,  True,  True,  True,\n        True, False, False, False,  True,  True,  True,  True,  True,\n        True,  True,  True,  True,  True,  True,  True,  True,  True,\n        True, False,  True,  True,  True,  True,  True,  True,  True,\n        True, False,  True, False, False, False, False, False,  True,\n        True, False,  True,  True, False, False, False, False,  True,\n       False,  True,  True, False, False, False, False,  True, False,\n        True,  True, False,  True, False,  True,  True, False, False,\n       False,  True,  True, False,  True,  True,  True, False, False,\n       False,  True, False, False,  True,  True, False, False, False,\n        True,  True, False, False, False, False,  True, False, False,\n        True, False, False, False, False, False, False, False, False,\n        True,  True,  True, False,  True,  True, False, False, False,\n        True,  True, False,  True, False,  True,  True, False,  True,\n        True, False, False,  True, False, False,  True, False, False,\n       False, False,  True, False, False, False, False, False, False,\n       False, False, False,  True, False, False, False, False,  True,\n        True, False,  True, False, False,  True,  True, False, False,\n        True,  True, False, False, False, False,  True, False, False,\n        True,  True,  True, False,  True, False,  True, False, False,\n       False,  True, False, False,  True,  True, False,  True,  True,\n        True,  True, False,  True,  True,  True, False,  True, False,\n        True, False, False,  True, False,  True,  True,  True,  True,\n       False, False,  True,  True, False, False, False,  True, False,\n       False, False, False, False,  True,  True, False, False,  True,\n       False, False,  True,  True, False,  True, False, False, False,\n       False,  True, False, False, False, False, False,  True, False,\n        True,  True,  True,  True,  True,  True,  True,  True,  True,\n        True,  True,  True,  True,  True, False, False, False, False,\n       False, False,  True, False,  True, False, False,  True, False,\n       False,  True, False,  True,  True, False, False, False, False,\n       False, False, False, False, False, False, False, False, False,\n        True, False, False,  True, False,  True, False, False, False,\n       False, False, False, False, False, False, False, False, False,\n       False, False,  True, False, False, False,  True, False,  True,\n       False, False, False, False,  True,  True,  True, False, False,\n       False, False,  True, False,  True, False,  True, False, False,\n       False,  True, False, False, False, False, False, False, False,\n        True,  True,  True, False, False, False, False, False, False,\n       False, False, False, False, False,  True,  True, False,  True,\n        True,  True, False,  True,  True, False, False, False, False,\n       False,  True, False, False, False, False, False,  True, False,\n       False, False,  True, False, False,  True,  True, False, False,\n       False, False, False, False,  True, False, False, False, False,\n       False, False, False,  True, False, False, False, False, False,\n        True, False, False,  True, False, False, False, False, False,\n       False, False, False, False, False, False, False,  True, False,\n        True,  True, False,  True, False, False, False, False, False,\n        True, False, False,  True, False,  True, False, False,  True,\n       False,  True, False, False, False, False, False, False, False,\n       False,  True,  True, False, False, False, False, False, False,\n        True, False, False, False, False, False, False, False, False,\n       False, False,  True, False, False, False, False, False, False,\n       False,  True, False,  True, False, False,  True, False, False,\n       False, False, False,  True,  True, False,  True, False,  True,\n       False, False, False, False, False,  True, False, False,  True,\n       False,  True, False,  True,  True, False, False, False,  True,\n       False, False, False, False, False, False, False, False, False,\n       False, False,  True, False,  True,  True, False, False, False,\n       False, False, False, False, False, False, False, False, False,\n       False, False, False, False, False, False, False, False, False,\n       False, False, False, False,  True,  True,  True,  True,  True,\n        True, False])"
     },
     "execution_count": 10,
     "metadata": {},
     "output_type": "execute_result"
    }
   ]
  },
  {
   "cell_type": "code",
   "metadata": {
    "id": "cFwDUUPr_Xun",
    "colab_type": "code",
    "colab": {
     "base_uri": "https://localhost:8080/",
     "height": 190
    },
    "executionInfo": {
     "status": "ok",
     "timestamp": 1595661896346,
     "user_tz": -480,
     "elapsed": 1905,
     "user": {
      "displayName": "Connie Sze",
      "photoUrl": "",
      "userId": "04636244361226698916"
     }
    },
    "outputId": "55761e52-99a6-4695-dc7f-b7ee36be5b28",
    "ExecuteTime": {
     "end_time": "2024-02-21T10:15:35.196052900Z",
     "start_time": "2024-02-21T10:15:35.122940200Z"
    }
   },
   "source": [
    "cancer[\"feature_names\"]"
   ],
   "execution_count": 11,
   "outputs": [
    {
     "data": {
      "text/plain": "array(['mean radius', 'mean texture', 'mean perimeter', 'mean area',\n       'mean smoothness', 'mean compactness', 'mean concavity',\n       'mean concave points', 'mean symmetry', 'mean fractal dimension',\n       'radius error', 'texture error', 'perimeter error', 'area error',\n       'smoothness error', 'compactness error', 'concavity error',\n       'concave points error', 'symmetry error',\n       'fractal dimension error', 'worst radius', 'worst texture',\n       'worst perimeter', 'worst area', 'worst smoothness',\n       'worst compactness', 'worst concavity', 'worst concave points',\n       'worst symmetry', 'worst fractal dimension'], dtype='<U23')"
     },
     "execution_count": 11,
     "metadata": {},
     "output_type": "execute_result"
    }
   ]
  },
  {
   "cell_type": "markdown",
   "metadata": {
    "id": "gtFLey6XkN-9",
    "colab_type": "text"
   },
   "source": [
    "## **2. Data Cleaning**"
   ]
  },
  {
   "cell_type": "markdown",
   "metadata": {
    "id": "r35RUL3UanPA",
    "colab_type": "text"
   },
   "source": [
    "### **Setting Up DataFrames**"
   ]
  },
  {
   "cell_type": "code",
   "metadata": {
    "id": "DjfzUtoNtBUi",
    "colab_type": "code",
    "colab": {
     "base_uri": "https://localhost:8080/",
     "height": 468
    },
    "executionInfo": {
     "status": "ok",
     "timestamp": 1595661896348,
     "user_tz": -480,
     "elapsed": 1871,
     "user": {
      "displayName": "Connie Sze",
      "photoUrl": "",
      "userId": "04636244361226698916"
     }
    },
    "outputId": "3ecb9b8c-9f6b-48a2-e888-e96e526e8af7",
    "ExecuteTime": {
     "end_time": "2024-02-21T10:15:35.197052100Z",
     "start_time": "2024-02-21T10:15:35.137958900Z"
    }
   },
   "source": [
    "cancer[\"target\"]"
   ],
   "execution_count": 12,
   "outputs": [
    {
     "data": {
      "text/plain": "array([0, 0, 0, 0, 0, 0, 0, 0, 0, 0, 0, 0, 0, 0, 0, 0, 0, 0, 0, 1, 1, 1,\n       0, 0, 0, 0, 0, 0, 0, 0, 0, 0, 0, 0, 0, 0, 0, 1, 0, 0, 0, 0, 0, 0,\n       0, 0, 1, 0, 1, 1, 1, 1, 1, 0, 0, 1, 0, 0, 1, 1, 1, 1, 0, 1, 0, 0,\n       1, 1, 1, 1, 0, 1, 0, 0, 1, 0, 1, 0, 0, 1, 1, 1, 0, 0, 1, 0, 0, 0,\n       1, 1, 1, 0, 1, 1, 0, 0, 1, 1, 1, 0, 0, 1, 1, 1, 1, 0, 1, 1, 0, 1,\n       1, 1, 1, 1, 1, 1, 1, 0, 0, 0, 1, 0, 0, 1, 1, 1, 0, 0, 1, 0, 1, 0,\n       0, 1, 0, 0, 1, 1, 0, 1, 1, 0, 1, 1, 1, 1, 0, 1, 1, 1, 1, 1, 1, 1,\n       1, 1, 0, 1, 1, 1, 1, 0, 0, 1, 0, 1, 1, 0, 0, 1, 1, 0, 0, 1, 1, 1,\n       1, 0, 1, 1, 0, 0, 0, 1, 0, 1, 0, 1, 1, 1, 0, 1, 1, 0, 0, 1, 0, 0,\n       0, 0, 1, 0, 0, 0, 1, 0, 1, 0, 1, 1, 0, 1, 0, 0, 0, 0, 1, 1, 0, 0,\n       1, 1, 1, 0, 1, 1, 1, 1, 1, 0, 0, 1, 1, 0, 1, 1, 0, 0, 1, 0, 1, 1,\n       1, 1, 0, 1, 1, 1, 1, 1, 0, 1, 0, 0, 0, 0, 0, 0, 0, 0, 0, 0, 0, 0,\n       0, 0, 1, 1, 1, 1, 1, 1, 0, 1, 0, 1, 1, 0, 1, 1, 0, 1, 0, 0, 1, 1,\n       1, 1, 1, 1, 1, 1, 1, 1, 1, 1, 1, 0, 1, 1, 0, 1, 0, 1, 1, 1, 1, 1,\n       1, 1, 1, 1, 1, 1, 1, 1, 1, 0, 1, 1, 1, 0, 1, 0, 1, 1, 1, 1, 0, 0,\n       0, 1, 1, 1, 1, 0, 1, 0, 1, 0, 1, 1, 1, 0, 1, 1, 1, 1, 1, 1, 1, 0,\n       0, 0, 1, 1, 1, 1, 1, 1, 1, 1, 1, 1, 1, 0, 0, 1, 0, 0, 0, 1, 0, 0,\n       1, 1, 1, 1, 1, 0, 1, 1, 1, 1, 1, 0, 1, 1, 1, 0, 1, 1, 0, 0, 1, 1,\n       1, 1, 1, 1, 0, 1, 1, 1, 1, 1, 1, 1, 0, 1, 1, 1, 1, 1, 0, 1, 1, 0,\n       1, 1, 1, 1, 1, 1, 1, 1, 1, 1, 1, 1, 0, 1, 0, 0, 1, 0, 1, 1, 1, 1,\n       1, 0, 1, 1, 0, 1, 0, 1, 1, 0, 1, 0, 1, 1, 1, 1, 1, 1, 1, 1, 0, 0,\n       1, 1, 1, 1, 1, 1, 0, 1, 1, 1, 1, 1, 1, 1, 1, 1, 1, 0, 1, 1, 1, 1,\n       1, 1, 1, 0, 1, 0, 1, 1, 0, 1, 1, 1, 1, 1, 0, 0, 1, 0, 1, 0, 1, 1,\n       1, 1, 1, 0, 1, 1, 0, 1, 0, 1, 0, 0, 1, 1, 1, 0, 1, 1, 1, 1, 1, 1,\n       1, 1, 1, 1, 1, 0, 1, 0, 0, 1, 1, 1, 1, 1, 1, 1, 1, 1, 1, 1, 1, 1,\n       1, 1, 1, 1, 1, 1, 1, 1, 1, 1, 1, 1, 0, 0, 0, 0, 0, 0, 1])"
     },
     "execution_count": 12,
     "metadata": {},
     "output_type": "execute_result"
    }
   ]
  },
  {
   "cell_type": "code",
   "metadata": {
    "id": "Cf9a3xP1AqBx",
    "colab_type": "code",
    "colab": {},
    "ExecuteTime": {
     "end_time": "2024-02-21T10:15:35.199571700Z",
     "start_time": "2024-02-21T10:15:35.154481500Z"
    }
   },
   "source": [
    "df_target = pd.DataFrame(cancer[\"target\"], columns=[\"Cancer\"])"
   ],
   "execution_count": 13,
   "outputs": []
  },
  {
   "cell_type": "code",
   "metadata": {
    "id": "nS4diFpuInVY",
    "colab_type": "code",
    "colab": {
     "base_uri": "https://localhost:8080/",
     "height": 424
    },
    "executionInfo": {
     "status": "ok",
     "timestamp": 1595661896349,
     "user_tz": -480,
     "elapsed": 1857,
     "user": {
      "displayName": "Connie Sze",
      "photoUrl": "",
      "userId": "04636244361226698916"
     }
    },
    "outputId": "858a3437-06f6-4bcd-870e-6860592b1f89",
    "ExecuteTime": {
     "end_time": "2024-02-21T10:15:35.210599200Z",
     "start_time": "2024-02-21T10:15:35.170014600Z"
    }
   },
   "source": [
    "df_target"
   ],
   "execution_count": 14,
   "outputs": [
    {
     "data": {
      "text/plain": "     Cancer\n0         0\n1         0\n2         0\n3         0\n4         0\n..      ...\n564       0\n565       0\n566       0\n567       0\n568       1\n\n[569 rows x 1 columns]",
      "text/html": "<div>\n<style scoped>\n    .dataframe tbody tr th:only-of-type {\n        vertical-align: middle;\n    }\n\n    .dataframe tbody tr th {\n        vertical-align: top;\n    }\n\n    .dataframe thead th {\n        text-align: right;\n    }\n</style>\n<table border=\"1\" class=\"dataframe\">\n  <thead>\n    <tr style=\"text-align: right;\">\n      <th></th>\n      <th>Cancer</th>\n    </tr>\n  </thead>\n  <tbody>\n    <tr>\n      <th>0</th>\n      <td>0</td>\n    </tr>\n    <tr>\n      <th>1</th>\n      <td>0</td>\n    </tr>\n    <tr>\n      <th>2</th>\n      <td>0</td>\n    </tr>\n    <tr>\n      <th>3</th>\n      <td>0</td>\n    </tr>\n    <tr>\n      <th>4</th>\n      <td>0</td>\n    </tr>\n    <tr>\n      <th>...</th>\n      <td>...</td>\n    </tr>\n    <tr>\n      <th>564</th>\n      <td>0</td>\n    </tr>\n    <tr>\n      <th>565</th>\n      <td>0</td>\n    </tr>\n    <tr>\n      <th>566</th>\n      <td>0</td>\n    </tr>\n    <tr>\n      <th>567</th>\n      <td>0</td>\n    </tr>\n    <tr>\n      <th>568</th>\n      <td>1</td>\n    </tr>\n  </tbody>\n</table>\n<p>569 rows × 1 columns</p>\n</div>"
     },
     "execution_count": 14,
     "metadata": {},
     "output_type": "execute_result"
    }
   ]
  },
  {
   "cell_type": "code",
   "metadata": {
    "id": "236Q3NIu_56m",
    "colab_type": "code",
    "colab": {
     "base_uri": "https://localhost:8080/",
     "height": 478
    },
    "executionInfo": {
     "status": "ok",
     "timestamp": 1595661896347,
     "user_tz": -480,
     "elapsed": 1892,
     "user": {
      "displayName": "Connie Sze",
      "photoUrl": "",
      "userId": "04636244361226698916"
     }
    },
    "outputId": "da536bac-f909-4415-d22a-868aefb0ae3e",
    "ExecuteTime": {
     "end_time": "2024-02-21T10:15:35.260767Z",
     "start_time": "2024-02-21T10:15:35.185533900Z"
    }
   },
   "source": [
    "df_features= pd.DataFrame(data=cancer[\"data\"], columns=cancer[\"feature_names\"])\n",
    "df_features"
   ],
   "execution_count": 15,
   "outputs": [
    {
     "data": {
      "text/plain": "     mean radius  mean texture  mean perimeter  mean area  mean smoothness  \\\n0          17.99         10.38          122.80     1001.0          0.11840   \n1          20.57         17.77          132.90     1326.0          0.08474   \n2          19.69         21.25          130.00     1203.0          0.10960   \n3          11.42         20.38           77.58      386.1          0.14250   \n4          20.29         14.34          135.10     1297.0          0.10030   \n..           ...           ...             ...        ...              ...   \n564        21.56         22.39          142.00     1479.0          0.11100   \n565        20.13         28.25          131.20     1261.0          0.09780   \n566        16.60         28.08          108.30      858.1          0.08455   \n567        20.60         29.33          140.10     1265.0          0.11780   \n568         7.76         24.54           47.92      181.0          0.05263   \n\n     mean compactness  mean concavity  mean concave points  mean symmetry  \\\n0             0.27760         0.30010              0.14710         0.2419   \n1             0.07864         0.08690              0.07017         0.1812   \n2             0.15990         0.19740              0.12790         0.2069   \n3             0.28390         0.24140              0.10520         0.2597   \n4             0.13280         0.19800              0.10430         0.1809   \n..                ...             ...                  ...            ...   \n564           0.11590         0.24390              0.13890         0.1726   \n565           0.10340         0.14400              0.09791         0.1752   \n566           0.10230         0.09251              0.05302         0.1590   \n567           0.27700         0.35140              0.15200         0.2397   \n568           0.04362         0.00000              0.00000         0.1587   \n\n     mean fractal dimension  ...  worst radius  worst texture  \\\n0                   0.07871  ...        25.380          17.33   \n1                   0.05667  ...        24.990          23.41   \n2                   0.05999  ...        23.570          25.53   \n3                   0.09744  ...        14.910          26.50   \n4                   0.05883  ...        22.540          16.67   \n..                      ...  ...           ...            ...   \n564                 0.05623  ...        25.450          26.40   \n565                 0.05533  ...        23.690          38.25   \n566                 0.05648  ...        18.980          34.12   \n567                 0.07016  ...        25.740          39.42   \n568                 0.05884  ...         9.456          30.37   \n\n     worst perimeter  worst area  worst smoothness  worst compactness  \\\n0             184.60      2019.0           0.16220            0.66560   \n1             158.80      1956.0           0.12380            0.18660   \n2             152.50      1709.0           0.14440            0.42450   \n3              98.87       567.7           0.20980            0.86630   \n4             152.20      1575.0           0.13740            0.20500   \n..               ...         ...               ...                ...   \n564           166.10      2027.0           0.14100            0.21130   \n565           155.00      1731.0           0.11660            0.19220   \n566           126.70      1124.0           0.11390            0.30940   \n567           184.60      1821.0           0.16500            0.86810   \n568            59.16       268.6           0.08996            0.06444   \n\n     worst concavity  worst concave points  worst symmetry  \\\n0             0.7119                0.2654          0.4601   \n1             0.2416                0.1860          0.2750   \n2             0.4504                0.2430          0.3613   \n3             0.6869                0.2575          0.6638   \n4             0.4000                0.1625          0.2364   \n..               ...                   ...             ...   \n564           0.4107                0.2216          0.2060   \n565           0.3215                0.1628          0.2572   \n566           0.3403                0.1418          0.2218   \n567           0.9387                0.2650          0.4087   \n568           0.0000                0.0000          0.2871   \n\n     worst fractal dimension  \n0                    0.11890  \n1                    0.08902  \n2                    0.08758  \n3                    0.17300  \n4                    0.07678  \n..                       ...  \n564                  0.07115  \n565                  0.06637  \n566                  0.07820  \n567                  0.12400  \n568                  0.07039  \n\n[569 rows x 30 columns]",
      "text/html": "<div>\n<style scoped>\n    .dataframe tbody tr th:only-of-type {\n        vertical-align: middle;\n    }\n\n    .dataframe tbody tr th {\n        vertical-align: top;\n    }\n\n    .dataframe thead th {\n        text-align: right;\n    }\n</style>\n<table border=\"1\" class=\"dataframe\">\n  <thead>\n    <tr style=\"text-align: right;\">\n      <th></th>\n      <th>mean radius</th>\n      <th>mean texture</th>\n      <th>mean perimeter</th>\n      <th>mean area</th>\n      <th>mean smoothness</th>\n      <th>mean compactness</th>\n      <th>mean concavity</th>\n      <th>mean concave points</th>\n      <th>mean symmetry</th>\n      <th>mean fractal dimension</th>\n      <th>...</th>\n      <th>worst radius</th>\n      <th>worst texture</th>\n      <th>worst perimeter</th>\n      <th>worst area</th>\n      <th>worst smoothness</th>\n      <th>worst compactness</th>\n      <th>worst concavity</th>\n      <th>worst concave points</th>\n      <th>worst symmetry</th>\n      <th>worst fractal dimension</th>\n    </tr>\n  </thead>\n  <tbody>\n    <tr>\n      <th>0</th>\n      <td>17.99</td>\n      <td>10.38</td>\n      <td>122.80</td>\n      <td>1001.0</td>\n      <td>0.11840</td>\n      <td>0.27760</td>\n      <td>0.30010</td>\n      <td>0.14710</td>\n      <td>0.2419</td>\n      <td>0.07871</td>\n      <td>...</td>\n      <td>25.380</td>\n      <td>17.33</td>\n      <td>184.60</td>\n      <td>2019.0</td>\n      <td>0.16220</td>\n      <td>0.66560</td>\n      <td>0.7119</td>\n      <td>0.2654</td>\n      <td>0.4601</td>\n      <td>0.11890</td>\n    </tr>\n    <tr>\n      <th>1</th>\n      <td>20.57</td>\n      <td>17.77</td>\n      <td>132.90</td>\n      <td>1326.0</td>\n      <td>0.08474</td>\n      <td>0.07864</td>\n      <td>0.08690</td>\n      <td>0.07017</td>\n      <td>0.1812</td>\n      <td>0.05667</td>\n      <td>...</td>\n      <td>24.990</td>\n      <td>23.41</td>\n      <td>158.80</td>\n      <td>1956.0</td>\n      <td>0.12380</td>\n      <td>0.18660</td>\n      <td>0.2416</td>\n      <td>0.1860</td>\n      <td>0.2750</td>\n      <td>0.08902</td>\n    </tr>\n    <tr>\n      <th>2</th>\n      <td>19.69</td>\n      <td>21.25</td>\n      <td>130.00</td>\n      <td>1203.0</td>\n      <td>0.10960</td>\n      <td>0.15990</td>\n      <td>0.19740</td>\n      <td>0.12790</td>\n      <td>0.2069</td>\n      <td>0.05999</td>\n      <td>...</td>\n      <td>23.570</td>\n      <td>25.53</td>\n      <td>152.50</td>\n      <td>1709.0</td>\n      <td>0.14440</td>\n      <td>0.42450</td>\n      <td>0.4504</td>\n      <td>0.2430</td>\n      <td>0.3613</td>\n      <td>0.08758</td>\n    </tr>\n    <tr>\n      <th>3</th>\n      <td>11.42</td>\n      <td>20.38</td>\n      <td>77.58</td>\n      <td>386.1</td>\n      <td>0.14250</td>\n      <td>0.28390</td>\n      <td>0.24140</td>\n      <td>0.10520</td>\n      <td>0.2597</td>\n      <td>0.09744</td>\n      <td>...</td>\n      <td>14.910</td>\n      <td>26.50</td>\n      <td>98.87</td>\n      <td>567.7</td>\n      <td>0.20980</td>\n      <td>0.86630</td>\n      <td>0.6869</td>\n      <td>0.2575</td>\n      <td>0.6638</td>\n      <td>0.17300</td>\n    </tr>\n    <tr>\n      <th>4</th>\n      <td>20.29</td>\n      <td>14.34</td>\n      <td>135.10</td>\n      <td>1297.0</td>\n      <td>0.10030</td>\n      <td>0.13280</td>\n      <td>0.19800</td>\n      <td>0.10430</td>\n      <td>0.1809</td>\n      <td>0.05883</td>\n      <td>...</td>\n      <td>22.540</td>\n      <td>16.67</td>\n      <td>152.20</td>\n      <td>1575.0</td>\n      <td>0.13740</td>\n      <td>0.20500</td>\n      <td>0.4000</td>\n      <td>0.1625</td>\n      <td>0.2364</td>\n      <td>0.07678</td>\n    </tr>\n    <tr>\n      <th>...</th>\n      <td>...</td>\n      <td>...</td>\n      <td>...</td>\n      <td>...</td>\n      <td>...</td>\n      <td>...</td>\n      <td>...</td>\n      <td>...</td>\n      <td>...</td>\n      <td>...</td>\n      <td>...</td>\n      <td>...</td>\n      <td>...</td>\n      <td>...</td>\n      <td>...</td>\n      <td>...</td>\n      <td>...</td>\n      <td>...</td>\n      <td>...</td>\n      <td>...</td>\n      <td>...</td>\n    </tr>\n    <tr>\n      <th>564</th>\n      <td>21.56</td>\n      <td>22.39</td>\n      <td>142.00</td>\n      <td>1479.0</td>\n      <td>0.11100</td>\n      <td>0.11590</td>\n      <td>0.24390</td>\n      <td>0.13890</td>\n      <td>0.1726</td>\n      <td>0.05623</td>\n      <td>...</td>\n      <td>25.450</td>\n      <td>26.40</td>\n      <td>166.10</td>\n      <td>2027.0</td>\n      <td>0.14100</td>\n      <td>0.21130</td>\n      <td>0.4107</td>\n      <td>0.2216</td>\n      <td>0.2060</td>\n      <td>0.07115</td>\n    </tr>\n    <tr>\n      <th>565</th>\n      <td>20.13</td>\n      <td>28.25</td>\n      <td>131.20</td>\n      <td>1261.0</td>\n      <td>0.09780</td>\n      <td>0.10340</td>\n      <td>0.14400</td>\n      <td>0.09791</td>\n      <td>0.1752</td>\n      <td>0.05533</td>\n      <td>...</td>\n      <td>23.690</td>\n      <td>38.25</td>\n      <td>155.00</td>\n      <td>1731.0</td>\n      <td>0.11660</td>\n      <td>0.19220</td>\n      <td>0.3215</td>\n      <td>0.1628</td>\n      <td>0.2572</td>\n      <td>0.06637</td>\n    </tr>\n    <tr>\n      <th>566</th>\n      <td>16.60</td>\n      <td>28.08</td>\n      <td>108.30</td>\n      <td>858.1</td>\n      <td>0.08455</td>\n      <td>0.10230</td>\n      <td>0.09251</td>\n      <td>0.05302</td>\n      <td>0.1590</td>\n      <td>0.05648</td>\n      <td>...</td>\n      <td>18.980</td>\n      <td>34.12</td>\n      <td>126.70</td>\n      <td>1124.0</td>\n      <td>0.11390</td>\n      <td>0.30940</td>\n      <td>0.3403</td>\n      <td>0.1418</td>\n      <td>0.2218</td>\n      <td>0.07820</td>\n    </tr>\n    <tr>\n      <th>567</th>\n      <td>20.60</td>\n      <td>29.33</td>\n      <td>140.10</td>\n      <td>1265.0</td>\n      <td>0.11780</td>\n      <td>0.27700</td>\n      <td>0.35140</td>\n      <td>0.15200</td>\n      <td>0.2397</td>\n      <td>0.07016</td>\n      <td>...</td>\n      <td>25.740</td>\n      <td>39.42</td>\n      <td>184.60</td>\n      <td>1821.0</td>\n      <td>0.16500</td>\n      <td>0.86810</td>\n      <td>0.9387</td>\n      <td>0.2650</td>\n      <td>0.4087</td>\n      <td>0.12400</td>\n    </tr>\n    <tr>\n      <th>568</th>\n      <td>7.76</td>\n      <td>24.54</td>\n      <td>47.92</td>\n      <td>181.0</td>\n      <td>0.05263</td>\n      <td>0.04362</td>\n      <td>0.00000</td>\n      <td>0.00000</td>\n      <td>0.1587</td>\n      <td>0.05884</td>\n      <td>...</td>\n      <td>9.456</td>\n      <td>30.37</td>\n      <td>59.16</td>\n      <td>268.6</td>\n      <td>0.08996</td>\n      <td>0.06444</td>\n      <td>0.0000</td>\n      <td>0.0000</td>\n      <td>0.2871</td>\n      <td>0.07039</td>\n    </tr>\n  </tbody>\n</table>\n<p>569 rows × 30 columns</p>\n</div>"
     },
     "execution_count": 15,
     "metadata": {},
     "output_type": "execute_result"
    }
   ]
  },
  {
   "cell_type": "markdown",
   "metadata": {
    "id": "BWnVtXEha11G",
    "colab_type": "text"
   },
   "source": [
    "### **Data Cleaning**"
   ]
  },
  {
   "cell_type": "code",
   "metadata": {
    "id": "h_MprlEMtLrV",
    "colab_type": "code",
    "colab": {
     "base_uri": "https://localhost:8080/",
     "height": 554
    },
    "executionInfo": {
     "status": "ok",
     "timestamp": 1595661896348,
     "user_tz": -480,
     "elapsed": 1881,
     "user": {
      "displayName": "Connie Sze",
      "photoUrl": "",
      "userId": "04636244361226698916"
     }
    },
    "outputId": "9822c966-2f41-4074-8d1c-f65228e96c03",
    "ExecuteTime": {
     "end_time": "2024-02-21T10:15:35.262273300Z",
     "start_time": "2024-02-21T10:15:35.216610600Z"
    }
   },
   "source": [
    "df_features.isnull().any()"
   ],
   "execution_count": 16,
   "outputs": [
    {
     "data": {
      "text/plain": "mean radius                False\nmean texture               False\nmean perimeter             False\nmean area                  False\nmean smoothness            False\nmean compactness           False\nmean concavity             False\nmean concave points        False\nmean symmetry              False\nmean fractal dimension     False\nradius error               False\ntexture error              False\nperimeter error            False\narea error                 False\nsmoothness error           False\ncompactness error          False\nconcavity error            False\nconcave points error       False\nsymmetry error             False\nfractal dimension error    False\nworst radius               False\nworst texture              False\nworst perimeter            False\nworst area                 False\nworst smoothness           False\nworst compactness          False\nworst concavity            False\nworst concave points       False\nworst symmetry             False\nworst fractal dimension    False\ndtype: bool"
     },
     "execution_count": 16,
     "metadata": {},
     "output_type": "execute_result"
    }
   ]
  },
  {
   "cell_type": "markdown",
   "metadata": {
    "id": "Bx-AzEA3lRFC",
    "colab_type": "text"
   },
   "source": [
    "## **3. Model Training & Building**"
   ]
  },
  {
   "cell_type": "markdown",
   "metadata": {
    "id": "59CwlRkqgAuX",
    "colab_type": "text"
   },
   "source": [
    "### **X and y arrays**"
   ]
  },
  {
   "cell_type": "code",
   "metadata": {
    "id": "LdIvsLpPf-W2",
    "colab_type": "code",
    "colab": {},
    "ExecuteTime": {
     "end_time": "2024-02-21T10:15:35.286797800Z",
     "start_time": "2024-02-21T10:15:35.232214Z"
    }
   },
   "source": [
    "X = df_features\n",
    "y = df_target"
   ],
   "execution_count": 17,
   "outputs": []
  },
  {
   "cell_type": "markdown",
   "metadata": {
    "id": "u06kDFH5lT6Z",
    "colab_type": "text"
   },
   "source": [
    "### **Train Test Split**"
   ]
  },
  {
   "cell_type": "code",
   "metadata": {
    "id": "ri3dzbxuBgeV",
    "colab_type": "code",
    "colab": {},
    "ExecuteTime": {
     "end_time": "2024-02-21T10:15:35.400075500Z",
     "start_time": "2024-02-21T10:15:35.248233700Z"
    }
   },
   "source": [
    "from sklearn.model_selection import train_test_split"
   ],
   "execution_count": 18,
   "outputs": []
  },
  {
   "cell_type": "code",
   "metadata": {
    "id": "_CjmklgqBs2V",
    "colab_type": "code",
    "colab": {},
    "ExecuteTime": {
     "end_time": "2024-02-21T10:15:35.402579300Z",
     "start_time": "2024-02-21T10:15:35.356418500Z"
    }
   },
   "source": [
    "X_train, X_test, y_train, y_test = train_test_split(X,y, test_size=0.3, random_state=101)"
   ],
   "execution_count": 19,
   "outputs": []
  },
  {
   "cell_type": "code",
   "metadata": {
    "id": "sVQNNINKI2Fb",
    "colab_type": "code",
    "colab": {
     "base_uri": "https://localhost:8080/",
     "height": 478
    },
    "executionInfo": {
     "status": "ok",
     "timestamp": 1595661896648,
     "user_tz": -480,
     "elapsed": 2131,
     "user": {
      "displayName": "Connie Sze",
      "photoUrl": "",
      "userId": "04636244361226698916"
     }
    },
    "outputId": "6a181d8c-cedd-4850-8b42-95c578228f84",
    "ExecuteTime": {
     "end_time": "2024-02-21T10:15:35.423125200Z",
     "start_time": "2024-02-21T10:15:35.372541700Z"
    }
   },
   "source": [
    "X_train"
   ],
   "execution_count": 20,
   "outputs": [
    {
     "data": {
      "text/plain": "     mean radius  mean texture  mean perimeter  mean area  mean smoothness  \\\n178       13.010         22.22           82.01      526.4          0.06251   \n421       14.690         13.98           98.22      656.1          0.10310   \n57        14.710         21.59           95.55      656.9          0.11370   \n514       15.050         19.07           97.26      701.9          0.09215   \n548        9.683         19.34           61.05      285.7          0.08491   \n..           ...           ...             ...        ...              ...   \n552       12.770         29.43           81.35      507.9          0.08276   \n393       21.610         22.28          144.40     1407.0          0.11670   \n75        16.070         19.65          104.10      817.7          0.09168   \n337       18.770         21.43          122.90     1092.0          0.09116   \n523       13.710         18.68           88.73      571.0          0.09916   \n\n     mean compactness  mean concavity  mean concave points  mean symmetry  \\\n178           0.01938        0.001595             0.001852         0.1395   \n421           0.18360        0.145000             0.063000         0.2086   \n57            0.13650        0.129300             0.081230         0.2027   \n514           0.08597        0.074860             0.043350         0.1561   \n548           0.05030        0.023370             0.009615         0.1580   \n..                ...             ...                  ...            ...   \n552           0.04234        0.019970             0.014990         0.1539   \n393           0.20870        0.281000             0.156200         0.2162   \n75            0.08424        0.097690             0.066380         0.1798   \n337           0.14020        0.106000             0.060900         0.1953   \n523           0.10700        0.053850             0.037830         0.1714   \n\n     mean fractal dimension  ...  worst radius  worst texture  \\\n178                 0.05234  ...         14.00          29.02   \n421                 0.07406  ...         16.46          18.34   \n57                  0.06758  ...         17.87          30.70   \n514                 0.05915  ...         17.58          28.06   \n548                 0.06235  ...         10.93          25.59   \n..                      ...  ...           ...            ...   \n552                 0.05637  ...         13.87          36.00   \n393                 0.06606  ...         26.23          28.74   \n75                  0.05391  ...         19.77          24.56   \n337                 0.06083  ...         24.54          34.37   \n523                 0.06843  ...         15.11          25.63   \n\n     worst perimeter  worst area  worst smoothness  worst compactness  \\\n178            88.18       608.8           0.08125            0.03432   \n421           114.10       809.2           0.13120            0.36350   \n57            115.70       985.5           0.13680            0.42900   \n514           113.80       967.0           0.12460            0.21010   \n548            69.10       364.2           0.11990            0.09546   \n..               ...         ...               ...                ...   \n552            88.10       594.7           0.12340            0.10640   \n393           172.00      2081.0           0.15020            0.57170   \n75            128.80      1223.0           0.15000            0.20450   \n337           161.10      1873.0           0.14980            0.48270   \n523            99.43       701.9           0.14250            0.25660   \n\n     worst concavity  worst concave points  worst symmetry  \\\n178         0.007977              0.009259          0.2295   \n421         0.321900              0.110800          0.2827   \n57          0.358700              0.183400          0.3698   \n514         0.286600              0.112000          0.2282   \n548         0.093500              0.038460          0.2552   \n..               ...                   ...             ...   \n552         0.086530              0.064980          0.2407   \n393         0.705300              0.242200          0.3828   \n75          0.282900              0.152000          0.2650   \n337         0.463400              0.204800          0.3679   \n523         0.193500              0.128400          0.2849   \n\n     worst fractal dimension  \n178                  0.05843  \n421                  0.09208  \n57                   0.10940  \n514                  0.06954  \n548                  0.07920  \n..                       ...  \n552                  0.06484  \n393                  0.10070  \n75                   0.06387  \n337                  0.09870  \n523                  0.09031  \n\n[398 rows x 30 columns]",
      "text/html": "<div>\n<style scoped>\n    .dataframe tbody tr th:only-of-type {\n        vertical-align: middle;\n    }\n\n    .dataframe tbody tr th {\n        vertical-align: top;\n    }\n\n    .dataframe thead th {\n        text-align: right;\n    }\n</style>\n<table border=\"1\" class=\"dataframe\">\n  <thead>\n    <tr style=\"text-align: right;\">\n      <th></th>\n      <th>mean radius</th>\n      <th>mean texture</th>\n      <th>mean perimeter</th>\n      <th>mean area</th>\n      <th>mean smoothness</th>\n      <th>mean compactness</th>\n      <th>mean concavity</th>\n      <th>mean concave points</th>\n      <th>mean symmetry</th>\n      <th>mean fractal dimension</th>\n      <th>...</th>\n      <th>worst radius</th>\n      <th>worst texture</th>\n      <th>worst perimeter</th>\n      <th>worst area</th>\n      <th>worst smoothness</th>\n      <th>worst compactness</th>\n      <th>worst concavity</th>\n      <th>worst concave points</th>\n      <th>worst symmetry</th>\n      <th>worst fractal dimension</th>\n    </tr>\n  </thead>\n  <tbody>\n    <tr>\n      <th>178</th>\n      <td>13.010</td>\n      <td>22.22</td>\n      <td>82.01</td>\n      <td>526.4</td>\n      <td>0.06251</td>\n      <td>0.01938</td>\n      <td>0.001595</td>\n      <td>0.001852</td>\n      <td>0.1395</td>\n      <td>0.05234</td>\n      <td>...</td>\n      <td>14.00</td>\n      <td>29.02</td>\n      <td>88.18</td>\n      <td>608.8</td>\n      <td>0.08125</td>\n      <td>0.03432</td>\n      <td>0.007977</td>\n      <td>0.009259</td>\n      <td>0.2295</td>\n      <td>0.05843</td>\n    </tr>\n    <tr>\n      <th>421</th>\n      <td>14.690</td>\n      <td>13.98</td>\n      <td>98.22</td>\n      <td>656.1</td>\n      <td>0.10310</td>\n      <td>0.18360</td>\n      <td>0.145000</td>\n      <td>0.063000</td>\n      <td>0.2086</td>\n      <td>0.07406</td>\n      <td>...</td>\n      <td>16.46</td>\n      <td>18.34</td>\n      <td>114.10</td>\n      <td>809.2</td>\n      <td>0.13120</td>\n      <td>0.36350</td>\n      <td>0.321900</td>\n      <td>0.110800</td>\n      <td>0.2827</td>\n      <td>0.09208</td>\n    </tr>\n    <tr>\n      <th>57</th>\n      <td>14.710</td>\n      <td>21.59</td>\n      <td>95.55</td>\n      <td>656.9</td>\n      <td>0.11370</td>\n      <td>0.13650</td>\n      <td>0.129300</td>\n      <td>0.081230</td>\n      <td>0.2027</td>\n      <td>0.06758</td>\n      <td>...</td>\n      <td>17.87</td>\n      <td>30.70</td>\n      <td>115.70</td>\n      <td>985.5</td>\n      <td>0.13680</td>\n      <td>0.42900</td>\n      <td>0.358700</td>\n      <td>0.183400</td>\n      <td>0.3698</td>\n      <td>0.10940</td>\n    </tr>\n    <tr>\n      <th>514</th>\n      <td>15.050</td>\n      <td>19.07</td>\n      <td>97.26</td>\n      <td>701.9</td>\n      <td>0.09215</td>\n      <td>0.08597</td>\n      <td>0.074860</td>\n      <td>0.043350</td>\n      <td>0.1561</td>\n      <td>0.05915</td>\n      <td>...</td>\n      <td>17.58</td>\n      <td>28.06</td>\n      <td>113.80</td>\n      <td>967.0</td>\n      <td>0.12460</td>\n      <td>0.21010</td>\n      <td>0.286600</td>\n      <td>0.112000</td>\n      <td>0.2282</td>\n      <td>0.06954</td>\n    </tr>\n    <tr>\n      <th>548</th>\n      <td>9.683</td>\n      <td>19.34</td>\n      <td>61.05</td>\n      <td>285.7</td>\n      <td>0.08491</td>\n      <td>0.05030</td>\n      <td>0.023370</td>\n      <td>0.009615</td>\n      <td>0.1580</td>\n      <td>0.06235</td>\n      <td>...</td>\n      <td>10.93</td>\n      <td>25.59</td>\n      <td>69.10</td>\n      <td>364.2</td>\n      <td>0.11990</td>\n      <td>0.09546</td>\n      <td>0.093500</td>\n      <td>0.038460</td>\n      <td>0.2552</td>\n      <td>0.07920</td>\n    </tr>\n    <tr>\n      <th>...</th>\n      <td>...</td>\n      <td>...</td>\n      <td>...</td>\n      <td>...</td>\n      <td>...</td>\n      <td>...</td>\n      <td>...</td>\n      <td>...</td>\n      <td>...</td>\n      <td>...</td>\n      <td>...</td>\n      <td>...</td>\n      <td>...</td>\n      <td>...</td>\n      <td>...</td>\n      <td>...</td>\n      <td>...</td>\n      <td>...</td>\n      <td>...</td>\n      <td>...</td>\n      <td>...</td>\n    </tr>\n    <tr>\n      <th>552</th>\n      <td>12.770</td>\n      <td>29.43</td>\n      <td>81.35</td>\n      <td>507.9</td>\n      <td>0.08276</td>\n      <td>0.04234</td>\n      <td>0.019970</td>\n      <td>0.014990</td>\n      <td>0.1539</td>\n      <td>0.05637</td>\n      <td>...</td>\n      <td>13.87</td>\n      <td>36.00</td>\n      <td>88.10</td>\n      <td>594.7</td>\n      <td>0.12340</td>\n      <td>0.10640</td>\n      <td>0.086530</td>\n      <td>0.064980</td>\n      <td>0.2407</td>\n      <td>0.06484</td>\n    </tr>\n    <tr>\n      <th>393</th>\n      <td>21.610</td>\n      <td>22.28</td>\n      <td>144.40</td>\n      <td>1407.0</td>\n      <td>0.11670</td>\n      <td>0.20870</td>\n      <td>0.281000</td>\n      <td>0.156200</td>\n      <td>0.2162</td>\n      <td>0.06606</td>\n      <td>...</td>\n      <td>26.23</td>\n      <td>28.74</td>\n      <td>172.00</td>\n      <td>2081.0</td>\n      <td>0.15020</td>\n      <td>0.57170</td>\n      <td>0.705300</td>\n      <td>0.242200</td>\n      <td>0.3828</td>\n      <td>0.10070</td>\n    </tr>\n    <tr>\n      <th>75</th>\n      <td>16.070</td>\n      <td>19.65</td>\n      <td>104.10</td>\n      <td>817.7</td>\n      <td>0.09168</td>\n      <td>0.08424</td>\n      <td>0.097690</td>\n      <td>0.066380</td>\n      <td>0.1798</td>\n      <td>0.05391</td>\n      <td>...</td>\n      <td>19.77</td>\n      <td>24.56</td>\n      <td>128.80</td>\n      <td>1223.0</td>\n      <td>0.15000</td>\n      <td>0.20450</td>\n      <td>0.282900</td>\n      <td>0.152000</td>\n      <td>0.2650</td>\n      <td>0.06387</td>\n    </tr>\n    <tr>\n      <th>337</th>\n      <td>18.770</td>\n      <td>21.43</td>\n      <td>122.90</td>\n      <td>1092.0</td>\n      <td>0.09116</td>\n      <td>0.14020</td>\n      <td>0.106000</td>\n      <td>0.060900</td>\n      <td>0.1953</td>\n      <td>0.06083</td>\n      <td>...</td>\n      <td>24.54</td>\n      <td>34.37</td>\n      <td>161.10</td>\n      <td>1873.0</td>\n      <td>0.14980</td>\n      <td>0.48270</td>\n      <td>0.463400</td>\n      <td>0.204800</td>\n      <td>0.3679</td>\n      <td>0.09870</td>\n    </tr>\n    <tr>\n      <th>523</th>\n      <td>13.710</td>\n      <td>18.68</td>\n      <td>88.73</td>\n      <td>571.0</td>\n      <td>0.09916</td>\n      <td>0.10700</td>\n      <td>0.053850</td>\n      <td>0.037830</td>\n      <td>0.1714</td>\n      <td>0.06843</td>\n      <td>...</td>\n      <td>15.11</td>\n      <td>25.63</td>\n      <td>99.43</td>\n      <td>701.9</td>\n      <td>0.14250</td>\n      <td>0.25660</td>\n      <td>0.193500</td>\n      <td>0.128400</td>\n      <td>0.2849</td>\n      <td>0.09031</td>\n    </tr>\n  </tbody>\n</table>\n<p>398 rows × 30 columns</p>\n</div>"
     },
     "execution_count": 20,
     "metadata": {},
     "output_type": "execute_result"
    }
   ]
  },
  {
   "cell_type": "code",
   "metadata": {
    "id": "SdKe7ivTI3n3",
    "colab_type": "code",
    "colab": {
     "base_uri": "https://localhost:8080/",
     "height": 424
    },
    "executionInfo": {
     "status": "ok",
     "timestamp": 1595661896649,
     "user_tz": -480,
     "elapsed": 2121,
     "user": {
      "displayName": "Connie Sze",
      "photoUrl": "",
      "userId": "04636244361226698916"
     }
    },
    "outputId": "b50b4e9b-bbc1-4c5b-c942-4ee3b05abc62",
    "ExecuteTime": {
     "end_time": "2024-02-21T10:15:35.425125100Z",
     "start_time": "2024-02-21T10:15:35.403079100Z"
    }
   },
   "source": [
    "y_train"
   ],
   "execution_count": 21,
   "outputs": [
    {
     "data": {
      "text/plain": "     Cancer\n178       1\n421       1\n57        0\n514       0\n548       1\n..      ...\n552       1\n393       0\n75        0\n337       0\n523       1\n\n[398 rows x 1 columns]",
      "text/html": "<div>\n<style scoped>\n    .dataframe tbody tr th:only-of-type {\n        vertical-align: middle;\n    }\n\n    .dataframe tbody tr th {\n        vertical-align: top;\n    }\n\n    .dataframe thead th {\n        text-align: right;\n    }\n</style>\n<table border=\"1\" class=\"dataframe\">\n  <thead>\n    <tr style=\"text-align: right;\">\n      <th></th>\n      <th>Cancer</th>\n    </tr>\n  </thead>\n  <tbody>\n    <tr>\n      <th>178</th>\n      <td>1</td>\n    </tr>\n    <tr>\n      <th>421</th>\n      <td>1</td>\n    </tr>\n    <tr>\n      <th>57</th>\n      <td>0</td>\n    </tr>\n    <tr>\n      <th>514</th>\n      <td>0</td>\n    </tr>\n    <tr>\n      <th>548</th>\n      <td>1</td>\n    </tr>\n    <tr>\n      <th>...</th>\n      <td>...</td>\n    </tr>\n    <tr>\n      <th>552</th>\n      <td>1</td>\n    </tr>\n    <tr>\n      <th>393</th>\n      <td>0</td>\n    </tr>\n    <tr>\n      <th>75</th>\n      <td>0</td>\n    </tr>\n    <tr>\n      <th>337</th>\n      <td>0</td>\n    </tr>\n    <tr>\n      <th>523</th>\n      <td>1</td>\n    </tr>\n  </tbody>\n</table>\n<p>398 rows × 1 columns</p>\n</div>"
     },
     "execution_count": 21,
     "metadata": {},
     "output_type": "execute_result"
    }
   ]
  },
  {
   "cell_type": "markdown",
   "metadata": {
    "id": "irCX4j0IgNqC",
    "colab_type": "text"
   },
   "source": [
    "### **Creating and Training the Model**"
   ]
  },
  {
   "cell_type": "markdown",
   "metadata": {
    "id": "1Z0aBPGElbg2",
    "colab_type": "text"
   },
   "source": [
    "**i) Importing a model**"
   ]
  },
  {
   "cell_type": "code",
   "metadata": {
    "id": "1uLKx5ouB9Cl",
    "colab_type": "code",
    "colab": {},
    "ExecuteTime": {
     "end_time": "2024-02-21T10:19:55.397455600Z",
     "start_time": "2024-02-21T10:19:55.378437700Z"
    }
   },
   "source": [
    "# Select a model\n",
    "from sklearn.svm import SVC"
   ],
   "execution_count": 41,
   "outputs": []
  },
  {
   "cell_type": "markdown",
   "metadata": {
    "id": "Q53fQ3C-lfC_",
    "colab_type": "text"
   },
   "source": [
    "\n",
    "**ii) Instantiation**"
   ]
  },
  {
   "cell_type": "code",
   "metadata": {
    "id": "0ys7ydmvG0j6",
    "colab_type": "code",
    "colab": {},
    "ExecuteTime": {
     "end_time": "2024-02-21T10:15:35.542876200Z",
     "start_time": "2024-02-21T10:15:35.465180700Z"
    }
   },
   "source": [
    "# Instantiate\n",
    "model = SVC() # default: kernel = 'rbf'"
   ],
   "execution_count": 23,
   "outputs": []
  },
  {
   "cell_type": "code",
   "metadata": {
    "id": "kDE2zvD-zXSK",
    "colab_type": "code",
    "colab": {
     "base_uri": "https://localhost:8080/",
     "height": 86
    },
    "executionInfo": {
     "status": "ok",
     "timestamp": 1595661896651,
     "user_tz": -480,
     "elapsed": 2102,
     "user": {
      "displayName": "Connie Sze",
      "photoUrl": "",
      "userId": "04636244361226698916"
     }
    },
    "outputId": "1e7385e0-29ef-4f47-fded-55f84d649971",
    "ExecuteTime": {
     "end_time": "2024-02-21T10:15:35.603987900Z",
     "start_time": "2024-02-21T10:15:35.480206600Z"
    }
   },
   "source": [
    "model"
   ],
   "execution_count": 24,
   "outputs": [
    {
     "data": {
      "text/plain": "SVC()",
      "text/html": "<style>#sk-container-id-1 {color: black;}#sk-container-id-1 pre{padding: 0;}#sk-container-id-1 div.sk-toggleable {background-color: white;}#sk-container-id-1 label.sk-toggleable__label {cursor: pointer;display: block;width: 100%;margin-bottom: 0;padding: 0.3em;box-sizing: border-box;text-align: center;}#sk-container-id-1 label.sk-toggleable__label-arrow:before {content: \"▸\";float: left;margin-right: 0.25em;color: #696969;}#sk-container-id-1 label.sk-toggleable__label-arrow:hover:before {color: black;}#sk-container-id-1 div.sk-estimator:hover label.sk-toggleable__label-arrow:before {color: black;}#sk-container-id-1 div.sk-toggleable__content {max-height: 0;max-width: 0;overflow: hidden;text-align: left;background-color: #f0f8ff;}#sk-container-id-1 div.sk-toggleable__content pre {margin: 0.2em;color: black;border-radius: 0.25em;background-color: #f0f8ff;}#sk-container-id-1 input.sk-toggleable__control:checked~div.sk-toggleable__content {max-height: 200px;max-width: 100%;overflow: auto;}#sk-container-id-1 input.sk-toggleable__control:checked~label.sk-toggleable__label-arrow:before {content: \"▾\";}#sk-container-id-1 div.sk-estimator input.sk-toggleable__control:checked~label.sk-toggleable__label {background-color: #d4ebff;}#sk-container-id-1 div.sk-label input.sk-toggleable__control:checked~label.sk-toggleable__label {background-color: #d4ebff;}#sk-container-id-1 input.sk-hidden--visually {border: 0;clip: rect(1px 1px 1px 1px);clip: rect(1px, 1px, 1px, 1px);height: 1px;margin: -1px;overflow: hidden;padding: 0;position: absolute;width: 1px;}#sk-container-id-1 div.sk-estimator {font-family: monospace;background-color: #f0f8ff;border: 1px dotted black;border-radius: 0.25em;box-sizing: border-box;margin-bottom: 0.5em;}#sk-container-id-1 div.sk-estimator:hover {background-color: #d4ebff;}#sk-container-id-1 div.sk-parallel-item::after {content: \"\";width: 100%;border-bottom: 1px solid gray;flex-grow: 1;}#sk-container-id-1 div.sk-label:hover label.sk-toggleable__label {background-color: #d4ebff;}#sk-container-id-1 div.sk-serial::before {content: \"\";position: absolute;border-left: 1px solid gray;box-sizing: border-box;top: 0;bottom: 0;left: 50%;z-index: 0;}#sk-container-id-1 div.sk-serial {display: flex;flex-direction: column;align-items: center;background-color: white;padding-right: 0.2em;padding-left: 0.2em;position: relative;}#sk-container-id-1 div.sk-item {position: relative;z-index: 1;}#sk-container-id-1 div.sk-parallel {display: flex;align-items: stretch;justify-content: center;background-color: white;position: relative;}#sk-container-id-1 div.sk-item::before, #sk-container-id-1 div.sk-parallel-item::before {content: \"\";position: absolute;border-left: 1px solid gray;box-sizing: border-box;top: 0;bottom: 0;left: 50%;z-index: -1;}#sk-container-id-1 div.sk-parallel-item {display: flex;flex-direction: column;z-index: 1;position: relative;background-color: white;}#sk-container-id-1 div.sk-parallel-item:first-child::after {align-self: flex-end;width: 50%;}#sk-container-id-1 div.sk-parallel-item:last-child::after {align-self: flex-start;width: 50%;}#sk-container-id-1 div.sk-parallel-item:only-child::after {width: 0;}#sk-container-id-1 div.sk-dashed-wrapped {border: 1px dashed gray;margin: 0 0.4em 0.5em 0.4em;box-sizing: border-box;padding-bottom: 0.4em;background-color: white;}#sk-container-id-1 div.sk-label label {font-family: monospace;font-weight: bold;display: inline-block;line-height: 1.2em;}#sk-container-id-1 div.sk-label-container {text-align: center;}#sk-container-id-1 div.sk-container {/* jupyter's `normalize.less` sets `[hidden] { display: none; }` but bootstrap.min.css set `[hidden] { display: none !important; }` so we also need the `!important` here to be able to override the default hidden behavior on the sphinx rendered scikit-learn.org. See: https://github.com/scikit-learn/scikit-learn/issues/21755 */display: inline-block !important;position: relative;}#sk-container-id-1 div.sk-text-repr-fallback {display: none;}</style><div id=\"sk-container-id-1\" class=\"sk-top-container\"><div class=\"sk-text-repr-fallback\"><pre>SVC()</pre><b>In a Jupyter environment, please rerun this cell to show the HTML representation or trust the notebook. <br />On GitHub, the HTML representation is unable to render, please try loading this page with nbviewer.org.</b></div><div class=\"sk-container\" hidden><div class=\"sk-item\"><div class=\"sk-estimator sk-toggleable\"><input class=\"sk-toggleable__control sk-hidden--visually\" id=\"sk-estimator-id-1\" type=\"checkbox\" checked><label for=\"sk-estimator-id-1\" class=\"sk-toggleable__label sk-toggleable__label-arrow\">SVC</label><div class=\"sk-toggleable__content\"><pre>SVC()</pre></div></div></div></div></div>"
     },
     "execution_count": 24,
     "metadata": {},
     "output_type": "execute_result"
    }
   ]
  },
  {
   "cell_type": "markdown",
   "metadata": {
    "id": "B-QUvrGolhvD",
    "colab_type": "text"
   },
   "source": [
    "**iii) Model fitting**"
   ]
  },
  {
   "cell_type": "code",
   "metadata": {
    "id": "mNkzxKJsHIXy",
    "colab_type": "code",
    "colab": {
     "base_uri": "https://localhost:8080/",
     "height": 141
    },
    "executionInfo": {
     "status": "ok",
     "timestamp": 1595661896652,
     "user_tz": -480,
     "elapsed": 2092,
     "user": {
      "displayName": "Connie Sze",
      "photoUrl": "",
      "userId": "04636244361226698916"
     }
    },
    "outputId": "3dccb1a6-1883-46be-920b-653e8ec29e18",
    "ExecuteTime": {
     "end_time": "2024-02-21T10:15:35.620519500Z",
     "start_time": "2024-02-21T10:15:35.496719Z"
    }
   },
   "source": [
    "model.fit(X_train, y_train)"
   ],
   "execution_count": 25,
   "outputs": [
    {
     "name": "stderr",
     "output_type": "stream",
     "text": [
      "C:\\Users\\afkjh\\DataspellProjects\\untitled\\venv\\lib\\site-packages\\sklearn\\utils\\validation.py:1183: DataConversionWarning: A column-vector y was passed when a 1d array was expected. Please change the shape of y to (n_samples, ), for example using ravel().\n",
      "  y = column_or_1d(y, warn=True)\n"
     ]
    },
    {
     "data": {
      "text/plain": "SVC()",
      "text/html": "<style>#sk-container-id-2 {color: black;}#sk-container-id-2 pre{padding: 0;}#sk-container-id-2 div.sk-toggleable {background-color: white;}#sk-container-id-2 label.sk-toggleable__label {cursor: pointer;display: block;width: 100%;margin-bottom: 0;padding: 0.3em;box-sizing: border-box;text-align: center;}#sk-container-id-2 label.sk-toggleable__label-arrow:before {content: \"▸\";float: left;margin-right: 0.25em;color: #696969;}#sk-container-id-2 label.sk-toggleable__label-arrow:hover:before {color: black;}#sk-container-id-2 div.sk-estimator:hover label.sk-toggleable__label-arrow:before {color: black;}#sk-container-id-2 div.sk-toggleable__content {max-height: 0;max-width: 0;overflow: hidden;text-align: left;background-color: #f0f8ff;}#sk-container-id-2 div.sk-toggleable__content pre {margin: 0.2em;color: black;border-radius: 0.25em;background-color: #f0f8ff;}#sk-container-id-2 input.sk-toggleable__control:checked~div.sk-toggleable__content {max-height: 200px;max-width: 100%;overflow: auto;}#sk-container-id-2 input.sk-toggleable__control:checked~label.sk-toggleable__label-arrow:before {content: \"▾\";}#sk-container-id-2 div.sk-estimator input.sk-toggleable__control:checked~label.sk-toggleable__label {background-color: #d4ebff;}#sk-container-id-2 div.sk-label input.sk-toggleable__control:checked~label.sk-toggleable__label {background-color: #d4ebff;}#sk-container-id-2 input.sk-hidden--visually {border: 0;clip: rect(1px 1px 1px 1px);clip: rect(1px, 1px, 1px, 1px);height: 1px;margin: -1px;overflow: hidden;padding: 0;position: absolute;width: 1px;}#sk-container-id-2 div.sk-estimator {font-family: monospace;background-color: #f0f8ff;border: 1px dotted black;border-radius: 0.25em;box-sizing: border-box;margin-bottom: 0.5em;}#sk-container-id-2 div.sk-estimator:hover {background-color: #d4ebff;}#sk-container-id-2 div.sk-parallel-item::after {content: \"\";width: 100%;border-bottom: 1px solid gray;flex-grow: 1;}#sk-container-id-2 div.sk-label:hover label.sk-toggleable__label {background-color: #d4ebff;}#sk-container-id-2 div.sk-serial::before {content: \"\";position: absolute;border-left: 1px solid gray;box-sizing: border-box;top: 0;bottom: 0;left: 50%;z-index: 0;}#sk-container-id-2 div.sk-serial {display: flex;flex-direction: column;align-items: center;background-color: white;padding-right: 0.2em;padding-left: 0.2em;position: relative;}#sk-container-id-2 div.sk-item {position: relative;z-index: 1;}#sk-container-id-2 div.sk-parallel {display: flex;align-items: stretch;justify-content: center;background-color: white;position: relative;}#sk-container-id-2 div.sk-item::before, #sk-container-id-2 div.sk-parallel-item::before {content: \"\";position: absolute;border-left: 1px solid gray;box-sizing: border-box;top: 0;bottom: 0;left: 50%;z-index: -1;}#sk-container-id-2 div.sk-parallel-item {display: flex;flex-direction: column;z-index: 1;position: relative;background-color: white;}#sk-container-id-2 div.sk-parallel-item:first-child::after {align-self: flex-end;width: 50%;}#sk-container-id-2 div.sk-parallel-item:last-child::after {align-self: flex-start;width: 50%;}#sk-container-id-2 div.sk-parallel-item:only-child::after {width: 0;}#sk-container-id-2 div.sk-dashed-wrapped {border: 1px dashed gray;margin: 0 0.4em 0.5em 0.4em;box-sizing: border-box;padding-bottom: 0.4em;background-color: white;}#sk-container-id-2 div.sk-label label {font-family: monospace;font-weight: bold;display: inline-block;line-height: 1.2em;}#sk-container-id-2 div.sk-label-container {text-align: center;}#sk-container-id-2 div.sk-container {/* jupyter's `normalize.less` sets `[hidden] { display: none; }` but bootstrap.min.css set `[hidden] { display: none !important; }` so we also need the `!important` here to be able to override the default hidden behavior on the sphinx rendered scikit-learn.org. See: https://github.com/scikit-learn/scikit-learn/issues/21755 */display: inline-block !important;position: relative;}#sk-container-id-2 div.sk-text-repr-fallback {display: none;}</style><div id=\"sk-container-id-2\" class=\"sk-top-container\"><div class=\"sk-text-repr-fallback\"><pre>SVC()</pre><b>In a Jupyter environment, please rerun this cell to show the HTML representation or trust the notebook. <br />On GitHub, the HTML representation is unable to render, please try loading this page with nbviewer.org.</b></div><div class=\"sk-container\" hidden><div class=\"sk-item\"><div class=\"sk-estimator sk-toggleable\"><input class=\"sk-toggleable__control sk-hidden--visually\" id=\"sk-estimator-id-2\" type=\"checkbox\" checked><label for=\"sk-estimator-id-2\" class=\"sk-toggleable__label sk-toggleable__label-arrow\">SVC</label><div class=\"sk-toggleable__content\"><pre>SVC()</pre></div></div></div></div></div>"
     },
     "execution_count": 25,
     "metadata": {},
     "output_type": "execute_result"
    }
   ]
  },
  {
   "cell_type": "markdown",
   "metadata": {
    "id": "dYhkDPEWgWrX",
    "colab_type": "text"
   },
   "source": [
    "## **4. Model Prediction & Evaluation**"
   ]
  },
  {
   "cell_type": "markdown",
   "metadata": {
    "id": "3lN5KF2slniv",
    "colab_type": "text"
   },
   "source": [
    "### **Prediction**"
   ]
  },
  {
   "cell_type": "code",
   "metadata": {
    "id": "qClkxWYfHRoy",
    "colab_type": "code",
    "colab": {
     "base_uri": "https://localhost:8080/",
     "height": 156
    },
    "executionInfo": {
     "status": "ok",
     "timestamp": 1595661896652,
     "user_tz": -480,
     "elapsed": 2081,
     "user": {
      "displayName": "Connie Sze",
      "photoUrl": "",
      "userId": "04636244361226698916"
     }
    },
    "outputId": "d1d41566-dad2-4feb-a350-b74aa65c2952",
    "ExecuteTime": {
     "end_time": "2024-02-21T10:15:35.647052300Z",
     "start_time": "2024-02-21T10:15:35.511827200Z"
    }
   },
   "source": [
    "pred= model.predict(X_test)\n",
    "pred"
   ],
   "execution_count": 26,
   "outputs": [
    {
     "data": {
      "text/plain": "array([1, 1, 1, 0, 1, 1, 1, 0, 1, 1, 0, 1, 1, 1, 0, 1, 1, 1, 0, 1, 1, 1,\n       1, 1, 0, 1, 0, 1, 0, 1, 1, 1, 1, 0, 1, 1, 0, 1, 0, 0, 0, 1, 1, 1,\n       1, 1, 0, 1, 1, 1, 0, 1, 1, 0, 1, 1, 0, 0, 1, 1, 0, 1, 1, 1, 0, 1,\n       1, 0, 0, 1, 0, 1, 1, 1, 0, 0, 1, 0, 0, 1, 1, 1, 1, 1, 1, 1, 0, 1,\n       0, 0, 1, 0, 0, 1, 1, 1, 1, 1, 0, 0, 0, 1, 1, 1, 1, 1, 1, 1, 1, 1,\n       1, 1, 1, 0, 1, 1, 1, 0, 0, 0, 0, 0, 0, 1, 1, 1, 1, 1, 0, 1, 0, 0,\n       0, 1, 1, 1, 0, 0, 0, 1, 0, 1, 0, 1, 1, 1, 0, 1, 1, 1, 1, 0, 0, 0,\n       1, 0, 1, 0, 1, 1, 1, 1, 1, 0, 0, 1, 1, 1, 1, 1, 1])"
     },
     "execution_count": 26,
     "metadata": {},
     "output_type": "execute_result"
    }
   ]
  },
  {
   "cell_type": "code",
   "metadata": {
    "id": "u8LuW59FI_d2",
    "colab_type": "code",
    "colab": {
     "base_uri": "https://localhost:8080/",
     "height": 156
    },
    "executionInfo": {
     "status": "ok",
     "timestamp": 1595661896653,
     "user_tz": -480,
     "elapsed": 2072,
     "user": {
      "displayName": "Connie Sze",
      "photoUrl": "",
      "userId": "04636244361226698916"
     }
    },
    "outputId": "87c85065-980a-4b33-bb8a-0320e800eba7",
    "ExecuteTime": {
     "end_time": "2024-02-21T10:15:35.649142300Z",
     "start_time": "2024-02-21T10:15:35.527851400Z"
    }
   },
   "source": [
    "np.array(y_test[\"Cancer\"].tolist())"
   ],
   "execution_count": 27,
   "outputs": [
    {
     "data": {
      "text/plain": "array([1, 1, 1, 0, 1, 1, 1, 0, 1, 1, 0, 1, 1, 1, 0, 1, 1, 1, 0, 0, 1, 1,\n       1, 1, 0, 1, 0, 1, 0, 0, 1, 0, 1, 0, 1, 1, 0, 0, 0, 0, 0, 1, 1, 1,\n       1, 1, 0, 1, 0, 1, 0, 1, 1, 0, 1, 1, 0, 0, 1, 1, 0, 0, 1, 1, 0, 1,\n       1, 0, 0, 1, 0, 1, 1, 1, 0, 0, 1, 0, 0, 1, 1, 1, 1, 1, 1, 1, 0, 1,\n       0, 0, 1, 0, 0, 1, 1, 1, 1, 1, 0, 0, 0, 1, 1, 1, 1, 1, 1, 1, 1, 1,\n       1, 1, 1, 0, 1, 1, 1, 0, 0, 0, 0, 0, 0, 1, 1, 1, 1, 1, 1, 1, 0, 0,\n       1, 1, 1, 1, 0, 0, 0, 1, 0, 1, 0, 1, 1, 1, 1, 1, 1, 1, 1, 0, 0, 0,\n       1, 0, 1, 0, 1, 1, 0, 1, 1, 0, 0, 0, 1, 1, 1, 0, 0])"
     },
     "execution_count": 27,
     "metadata": {},
     "output_type": "execute_result"
    }
   ]
  },
  {
   "cell_type": "markdown",
   "metadata": {
    "id": "ndZOJCudlqkO",
    "colab_type": "text"
   },
   "source": [
    "### **Evaluation**"
   ]
  },
  {
   "cell_type": "code",
   "metadata": {
    "id": "LH9hxKxNHacq",
    "colab_type": "code",
    "colab": {},
    "ExecuteTime": {
     "end_time": "2024-02-21T10:15:35.665674200Z",
     "start_time": "2024-02-21T10:15:35.543874900Z"
    }
   },
   "source": [
    "from sklearn.metrics import accuracy_score, confusion_matrix, classification_report"
   ],
   "execution_count": 28,
   "outputs": []
  },
  {
   "cell_type": "code",
   "metadata": {
    "id": "3aszBGhhJDg2",
    "colab_type": "code",
    "colab": {
     "base_uri": "https://localhost:8080/",
     "height": 34
    },
    "executionInfo": {
     "status": "ok",
     "timestamp": 1595661896656,
     "user_tz": -480,
     "elapsed": 2060,
     "user": {
      "displayName": "Connie Sze",
      "photoUrl": "",
      "userId": "04636244361226698916"
     }
    },
    "outputId": "2ac2b8b7-6847-4422-de92-a70f32fee6c0",
    "ExecuteTime": {
     "end_time": "2024-02-21T10:15:35.667175Z",
     "start_time": "2024-02-21T10:15:35.558898Z"
    }
   },
   "source": [
    "print(accuracy_score(y_test,pred))"
   ],
   "execution_count": 29,
   "outputs": [
    {
     "name": "stdout",
     "output_type": "stream",
     "text": [
      "0.9239766081871345\n"
     ]
    }
   ]
  },
  {
   "cell_type": "code",
   "metadata": {
    "id": "sggGiZakHj7H",
    "colab_type": "code",
    "colab": {
     "base_uri": "https://localhost:8080/",
     "height": 52
    },
    "executionInfo": {
     "status": "ok",
     "timestamp": 1595661896656,
     "user_tz": -480,
     "elapsed": 2050,
     "user": {
      "displayName": "Connie Sze",
      "photoUrl": "",
      "userId": "04636244361226698916"
     }
    },
    "outputId": "0e1cebbb-03d9-4622-e94b-f65d4084c884",
    "ExecuteTime": {
     "end_time": "2024-02-21T10:15:35.735829Z",
     "start_time": "2024-02-21T10:15:35.574928300Z"
    }
   },
   "source": [
    "print(confusion_matrix(y_test, pred))"
   ],
   "execution_count": 30,
   "outputs": [
    {
     "name": "stdout",
     "output_type": "stream",
     "text": [
      "[[ 56  10]\n",
      " [  3 102]]\n"
     ]
    }
   ]
  },
  {
   "cell_type": "code",
   "metadata": {
    "id": "UtGd6d-euJwC",
    "colab_type": "code",
    "colab": {
     "base_uri": "https://localhost:8080/",
     "height": 173
    },
    "executionInfo": {
     "status": "ok",
     "timestamp": 1595661896657,
     "user_tz": -480,
     "elapsed": 2040,
     "user": {
      "displayName": "Connie Sze",
      "photoUrl": "",
      "userId": "04636244361226698916"
     }
    },
    "outputId": "1faca2d2-f65e-4420-9f8a-295bb8a5c2ac",
    "ExecuteTime": {
     "end_time": "2024-02-21T10:15:35.740335600Z",
     "start_time": "2024-02-21T10:15:35.590465500Z"
    }
   },
   "source": [
    "print(classification_report(y_test, pred))"
   ],
   "execution_count": 31,
   "outputs": [
    {
     "name": "stdout",
     "output_type": "stream",
     "text": [
      "              precision    recall  f1-score   support\n",
      "\n",
      "           0       0.95      0.85      0.90        66\n",
      "           1       0.91      0.97      0.94       105\n",
      "\n",
      "    accuracy                           0.92       171\n",
      "   macro avg       0.93      0.91      0.92       171\n",
      "weighted avg       0.93      0.92      0.92       171\n"
     ]
    }
   ]
  },
  {
   "cell_type": "markdown",
   "metadata": {
    "id": "QG8s2vulJTOJ",
    "colab_type": "text"
   },
   "source": [
    "## **Implementing Kernel SVM**"
   ]
  },
  {
   "cell_type": "markdown",
   "metadata": {
    "id": "Hh0fwscdz9Bj",
    "colab_type": "text"
   },
   "source": [
    "### **1) Linear Kernel**"
   ]
  },
  {
   "cell_type": "code",
   "metadata": {
    "id": "oByBm7sjJVJU",
    "colab_type": "code",
    "colab": {},
    "ExecuteTime": {
     "end_time": "2024-02-21T10:15:35.761870300Z",
     "start_time": "2024-02-21T10:15:35.606488200Z"
    }
   },
   "source": [
    "model2=SVC(kernel=\"linear\") # the linear kernel works fine if your dataset if linearly separable"
   ],
   "execution_count": 32,
   "outputs": []
  },
  {
   "cell_type": "code",
   "metadata": {
    "id": "ZsDhhxNinIwQ",
    "colab_type": "code",
    "colab": {
     "base_uri": "https://localhost:8080/",
     "height": 86
    },
    "executionInfo": {
     "status": "ok",
     "timestamp": 1595661896658,
     "user_tz": -480,
     "elapsed": 2025,
     "user": {
      "displayName": "Connie Sze",
      "photoUrl": "",
      "userId": "04636244361226698916"
     }
    },
    "outputId": "99ecc231-f79d-41a4-f100-faba1cbaf5a3",
    "ExecuteTime": {
     "end_time": "2024-02-21T10:15:35.777890400Z",
     "start_time": "2024-02-21T10:15:35.622019400Z"
    }
   },
   "source": [
    "model2"
   ],
   "execution_count": 33,
   "outputs": [
    {
     "data": {
      "text/plain": "SVC(kernel='linear')",
      "text/html": "<style>#sk-container-id-3 {color: black;}#sk-container-id-3 pre{padding: 0;}#sk-container-id-3 div.sk-toggleable {background-color: white;}#sk-container-id-3 label.sk-toggleable__label {cursor: pointer;display: block;width: 100%;margin-bottom: 0;padding: 0.3em;box-sizing: border-box;text-align: center;}#sk-container-id-3 label.sk-toggleable__label-arrow:before {content: \"▸\";float: left;margin-right: 0.25em;color: #696969;}#sk-container-id-3 label.sk-toggleable__label-arrow:hover:before {color: black;}#sk-container-id-3 div.sk-estimator:hover label.sk-toggleable__label-arrow:before {color: black;}#sk-container-id-3 div.sk-toggleable__content {max-height: 0;max-width: 0;overflow: hidden;text-align: left;background-color: #f0f8ff;}#sk-container-id-3 div.sk-toggleable__content pre {margin: 0.2em;color: black;border-radius: 0.25em;background-color: #f0f8ff;}#sk-container-id-3 input.sk-toggleable__control:checked~div.sk-toggleable__content {max-height: 200px;max-width: 100%;overflow: auto;}#sk-container-id-3 input.sk-toggleable__control:checked~label.sk-toggleable__label-arrow:before {content: \"▾\";}#sk-container-id-3 div.sk-estimator input.sk-toggleable__control:checked~label.sk-toggleable__label {background-color: #d4ebff;}#sk-container-id-3 div.sk-label input.sk-toggleable__control:checked~label.sk-toggleable__label {background-color: #d4ebff;}#sk-container-id-3 input.sk-hidden--visually {border: 0;clip: rect(1px 1px 1px 1px);clip: rect(1px, 1px, 1px, 1px);height: 1px;margin: -1px;overflow: hidden;padding: 0;position: absolute;width: 1px;}#sk-container-id-3 div.sk-estimator {font-family: monospace;background-color: #f0f8ff;border: 1px dotted black;border-radius: 0.25em;box-sizing: border-box;margin-bottom: 0.5em;}#sk-container-id-3 div.sk-estimator:hover {background-color: #d4ebff;}#sk-container-id-3 div.sk-parallel-item::after {content: \"\";width: 100%;border-bottom: 1px solid gray;flex-grow: 1;}#sk-container-id-3 div.sk-label:hover label.sk-toggleable__label {background-color: #d4ebff;}#sk-container-id-3 div.sk-serial::before {content: \"\";position: absolute;border-left: 1px solid gray;box-sizing: border-box;top: 0;bottom: 0;left: 50%;z-index: 0;}#sk-container-id-3 div.sk-serial {display: flex;flex-direction: column;align-items: center;background-color: white;padding-right: 0.2em;padding-left: 0.2em;position: relative;}#sk-container-id-3 div.sk-item {position: relative;z-index: 1;}#sk-container-id-3 div.sk-parallel {display: flex;align-items: stretch;justify-content: center;background-color: white;position: relative;}#sk-container-id-3 div.sk-item::before, #sk-container-id-3 div.sk-parallel-item::before {content: \"\";position: absolute;border-left: 1px solid gray;box-sizing: border-box;top: 0;bottom: 0;left: 50%;z-index: -1;}#sk-container-id-3 div.sk-parallel-item {display: flex;flex-direction: column;z-index: 1;position: relative;background-color: white;}#sk-container-id-3 div.sk-parallel-item:first-child::after {align-self: flex-end;width: 50%;}#sk-container-id-3 div.sk-parallel-item:last-child::after {align-self: flex-start;width: 50%;}#sk-container-id-3 div.sk-parallel-item:only-child::after {width: 0;}#sk-container-id-3 div.sk-dashed-wrapped {border: 1px dashed gray;margin: 0 0.4em 0.5em 0.4em;box-sizing: border-box;padding-bottom: 0.4em;background-color: white;}#sk-container-id-3 div.sk-label label {font-family: monospace;font-weight: bold;display: inline-block;line-height: 1.2em;}#sk-container-id-3 div.sk-label-container {text-align: center;}#sk-container-id-3 div.sk-container {/* jupyter's `normalize.less` sets `[hidden] { display: none; }` but bootstrap.min.css set `[hidden] { display: none !important; }` so we also need the `!important` here to be able to override the default hidden behavior on the sphinx rendered scikit-learn.org. See: https://github.com/scikit-learn/scikit-learn/issues/21755 */display: inline-block !important;position: relative;}#sk-container-id-3 div.sk-text-repr-fallback {display: none;}</style><div id=\"sk-container-id-3\" class=\"sk-top-container\"><div class=\"sk-text-repr-fallback\"><pre>SVC(kernel=&#x27;linear&#x27;)</pre><b>In a Jupyter environment, please rerun this cell to show the HTML representation or trust the notebook. <br />On GitHub, the HTML representation is unable to render, please try loading this page with nbviewer.org.</b></div><div class=\"sk-container\" hidden><div class=\"sk-item\"><div class=\"sk-estimator sk-toggleable\"><input class=\"sk-toggleable__control sk-hidden--visually\" id=\"sk-estimator-id-3\" type=\"checkbox\" checked><label for=\"sk-estimator-id-3\" class=\"sk-toggleable__label sk-toggleable__label-arrow\">SVC</label><div class=\"sk-toggleable__content\"><pre>SVC(kernel=&#x27;linear&#x27;)</pre></div></div></div></div></div>"
     },
     "execution_count": 33,
     "metadata": {},
     "output_type": "execute_result"
    }
   ]
  },
  {
   "cell_type": "code",
   "metadata": {
    "id": "mIMpPqYOJWrz",
    "colab_type": "code",
    "colab": {
     "base_uri": "https://localhost:8080/",
     "height": 141
    },
    "executionInfo": {
     "status": "ok",
     "timestamp": 1595661896958,
     "user_tz": -480,
     "elapsed": 2314,
     "user": {
      "displayName": "Connie Sze",
      "photoUrl": "",
      "userId": "04636244361226698916"
     }
    },
    "outputId": "51eec542-e861-4d65-ee75-07b3a078ad5d",
    "ExecuteTime": {
     "end_time": "2024-02-21T10:15:36.164783900Z",
     "start_time": "2024-02-21T10:15:35.638031900Z"
    }
   },
   "source": [
    "model2.fit(X_train, y_train)"
   ],
   "execution_count": 34,
   "outputs": [
    {
     "name": "stderr",
     "output_type": "stream",
     "text": [
      "C:\\Users\\afkjh\\DataspellProjects\\untitled\\venv\\lib\\site-packages\\sklearn\\utils\\validation.py:1183: DataConversionWarning: A column-vector y was passed when a 1d array was expected. Please change the shape of y to (n_samples, ), for example using ravel().\n",
      "  y = column_or_1d(y, warn=True)\n"
     ]
    },
    {
     "data": {
      "text/plain": "SVC(kernel='linear')",
      "text/html": "<style>#sk-container-id-4 {color: black;}#sk-container-id-4 pre{padding: 0;}#sk-container-id-4 div.sk-toggleable {background-color: white;}#sk-container-id-4 label.sk-toggleable__label {cursor: pointer;display: block;width: 100%;margin-bottom: 0;padding: 0.3em;box-sizing: border-box;text-align: center;}#sk-container-id-4 label.sk-toggleable__label-arrow:before {content: \"▸\";float: left;margin-right: 0.25em;color: #696969;}#sk-container-id-4 label.sk-toggleable__label-arrow:hover:before {color: black;}#sk-container-id-4 div.sk-estimator:hover label.sk-toggleable__label-arrow:before {color: black;}#sk-container-id-4 div.sk-toggleable__content {max-height: 0;max-width: 0;overflow: hidden;text-align: left;background-color: #f0f8ff;}#sk-container-id-4 div.sk-toggleable__content pre {margin: 0.2em;color: black;border-radius: 0.25em;background-color: #f0f8ff;}#sk-container-id-4 input.sk-toggleable__control:checked~div.sk-toggleable__content {max-height: 200px;max-width: 100%;overflow: auto;}#sk-container-id-4 input.sk-toggleable__control:checked~label.sk-toggleable__label-arrow:before {content: \"▾\";}#sk-container-id-4 div.sk-estimator input.sk-toggleable__control:checked~label.sk-toggleable__label {background-color: #d4ebff;}#sk-container-id-4 div.sk-label input.sk-toggleable__control:checked~label.sk-toggleable__label {background-color: #d4ebff;}#sk-container-id-4 input.sk-hidden--visually {border: 0;clip: rect(1px 1px 1px 1px);clip: rect(1px, 1px, 1px, 1px);height: 1px;margin: -1px;overflow: hidden;padding: 0;position: absolute;width: 1px;}#sk-container-id-4 div.sk-estimator {font-family: monospace;background-color: #f0f8ff;border: 1px dotted black;border-radius: 0.25em;box-sizing: border-box;margin-bottom: 0.5em;}#sk-container-id-4 div.sk-estimator:hover {background-color: #d4ebff;}#sk-container-id-4 div.sk-parallel-item::after {content: \"\";width: 100%;border-bottom: 1px solid gray;flex-grow: 1;}#sk-container-id-4 div.sk-label:hover label.sk-toggleable__label {background-color: #d4ebff;}#sk-container-id-4 div.sk-serial::before {content: \"\";position: absolute;border-left: 1px solid gray;box-sizing: border-box;top: 0;bottom: 0;left: 50%;z-index: 0;}#sk-container-id-4 div.sk-serial {display: flex;flex-direction: column;align-items: center;background-color: white;padding-right: 0.2em;padding-left: 0.2em;position: relative;}#sk-container-id-4 div.sk-item {position: relative;z-index: 1;}#sk-container-id-4 div.sk-parallel {display: flex;align-items: stretch;justify-content: center;background-color: white;position: relative;}#sk-container-id-4 div.sk-item::before, #sk-container-id-4 div.sk-parallel-item::before {content: \"\";position: absolute;border-left: 1px solid gray;box-sizing: border-box;top: 0;bottom: 0;left: 50%;z-index: -1;}#sk-container-id-4 div.sk-parallel-item {display: flex;flex-direction: column;z-index: 1;position: relative;background-color: white;}#sk-container-id-4 div.sk-parallel-item:first-child::after {align-self: flex-end;width: 50%;}#sk-container-id-4 div.sk-parallel-item:last-child::after {align-self: flex-start;width: 50%;}#sk-container-id-4 div.sk-parallel-item:only-child::after {width: 0;}#sk-container-id-4 div.sk-dashed-wrapped {border: 1px dashed gray;margin: 0 0.4em 0.5em 0.4em;box-sizing: border-box;padding-bottom: 0.4em;background-color: white;}#sk-container-id-4 div.sk-label label {font-family: monospace;font-weight: bold;display: inline-block;line-height: 1.2em;}#sk-container-id-4 div.sk-label-container {text-align: center;}#sk-container-id-4 div.sk-container {/* jupyter's `normalize.less` sets `[hidden] { display: none; }` but bootstrap.min.css set `[hidden] { display: none !important; }` so we also need the `!important` here to be able to override the default hidden behavior on the sphinx rendered scikit-learn.org. See: https://github.com/scikit-learn/scikit-learn/issues/21755 */display: inline-block !important;position: relative;}#sk-container-id-4 div.sk-text-repr-fallback {display: none;}</style><div id=\"sk-container-id-4\" class=\"sk-top-container\"><div class=\"sk-text-repr-fallback\"><pre>SVC(kernel=&#x27;linear&#x27;)</pre><b>In a Jupyter environment, please rerun this cell to show the HTML representation or trust the notebook. <br />On GitHub, the HTML representation is unable to render, please try loading this page with nbviewer.org.</b></div><div class=\"sk-container\" hidden><div class=\"sk-item\"><div class=\"sk-estimator sk-toggleable\"><input class=\"sk-toggleable__control sk-hidden--visually\" id=\"sk-estimator-id-4\" type=\"checkbox\" checked><label for=\"sk-estimator-id-4\" class=\"sk-toggleable__label sk-toggleable__label-arrow\">SVC</label><div class=\"sk-toggleable__content\"><pre>SVC(kernel=&#x27;linear&#x27;)</pre></div></div></div></div></div>"
     },
     "execution_count": 34,
     "metadata": {},
     "output_type": "execute_result"
    }
   ]
  },
  {
   "cell_type": "code",
   "metadata": {
    "id": "nxCbktGtJYAf",
    "colab_type": "code",
    "colab": {
     "base_uri": "https://localhost:8080/",
     "height": 156
    },
    "executionInfo": {
     "status": "ok",
     "timestamp": 1595661896959,
     "user_tz": -480,
     "elapsed": 2303,
     "user": {
      "displayName": "Connie Sze",
      "photoUrl": "",
      "userId": "04636244361226698916"
     }
    },
    "outputId": "a0283921-955e-40e3-94fa-8f34f7269850",
    "ExecuteTime": {
     "end_time": "2024-02-21T10:15:36.196335800Z",
     "start_time": "2024-02-21T10:15:36.169297900Z"
    }
   },
   "source": [
    "pred2= model2.predict(X_test)\n",
    "pred2"
   ],
   "execution_count": 35,
   "outputs": [
    {
     "data": {
      "text/plain": "array([1, 1, 1, 0, 1, 1, 1, 0, 1, 1, 0, 1, 1, 1, 0, 1, 1, 1, 0, 1, 1, 1,\n       1, 1, 0, 1, 0, 1, 0, 0, 1, 0, 1, 0, 1, 1, 0, 0, 0, 0, 0, 1, 1, 1,\n       1, 1, 0, 1, 0, 1, 0, 0, 1, 0, 1, 1, 0, 0, 1, 1, 0, 1, 1, 1, 0, 1,\n       1, 0, 0, 1, 0, 1, 1, 1, 0, 0, 1, 1, 0, 1, 1, 1, 0, 1, 1, 1, 0, 1,\n       0, 0, 1, 0, 0, 1, 1, 1, 1, 1, 0, 0, 0, 1, 1, 1, 1, 1, 1, 1, 1, 1,\n       1, 1, 1, 0, 0, 1, 1, 0, 0, 0, 0, 0, 0, 1, 1, 1, 1, 1, 1, 1, 0, 0,\n       1, 1, 1, 1, 0, 0, 0, 1, 0, 1, 0, 1, 1, 1, 1, 1, 1, 1, 1, 0, 0, 0,\n       1, 0, 1, 0, 1, 1, 0, 1, 1, 0, 0, 1, 1, 1, 1, 1, 1])"
     },
     "execution_count": 35,
     "metadata": {},
     "output_type": "execute_result"
    }
   ]
  },
  {
   "cell_type": "code",
   "metadata": {
    "id": "QKKtVlGrJZiS",
    "colab_type": "code",
    "colab": {
     "base_uri": "https://localhost:8080/",
     "height": 34
    },
    "executionInfo": {
     "status": "ok",
     "timestamp": 1595661896959,
     "user_tz": -480,
     "elapsed": 2293,
     "user": {
      "displayName": "Connie Sze",
      "photoUrl": "",
      "userId": "04636244361226698916"
     }
    },
    "outputId": "e4b0b95f-0e5a-4537-9a3a-9729b63f2f4a",
    "ExecuteTime": {
     "end_time": "2024-02-21T10:15:36.197840100Z",
     "start_time": "2024-02-21T10:15:36.181322800Z"
    }
   },
   "source": [
    "print(accuracy_score(y_test, pred2))"
   ],
   "execution_count": 36,
   "outputs": [
    {
     "name": "stdout",
     "output_type": "stream",
     "text": [
      "0.9473684210526315\n"
     ]
    }
   ]
  },
  {
   "cell_type": "markdown",
   "metadata": {
    "id": "ts0zGJ4g0Ava",
    "colab_type": "text"
   },
   "source": [
    "### **2. Polynomial Kernel**"
   ]
  },
  {
   "cell_type": "code",
   "metadata": {
    "id": "LBf9-tmJ0ABk",
    "colab_type": "code",
    "colab": {
     "base_uri": "https://localhost:8080/",
     "height": 89
    },
    "executionInfo": {
     "status": "ok",
     "timestamp": 1595661897492,
     "user_tz": -480,
     "elapsed": 2814,
     "user": {
      "displayName": "Connie Sze",
      "photoUrl": "",
      "userId": "04636244361226698916"
     }
    },
    "outputId": "601ccf29-ce22-4f77-df62-5a6344538068",
    "ExecuteTime": {
     "end_time": "2024-02-21T10:15:36.213953Z",
     "start_time": "2024-02-21T10:15:36.197339900Z"
    }
   },
   "source": [
    "model3=SVC(kernel=\"poly\")\n",
    "model3.fit(X_train, y_train)\n",
    "pred3= model3.predict(X_test)\n",
    "print(accuracy_score(y_test, pred3))"
   ],
   "execution_count": 37,
   "outputs": [
    {
     "name": "stdout",
     "output_type": "stream",
     "text": [
      "0.9064327485380117\n"
     ]
    },
    {
     "name": "stderr",
     "output_type": "stream",
     "text": [
      "C:\\Users\\afkjh\\DataspellProjects\\untitled\\venv\\lib\\site-packages\\sklearn\\utils\\validation.py:1183: DataConversionWarning: A column-vector y was passed when a 1d array was expected. Please change the shape of y to (n_samples, ), for example using ravel().\n",
      "  y = column_or_1d(y, warn=True)\n"
     ]
    }
   ]
  },
  {
   "cell_type": "markdown",
   "metadata": {
    "id": "i9GhHR-O0bhG",
    "colab_type": "text"
   },
   "source": [
    "### **3. Gaussian Kernel**"
   ]
  },
  {
   "cell_type": "code",
   "metadata": {
    "id": "gnIk8gIK0eXJ",
    "colab_type": "code",
    "colab": {
     "base_uri": "https://localhost:8080/",
     "height": 89
    },
    "executionInfo": {
     "status": "ok",
     "timestamp": 1595661897493,
     "user_tz": -480,
     "elapsed": 2804,
     "user": {
      "displayName": "Connie Sze",
      "photoUrl": "",
      "userId": "04636244361226698916"
     }
    },
    "outputId": "c66b4d6a-5f8b-44fe-c330-4161e48c5b6e",
    "ExecuteTime": {
     "end_time": "2024-02-21T10:15:36.302652900Z",
     "start_time": "2024-02-21T10:15:36.212455Z"
    }
   },
   "source": [
    "model4=SVC(kernel=\"rbf\")\n",
    "model4.fit(X_train, y_train)\n",
    "pred4= model4.predict(X_test)\n",
    "print(accuracy_score(y_test, pred4))"
   ],
   "execution_count": 38,
   "outputs": [
    {
     "name": "stdout",
     "output_type": "stream",
     "text": [
      "0.9239766081871345\n"
     ]
    },
    {
     "name": "stderr",
     "output_type": "stream",
     "text": [
      "C:\\Users\\afkjh\\DataspellProjects\\untitled\\venv\\lib\\site-packages\\sklearn\\utils\\validation.py:1183: DataConversionWarning: A column-vector y was passed when a 1d array was expected. Please change the shape of y to (n_samples, ), for example using ravel().\n",
      "  y = column_or_1d(y, warn=True)\n"
     ]
    }
   ]
  },
  {
   "cell_type": "markdown",
   "metadata": {
    "id": "hLZd0k-t06FH",
    "colab_type": "text"
   },
   "source": [
    "### **4. Sigmoid Kernel**"
   ]
  },
  {
   "cell_type": "code",
   "metadata": {
    "id": "iA6pFTLf0rxv",
    "colab_type": "code",
    "colab": {
     "base_uri": "https://localhost:8080/",
     "height": 89
    },
    "executionInfo": {
     "status": "ok",
     "timestamp": 1595661897493,
     "user_tz": -480,
     "elapsed": 2793,
     "user": {
      "displayName": "Connie Sze",
      "photoUrl": "",
      "userId": "04636244361226698916"
     }
    },
    "outputId": "30460e51-1d2c-42de-dc89-463d3f9f36d8",
    "ExecuteTime": {
     "end_time": "2024-02-21T10:15:36.357875800Z",
     "start_time": "2024-02-21T10:15:36.227979300Z"
    }
   },
   "source": [
    "model5=SVC(kernel=\"sigmoid\")\n",
    "model5.fit(X_train, y_train)\n",
    "pred5= model5.predict(X_test)\n",
    "print(accuracy_score(y_test, pred5))"
   ],
   "execution_count": 39,
   "outputs": [
    {
     "name": "stdout",
     "output_type": "stream",
     "text": [
      "0.4152046783625731\n"
     ]
    },
    {
     "name": "stderr",
     "output_type": "stream",
     "text": [
      "C:\\Users\\afkjh\\DataspellProjects\\untitled\\venv\\lib\\site-packages\\sklearn\\utils\\validation.py:1183: DataConversionWarning: A column-vector y was passed when a 1d array was expected. Please change the shape of y to (n_samples, ), for example using ravel().\n",
      "  y = column_or_1d(y, warn=True)\n"
     ]
    }
   ]
  },
  {
   "cell_type": "code",
   "metadata": {
    "id": "YLuugVMZdA6W",
    "colab_type": "code",
    "colab": {},
    "ExecuteTime": {
     "end_time": "2024-02-21T10:15:36.359389800Z",
     "start_time": "2024-02-21T10:15:36.259555Z"
    }
   },
   "source": [
    "# sigmoid kernel: the worst -> returns two values, 0 and 1 -> for binary classification problems"
   ],
   "execution_count": 40,
   "outputs": []
  }
 ]
}
