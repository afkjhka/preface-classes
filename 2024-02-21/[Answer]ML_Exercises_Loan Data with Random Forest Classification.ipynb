{
 "nbformat": 4,
 "nbformat_minor": 0,
 "metadata": {
  "colab": {
   "name": "ML_Exercises_Loan Data with Random Forest Classification.ipynb",
   "provenance": [
    {
     "file_id": "1lgK5tyymBkZwChMRuffJGGhQxJjbEDkR",
     "timestamp": 1595654049401
    },
    {
     "file_id": "1ooiCDFijkITGjodnFP-3xlFjBwqgS9zf",
     "timestamp": 1589111956065
    }
   ],
   "collapsed_sections": []
  },
  "kernelspec": {
   "name": "python3",
   "language": "python",
   "display_name": "Python 3 (ipykernel)"
  }
 },
 "cells": [
  {
   "cell_type": "markdown",
   "metadata": {
    "id": "D20DZBS2jcrK",
    "colab_type": "text"
   },
   "source": [
    "## **1. Data Acquisition**"
   ]
  },
  {
   "cell_type": "markdown",
   "metadata": {
    "id": "SBLf9PwGjfDM",
    "colab_type": "text"
   },
   "source": [
    "**Importing required libraries**"
   ]
  },
  {
   "cell_type": "code",
   "metadata": {
    "id": "0NgBkETC-DX4",
    "colab_type": "code",
    "colab": {
     "base_uri": "https://localhost:8080/",
     "height": 69
    },
    "executionInfo": {
     "status": "ok",
     "timestamp": 1596520551064,
     "user_tz": -480,
     "elapsed": 678,
     "user": {
      "displayName": "Connie Sze",
      "photoUrl": "",
      "userId": "04636244361226698916"
     }
    },
    "outputId": "ff2a6588-ed35-4f03-cd52-8bdb080d00e6",
    "ExecuteTime": {
     "end_time": "2024-02-21T10:23:44.959019700Z",
     "start_time": "2024-02-21T10:23:44.943990Z"
    }
   },
   "source": [
    "import pandas as pd\n",
    "import numpy as np\n",
    "import matplotlib.pyplot as plt\n",
    "import seaborn as sns"
   ],
   "execution_count": 1,
   "outputs": []
  },
  {
   "cell_type": "markdown",
   "metadata": {
    "id": "VcdcieIdjhYi",
    "colab_type": "text"
   },
   "source": [
    "**Loading a dataset**"
   ]
  },
  {
   "cell_type": "code",
   "metadata": {
    "id": "s_xLglcf-ZnM",
    "colab_type": "code",
    "colab": {},
    "ExecuteTime": {
     "end_time": "2024-02-21T10:23:44.990058800Z",
     "start_time": "2024-02-21T10:23:44.959019700Z"
    }
   },
   "source": [
    "loans= pd.read_csv(\"loan_data.csv\")"
   ],
   "execution_count": 2,
   "outputs": []
  },
  {
   "cell_type": "code",
   "metadata": {
    "id": "cA1K-Tm2sa1a",
    "colab_type": "code",
    "colab": {
     "base_uri": "https://localhost:8080/",
     "height": 221
    },
    "executionInfo": {
     "status": "ok",
     "timestamp": 1596520554235,
     "user_tz": -480,
     "elapsed": 764,
     "user": {
      "displayName": "Connie Sze",
      "photoUrl": "",
      "userId": "04636244361226698916"
     }
    },
    "outputId": "592a82ee-f9bf-460a-c061-541003bb6996",
    "ExecuteTime": {
     "end_time": "2024-02-21T10:23:45.007628100Z",
     "start_time": "2024-02-21T10:23:44.990560Z"
    }
   },
   "source": [
    "loans.head()"
   ],
   "execution_count": 3,
   "outputs": [
    {
     "data": {
      "text/plain": "   credit.policy             purpose  int.rate  installment  log.annual.inc  \\\n0              1  debt_consolidation    0.1189       829.10       11.350407   \n1              1         credit_card    0.1071       228.22       11.082143   \n2              1  debt_consolidation    0.1357       366.86       10.373491   \n3              1  debt_consolidation    0.1008       162.34       11.350407   \n4              1         credit_card    0.1426       102.92       11.299732   \n\n     dti  fico  days.with.cr.line  revol.bal  revol.util  inq.last.6mths  \\\n0  19.48   737        5639.958333      28854        52.1               0   \n1  14.29   707        2760.000000      33623        76.7               0   \n2  11.63   682        4710.000000       3511        25.6               1   \n3   8.10   712        2699.958333      33667        73.2               1   \n4  14.97   667        4066.000000       4740        39.5               0   \n\n   delinq.2yrs  pub.rec  not.fully.paid  \n0            0        0               0  \n1            0        0               0  \n2            0        0               0  \n3            0        0               0  \n4            1        0               0  ",
      "text/html": "<div>\n<style scoped>\n    .dataframe tbody tr th:only-of-type {\n        vertical-align: middle;\n    }\n\n    .dataframe tbody tr th {\n        vertical-align: top;\n    }\n\n    .dataframe thead th {\n        text-align: right;\n    }\n</style>\n<table border=\"1\" class=\"dataframe\">\n  <thead>\n    <tr style=\"text-align: right;\">\n      <th></th>\n      <th>credit.policy</th>\n      <th>purpose</th>\n      <th>int.rate</th>\n      <th>installment</th>\n      <th>log.annual.inc</th>\n      <th>dti</th>\n      <th>fico</th>\n      <th>days.with.cr.line</th>\n      <th>revol.bal</th>\n      <th>revol.util</th>\n      <th>inq.last.6mths</th>\n      <th>delinq.2yrs</th>\n      <th>pub.rec</th>\n      <th>not.fully.paid</th>\n    </tr>\n  </thead>\n  <tbody>\n    <tr>\n      <th>0</th>\n      <td>1</td>\n      <td>debt_consolidation</td>\n      <td>0.1189</td>\n      <td>829.10</td>\n      <td>11.350407</td>\n      <td>19.48</td>\n      <td>737</td>\n      <td>5639.958333</td>\n      <td>28854</td>\n      <td>52.1</td>\n      <td>0</td>\n      <td>0</td>\n      <td>0</td>\n      <td>0</td>\n    </tr>\n    <tr>\n      <th>1</th>\n      <td>1</td>\n      <td>credit_card</td>\n      <td>0.1071</td>\n      <td>228.22</td>\n      <td>11.082143</td>\n      <td>14.29</td>\n      <td>707</td>\n      <td>2760.000000</td>\n      <td>33623</td>\n      <td>76.7</td>\n      <td>0</td>\n      <td>0</td>\n      <td>0</td>\n      <td>0</td>\n    </tr>\n    <tr>\n      <th>2</th>\n      <td>1</td>\n      <td>debt_consolidation</td>\n      <td>0.1357</td>\n      <td>366.86</td>\n      <td>10.373491</td>\n      <td>11.63</td>\n      <td>682</td>\n      <td>4710.000000</td>\n      <td>3511</td>\n      <td>25.6</td>\n      <td>1</td>\n      <td>0</td>\n      <td>0</td>\n      <td>0</td>\n    </tr>\n    <tr>\n      <th>3</th>\n      <td>1</td>\n      <td>debt_consolidation</td>\n      <td>0.1008</td>\n      <td>162.34</td>\n      <td>11.350407</td>\n      <td>8.10</td>\n      <td>712</td>\n      <td>2699.958333</td>\n      <td>33667</td>\n      <td>73.2</td>\n      <td>1</td>\n      <td>0</td>\n      <td>0</td>\n      <td>0</td>\n    </tr>\n    <tr>\n      <th>4</th>\n      <td>1</td>\n      <td>credit_card</td>\n      <td>0.1426</td>\n      <td>102.92</td>\n      <td>11.299732</td>\n      <td>14.97</td>\n      <td>667</td>\n      <td>4066.000000</td>\n      <td>4740</td>\n      <td>39.5</td>\n      <td>0</td>\n      <td>1</td>\n      <td>0</td>\n      <td>0</td>\n    </tr>\n  </tbody>\n</table>\n</div>"
     },
     "execution_count": 3,
     "metadata": {},
     "output_type": "execute_result"
    }
   ]
  },
  {
   "cell_type": "code",
   "metadata": {
    "id": "zj9KW2YT-31Q",
    "colab_type": "code",
    "colab": {
     "base_uri": "https://localhost:8080/",
     "height": 362
    },
    "executionInfo": {
     "status": "ok",
     "timestamp": 1596520555267,
     "user_tz": -480,
     "elapsed": 479,
     "user": {
      "displayName": "Connie Sze",
      "photoUrl": "",
      "userId": "04636244361226698916"
     }
    },
    "outputId": "bbeeb0ec-da7a-441a-be5e-4d53d4174597",
    "ExecuteTime": {
     "end_time": "2024-02-21T10:23:45.048215300Z",
     "start_time": "2024-02-21T10:23:45.005121100Z"
    }
   },
   "source": [
    "loans.info()"
   ],
   "execution_count": 4,
   "outputs": [
    {
     "name": "stdout",
     "output_type": "stream",
     "text": [
      "<class 'pandas.core.frame.DataFrame'>\n",
      "RangeIndex: 9578 entries, 0 to 9577\n",
      "Data columns (total 14 columns):\n",
      " #   Column             Non-Null Count  Dtype  \n",
      "---  ------             --------------  -----  \n",
      " 0   credit.policy      9578 non-null   int64  \n",
      " 1   purpose            9578 non-null   object \n",
      " 2   int.rate           9578 non-null   float64\n",
      " 3   installment        9578 non-null   float64\n",
      " 4   log.annual.inc     9578 non-null   float64\n",
      " 5   dti                9578 non-null   float64\n",
      " 6   fico               9578 non-null   int64  \n",
      " 7   days.with.cr.line  9578 non-null   float64\n",
      " 8   revol.bal          9578 non-null   int64  \n",
      " 9   revol.util         9578 non-null   float64\n",
      " 10  inq.last.6mths     9578 non-null   int64  \n",
      " 11  delinq.2yrs        9578 non-null   int64  \n",
      " 12  pub.rec            9578 non-null   int64  \n",
      " 13  not.fully.paid     9578 non-null   int64  \n",
      "dtypes: float64(6), int64(7), object(1)\n",
      "memory usage: 1.0+ MB\n"
     ]
    }
   ]
  },
  {
   "cell_type": "markdown",
   "metadata": {
    "id": "gtFLey6XkN-9",
    "colab_type": "text"
   },
   "source": [
    "## **2. Data Cleaning**"
   ]
  },
  {
   "cell_type": "markdown",
   "metadata": {
    "id": "ao_qwNyQCIB5",
    "colab_type": "text"
   },
   "source": [
    "### **Exploratory Data Analysis(EDA)**"
   ]
  },
  {
   "cell_type": "code",
   "metadata": {
    "id": "N388Kgj3CLlt",
    "colab_type": "code",
    "colab": {
     "base_uri": "https://localhost:8080/",
     "height": 403
    },
    "executionInfo": {
     "status": "ok",
     "timestamp": 1596520571064,
     "user_tz": -480,
     "elapsed": 1013,
     "user": {
      "displayName": "Connie Sze",
      "photoUrl": "",
      "userId": "04636244361226698916"
     }
    },
    "outputId": "75ebd794-d52d-415c-9cf9-afe24395d365",
    "ExecuteTime": {
     "end_time": "2024-02-21T10:23:45.262279200Z",
     "start_time": "2024-02-21T10:23:45.021640700Z"
    }
   },
   "source": [
    "plt.figure(figsize=(10,6))\n",
    "loans[loans[\"credit.policy\"]==1][\"fico\"].hist(bins=30, alpha=0.5, label=\"not fully paid\")\n",
    "loans[loans[\"credit.policy\"]==0][\"fico\"].hist(bins=30, alpha=0.5, label=\"paid\")\n",
    "plt.legend()\n",
    "plt.xlabel(\"fico\")"
   ],
   "execution_count": 5,
   "outputs": [
    {
     "data": {
      "text/plain": "Text(0.5, 0, 'fico')"
     },
     "execution_count": 5,
     "metadata": {},
     "output_type": "execute_result"
    },
    {
     "data": {
      "text/plain": "<Figure size 1000x600 with 1 Axes>",
      "image/png": "[encoded data removed]"
     },
     "metadata": {},
     "output_type": "display_data"
    }
   ]
  },
  {
   "cell_type": "code",
   "metadata": {
    "id": "cJJXUajc6gym",
    "colab_type": "code",
    "colab": {
     "base_uri": "https://localhost:8080/",
     "height": 460
    },
    "executionInfo": {
     "status": "ok",
     "timestamp": 1596520572820,
     "user_tz": -480,
     "elapsed": 709,
     "user": {
      "displayName": "Connie Sze",
      "photoUrl": "",
      "userId": "04636244361226698916"
     }
    },
    "outputId": "9b503c48-9927-4aa0-dffe-e9c80afa1027",
    "ExecuteTime": {
     "end_time": "2024-02-21T10:23:45.534267300Z",
     "start_time": "2024-02-21T10:23:45.255267800Z"
    }
   },
   "source": [
    "plt.figure(figsize=(11,7))\n",
    "sns.countplot(data=loans, x=\"purpose\", hue=\"not.fully.paid\")"
   ],
   "execution_count": 6,
   "outputs": [
    {
     "data": {
      "text/plain": "<Axes: xlabel='purpose', ylabel='count'>"
     },
     "execution_count": 6,
     "metadata": {},
     "output_type": "execute_result"
    },
    {
     "data": {
      "text/plain": "<Figure size 1100x700 with 1 Axes>",
      "image/png": "[encoded data removed]"
     },
     "metadata": {},
     "output_type": "display_data"
    }
   ]
  },
  {
   "cell_type": "markdown",
   "metadata": {
    "id": "Bx-AzEA3lRFC",
    "colab_type": "text"
   },
   "source": [
    "## **3. Model Training & Building**"
   ]
  },
  {
   "cell_type": "markdown",
   "metadata": {
    "id": "59CwlRkqgAuX",
    "colab_type": "text"
   },
   "source": [
    "### **X and y arrays**"
   ]
  },
  {
   "cell_type": "code",
   "metadata": {
    "id": "xmG4NhVy6BEq",
    "colab_type": "code",
    "colab": {},
    "ExecuteTime": {
     "end_time": "2024-02-21T10:23:45.613658100Z",
     "start_time": "2024-02-21T10:23:45.534267300Z"
    }
   },
   "source": [
    "X= loans[[\"credit.policy\",\"fico\",\"int.rate\"]]\n",
    "y=loans[\"not.fully.paid\"]"
   ],
   "execution_count": 7,
   "outputs": []
  },
  {
   "cell_type": "markdown",
   "metadata": {
    "id": "u06kDFH5lT6Z",
    "colab_type": "text"
   },
   "source": [
    "### **Train Test Split**"
   ]
  },
  {
   "cell_type": "code",
   "metadata": {
    "id": "ri3dzbxuBgeV",
    "colab_type": "code",
    "colab": {},
    "ExecuteTime": {
     "end_time": "2024-02-21T10:23:45.673193700Z",
     "start_time": "2024-02-21T10:23:45.550555Z"
    }
   },
   "source": [
    "from sklearn.model_selection import train_test_split"
   ],
   "execution_count": 8,
   "outputs": []
  },
  {
   "cell_type": "code",
   "metadata": {
    "id": "_CjmklgqBs2V",
    "colab_type": "code",
    "colab": {},
    "ExecuteTime": {
     "end_time": "2024-02-21T10:23:45.689727Z",
     "start_time": "2024-02-21T10:23:45.674198300Z"
    }
   },
   "source": [
    "X_train, X_test, y_train, y_test = train_test_split(X,y, test_size=0.3, random_state=101)"
   ],
   "execution_count": 9,
   "outputs": []
  },
  {
   "cell_type": "markdown",
   "metadata": {
    "id": "irCX4j0IgNqC",
    "colab_type": "text"
   },
   "source": [
    "### **Creating and Training the Model**"
   ]
  },
  {
   "cell_type": "markdown",
   "metadata": {
    "id": "1Z0aBPGElbg2",
    "colab_type": "text"
   },
   "source": [
    "**i) Importing a model**"
   ]
  },
  {
   "cell_type": "code",
   "metadata": {
    "id": "1uLKx5ouB9Cl",
    "colab_type": "code",
    "colab": {},
    "ExecuteTime": {
     "end_time": "2024-02-21T10:23:45.812390900Z",
     "start_time": "2024-02-21T10:23:45.689727Z"
    }
   },
   "source": [
    "# Select a model\n",
    "from sklearn.ensemble import RandomForestClassifier"
   ],
   "execution_count": 10,
   "outputs": []
  },
  {
   "cell_type": "markdown",
   "metadata": {
    "id": "Q53fQ3C-lfC_",
    "colab_type": "text"
   },
   "source": [
    "**ii) Instantiation**"
   ]
  },
  {
   "cell_type": "code",
   "metadata": {
    "id": "0ys7ydmvG0j6",
    "colab_type": "code",
    "colab": {},
    "ExecuteTime": {
     "end_time": "2024-02-21T10:23:45.833915200Z",
     "start_time": "2024-02-21T10:23:45.813393900Z"
    }
   },
   "source": [
    "# Instantiate\n",
    "rfc= RandomForestClassifier(n_estimators=500)"
   ],
   "execution_count": 11,
   "outputs": []
  },
  {
   "cell_type": "markdown",
   "metadata": {
    "id": "B-QUvrGolhvD",
    "colab_type": "text"
   },
   "source": [
    "**iii) Model fitting**"
   ]
  },
  {
   "cell_type": "code",
   "metadata": {
    "id": "mNkzxKJsHIXy",
    "colab_type": "code",
    "colab": {
     "base_uri": "https://localhost:8080/",
     "height": 148
    },
    "executionInfo": {
     "status": "ok",
     "timestamp": 1596520600184,
     "user_tz": -480,
     "elapsed": 3320,
     "user": {
      "displayName": "Connie Sze",
      "photoUrl": "",
      "userId": "04636244361226698916"
     }
    },
    "outputId": "12bdec65-4491-41cf-a335-83e6d7a8b76a",
    "ExecuteTime": {
     "end_time": "2024-02-21T10:23:48.005073500Z",
     "start_time": "2024-02-21T10:23:45.829417100Z"
    }
   },
   "source": [
    "# Training / Fitting\n",
    "rfc.fit(X_train, y_train)"
   ],
   "execution_count": 12,
   "outputs": [
    {
     "data": {
      "text/plain": "RandomForestClassifier(n_estimators=500)",
      "text/html": "<style>#sk-container-id-1 {color: black;}#sk-container-id-1 pre{padding: 0;}#sk-container-id-1 div.sk-toggleable {background-color: white;}#sk-container-id-1 label.sk-toggleable__label {cursor: pointer;display: block;width: 100%;margin-bottom: 0;padding: 0.3em;box-sizing: border-box;text-align: center;}#sk-container-id-1 label.sk-toggleable__label-arrow:before {content: \"▸\";float: left;margin-right: 0.25em;color: #696969;}#sk-container-id-1 label.sk-toggleable__label-arrow:hover:before {color: black;}#sk-container-id-1 div.sk-estimator:hover label.sk-toggleable__label-arrow:before {color: black;}#sk-container-id-1 div.sk-toggleable__content {max-height: 0;max-width: 0;overflow: hidden;text-align: left;background-color: #f0f8ff;}#sk-container-id-1 div.sk-toggleable__content pre {margin: 0.2em;color: black;border-radius: 0.25em;background-color: #f0f8ff;}#sk-container-id-1 input.sk-toggleable__control:checked~div.sk-toggleable__content {max-height: 200px;max-width: 100%;overflow: auto;}#sk-container-id-1 input.sk-toggleable__control:checked~label.sk-toggleable__label-arrow:before {content: \"▾\";}#sk-container-id-1 div.sk-estimator input.sk-toggleable__control:checked~label.sk-toggleable__label {background-color: #d4ebff;}#sk-container-id-1 div.sk-label input.sk-toggleable__control:checked~label.sk-toggleable__label {background-color: #d4ebff;}#sk-container-id-1 input.sk-hidden--visually {border: 0;clip: rect(1px 1px 1px 1px);clip: rect(1px, 1px, 1px, 1px);height: 1px;margin: -1px;overflow: hidden;padding: 0;position: absolute;width: 1px;}#sk-container-id-1 div.sk-estimator {font-family: monospace;background-color: #f0f8ff;border: 1px dotted black;border-radius: 0.25em;box-sizing: border-box;margin-bottom: 0.5em;}#sk-container-id-1 div.sk-estimator:hover {background-color: #d4ebff;}#sk-container-id-1 div.sk-parallel-item::after {content: \"\";width: 100%;border-bottom: 1px solid gray;flex-grow: 1;}#sk-container-id-1 div.sk-label:hover label.sk-toggleable__label {background-color: #d4ebff;}#sk-container-id-1 div.sk-serial::before {content: \"\";position: absolute;border-left: 1px solid gray;box-sizing: border-box;top: 0;bottom: 0;left: 50%;z-index: 0;}#sk-container-id-1 div.sk-serial {display: flex;flex-direction: column;align-items: center;background-color: white;padding-right: 0.2em;padding-left: 0.2em;position: relative;}#sk-container-id-1 div.sk-item {position: relative;z-index: 1;}#sk-container-id-1 div.sk-parallel {display: flex;align-items: stretch;justify-content: center;background-color: white;position: relative;}#sk-container-id-1 div.sk-item::before, #sk-container-id-1 div.sk-parallel-item::before {content: \"\";position: absolute;border-left: 1px solid gray;box-sizing: border-box;top: 0;bottom: 0;left: 50%;z-index: -1;}#sk-container-id-1 div.sk-parallel-item {display: flex;flex-direction: column;z-index: 1;position: relative;background-color: white;}#sk-container-id-1 div.sk-parallel-item:first-child::after {align-self: flex-end;width: 50%;}#sk-container-id-1 div.sk-parallel-item:last-child::after {align-self: flex-start;width: 50%;}#sk-container-id-1 div.sk-parallel-item:only-child::after {width: 0;}#sk-container-id-1 div.sk-dashed-wrapped {border: 1px dashed gray;margin: 0 0.4em 0.5em 0.4em;box-sizing: border-box;padding-bottom: 0.4em;background-color: white;}#sk-container-id-1 div.sk-label label {font-family: monospace;font-weight: bold;display: inline-block;line-height: 1.2em;}#sk-container-id-1 div.sk-label-container {text-align: center;}#sk-container-id-1 div.sk-container {/* jupyter's `normalize.less` sets `[hidden] { display: none; }` but bootstrap.min.css set `[hidden] { display: none !important; }` so we also need the `!important` here to be able to override the default hidden behavior on the sphinx rendered scikit-learn.org. See: https://github.com/scikit-learn/scikit-learn/issues/21755 */display: inline-block !important;position: relative;}#sk-container-id-1 div.sk-text-repr-fallback {display: none;}</style><div id=\"sk-container-id-1\" class=\"sk-top-container\"><div class=\"sk-text-repr-fallback\"><pre>RandomForestClassifier(n_estimators=500)</pre><b>In a Jupyter environment, please rerun this cell to show the HTML representation or trust the notebook. <br />On GitHub, the HTML representation is unable to render, please try loading this page with nbviewer.org.</b></div><div class=\"sk-container\" hidden><div class=\"sk-item\"><div class=\"sk-estimator sk-toggleable\"><input class=\"sk-toggleable__control sk-hidden--visually\" id=\"sk-estimator-id-1\" type=\"checkbox\" checked><label for=\"sk-estimator-id-1\" class=\"sk-toggleable__label sk-toggleable__label-arrow\">RandomForestClassifier</label><div class=\"sk-toggleable__content\"><pre>RandomForestClassifier(n_estimators=500)</pre></div></div></div></div></div>"
     },
     "execution_count": 12,
     "metadata": {},
     "output_type": "execute_result"
    }
   ]
  },
  {
   "cell_type": "markdown",
   "metadata": {
    "id": "dYhkDPEWgWrX",
    "colab_type": "text"
   },
   "source": [
    "## **4. Model Prediction & Evaluation**"
   ]
  },
  {
   "cell_type": "markdown",
   "metadata": {
    "id": "3lN5KF2slniv",
    "colab_type": "text"
   },
   "source": [
    "### **Prediction**"
   ]
  },
  {
   "cell_type": "code",
   "metadata": {
    "id": "qClkxWYfHRoy",
    "colab_type": "code",
    "colab": {
     "base_uri": "https://localhost:8080/",
     "height": 32
    },
    "executionInfo": {
     "status": "ok",
     "timestamp": 1596520611450,
     "user_tz": -480,
     "elapsed": 751,
     "user": {
      "displayName": "Connie Sze",
      "photoUrl": "",
      "userId": "04636244361226698916"
     }
    },
    "outputId": "98df28cf-7a81-469f-f1ea-bdca91255163",
    "ExecuteTime": {
     "end_time": "2024-02-21T10:23:48.208070500Z",
     "start_time": "2024-02-21T10:23:48.005073500Z"
    }
   },
   "source": [
    "# Prediction\n",
    "rfc_predict= rfc.predict(X_test)\n",
    "rfc_predict"
   ],
   "execution_count": 13,
   "outputs": [
    {
     "data": {
      "text/plain": "array([0, 0, 0, ..., 0, 1, 0], dtype=int64)"
     },
     "execution_count": 13,
     "metadata": {},
     "output_type": "execute_result"
    }
   ]
  },
  {
   "cell_type": "markdown",
   "metadata": {
    "id": "ndZOJCudlqkO",
    "colab_type": "text"
   },
   "source": [
    "### **Evaluation**"
   ]
  },
  {
   "cell_type": "code",
   "metadata": {
    "id": "LH9hxKxNHacq",
    "colab_type": "code",
    "colab": {},
    "ExecuteTime": {
     "end_time": "2024-02-21T10:23:48.227607900Z",
     "start_time": "2024-02-21T10:23:48.207575400Z"
    }
   },
   "source": [
    "from sklearn.metrics import accuracy_score, confusion_matrix"
   ],
   "execution_count": 14,
   "outputs": []
  },
  {
   "cell_type": "code",
   "metadata": {
    "id": "3aszBGhhJDg2",
    "colab_type": "code",
    "colab": {
     "base_uri": "https://localhost:8080/",
     "height": 32
    },
    "executionInfo": {
     "status": "ok",
     "timestamp": 1596520637840,
     "user_tz": -480,
     "elapsed": 1182,
     "user": {
      "displayName": "Connie Sze",
      "photoUrl": "",
      "userId": "04636244361226698916"
     }
    },
    "outputId": "043aa8cf-d982-4e97-ed23-3d6dbf22fb8b",
    "ExecuteTime": {
     "end_time": "2024-02-21T10:23:48.243619700Z",
     "start_time": "2024-02-21T10:23:48.223088900Z"
    }
   },
   "source": [
    "accuracy_score(y_test, rfc_predict)\n",
    "# Decision Tree: 0.796"
   ],
   "execution_count": 15,
   "outputs": [
    {
     "data": {
      "text/plain": "0.8006263048016702"
     },
     "execution_count": 15,
     "metadata": {},
     "output_type": "execute_result"
    }
   ]
  },
  {
   "cell_type": "code",
   "metadata": {
    "id": "sggGiZakHj7H",
    "colab_type": "code",
    "colab": {
     "base_uri": "https://localhost:8080/",
     "height": 49
    },
    "executionInfo": {
     "status": "ok",
     "timestamp": 1596520666572,
     "user_tz": -480,
     "elapsed": 585,
     "user": {
      "displayName": "Connie Sze",
      "photoUrl": "",
      "userId": "04636244361226698916"
     }
    },
    "outputId": "3a87c268-034c-4f6c-89b1-4e3b69da4650",
    "ExecuteTime": {
     "end_time": "2024-02-21T10:23:48.278171900Z",
     "start_time": "2024-02-21T10:23:48.238613800Z"
    }
   },
   "source": [
    "confusion_matrix(y_test, rfc_predict)\n",
    "# Decision Tree:   2249    182\n",
    "               #    404     39"
   ],
   "execution_count": 16,
   "outputs": [
    {
     "data": {
      "text/plain": "array([[2262,  169],\n       [ 404,   39]], dtype=int64)"
     },
     "execution_count": 16,
     "metadata": {},
     "output_type": "execute_result"
    }
   ]
  }
 ]
}
