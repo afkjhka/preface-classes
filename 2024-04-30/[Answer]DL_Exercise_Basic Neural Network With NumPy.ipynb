{
 "nbformat": 4,
 "nbformat_minor": 0,
 "metadata": {
  "colab": {
   "name": "[Answer]DL_Exercise_Basic Neural Network With NumPy.ipynb",
   "provenance": [],
   "collapsed_sections": [],
   "authorship_tag": "ABX9TyOwqODogWZ4SHZtDhdRjLcv"
  },
  "kernelspec": {
   "name": "python3",
   "display_name": "Python 3 (ipykernel)",
   "language": "python"
  }
 },
 "cells": [
  {
   "cell_type": "markdown",
   "metadata": {
    "id": "OcBYBZdLcLvl"
   },
   "source": [
    "# **Neural Network With NumPy**"
   ]
  },
  {
   "cell_type": "markdown",
   "metadata": {
    "id": "i10hqW-8Y5Rq"
   },
   "source": [
    "## **Data Acquisition**"
   ]
  },
  {
   "cell_type": "code",
   "metadata": {
    "id": "TEsoUoo5XE2y",
    "executionInfo": {
     "status": "ok",
     "timestamp": 1603509933681,
     "user_tz": -480,
     "elapsed": 1278,
     "user": {
      "displayName": "Connie Sze",
      "photoUrl": "",
      "userId": "04636244361226698916"
     }
    },
    "ExecuteTime": {
     "end_time": "2024-04-30T10:38:45.810960Z",
     "start_time": "2024-04-30T10:38:45.799442Z"
    }
   },
   "source": [
    "import numpy as np"
   ],
   "outputs": [],
   "execution_count": 22
  },
  {
   "cell_type": "code",
   "metadata": {
    "id": "5uD24JzZYEax",
    "executionInfo": {
     "status": "ok",
     "timestamp": 1603509933683,
     "user_tz": -480,
     "elapsed": 1274,
     "user": {
      "displayName": "Connie Sze",
      "photoUrl": "",
      "userId": "04636244361226698916"
     }
    },
    "ExecuteTime": {
     "end_time": "2024-04-30T10:38:45.888179Z",
     "start_time": "2024-04-30T10:38:45.875152Z"
    }
   },
   "source": [
    "X = np.random.random((1000,100))"
   ],
   "outputs": [],
   "execution_count": 23
  },
  {
   "cell_type": "code",
   "metadata": {
    "id": "ic7iR7rvYLbE",
    "executionInfo": {
     "status": "ok",
     "timestamp": 1603509933685,
     "user_tz": -480,
     "elapsed": 1273,
     "user": {
      "displayName": "Connie Sze",
      "photoUrl": "",
      "userId": "04636244361226698916"
     }
    },
    "ExecuteTime": {
     "end_time": "2024-04-30T10:38:45.904222Z",
     "start_time": "2024-04-30T10:38:45.894676Z"
    }
   },
   "source": [
    "y = np.random.randint(2,size=(1000,1))"
   ],
   "outputs": [],
   "execution_count": 24
  },
  {
   "cell_type": "code",
   "metadata": {
    "id": "UP85Nke7k51u",
    "executionInfo": {
     "status": "ok",
     "timestamp": 1603509933685,
     "user_tz": -480,
     "elapsed": 1266,
     "user": {
      "displayName": "Connie Sze",
      "photoUrl": "",
      "userId": "04636244361226698916"
     }
    },
    "outputId": "e820981f-f0b3-40f6-8736-ee1c46a376c0",
    "colab": {
     "base_uri": "https://localhost:8080/",
     "height": 247
    },
    "ExecuteTime": {
     "end_time": "2024-04-30T10:38:45.934758Z",
     "start_time": "2024-04-30T10:38:45.925246Z"
    }
   },
   "source": [
    "X"
   ],
   "outputs": [
    {
     "data": {
      "text/plain": [
       "array([[0.91556563, 0.7911943 , 0.43687397, ..., 0.3736228 , 0.84347495,\n",
       "        0.42800324],\n",
       "       [0.45408555, 0.35219263, 0.52221353, ..., 0.84448445, 0.36052922,\n",
       "        0.95929281],\n",
       "       [0.8546021 , 0.48614696, 0.90244893, ..., 0.74887161, 0.8849017 ,\n",
       "        0.5735357 ],\n",
       "       ...,\n",
       "       [0.508507  , 0.33175194, 0.86518579, ..., 0.37948234, 0.23442235,\n",
       "        0.08393788],\n",
       "       [0.12973596, 0.52394343, 0.98968188, ..., 0.17857475, 0.40998048,\n",
       "        0.41077771],\n",
       "       [0.98489103, 0.73019173, 0.13723463, ..., 0.08639731, 0.04653092,\n",
       "        0.42567095]])"
      ]
     },
     "execution_count": 25,
     "metadata": {},
     "output_type": "execute_result"
    }
   ],
   "execution_count": 25
  },
  {
   "cell_type": "code",
   "metadata": {
    "id": "ackEyYeck7Wo",
    "executionInfo": {
     "status": "ok",
     "timestamp": 1603509933687,
     "user_tz": -480,
     "elapsed": 1262,
     "user": {
      "displayName": "Connie Sze",
      "photoUrl": "",
      "userId": "04636244361226698916"
     }
    },
    "outputId": "c9d84420-07c5-483d-e9c5-ba689510d692",
    "colab": {
     "base_uri": "https://localhost:8080/",
     "height": 34
    },
    "ExecuteTime": {
     "end_time": "2024-04-30T10:38:45.981599Z",
     "start_time": "2024-04-30T10:38:45.975418Z"
    }
   },
   "source": [
    "len(y)"
   ],
   "outputs": [
    {
     "data": {
      "text/plain": [
       "1000"
      ]
     },
     "execution_count": 26,
     "metadata": {},
     "output_type": "execute_result"
    }
   ],
   "execution_count": 26
  },
  {
   "cell_type": "markdown",
   "metadata": {
    "id": "CubwxdsleAmS"
   },
   "source": [
    "## **Model Training & Building**"
   ]
  },
  {
   "cell_type": "markdown",
   "metadata": {
    "id": "OxmAuwPhguYY"
   },
   "source": [
    "### **Creating and Training the Model**"
   ]
  },
  {
   "cell_type": "markdown",
   "metadata": {
    "id": "ZmQfkMwpZCcK"
   },
   "source": [
    "**i) Importing a model**"
   ]
  },
  {
   "cell_type": "markdown",
   "metadata": {
    "id": "OWtdtFLsg5D7"
   },
   "source": [
    "**Sequential**\n",
    "- Groups a linear stack of layers into a tf.keras.Model.\n",
    "- Provides training and inference features on this model."
   ]
  },
  {
   "cell_type": "code",
   "metadata": {
    "id": "XZHlMMs3X-1a",
    "executionInfo": {
     "status": "ok",
     "timestamp": 1603509935659,
     "user_tz": -480,
     "elapsed": 3229,
     "user": {
      "displayName": "Connie Sze",
      "photoUrl": "",
      "userId": "04636244361226698916"
     }
    },
    "ExecuteTime": {
     "end_time": "2024-04-30T10:38:46.012763Z",
     "start_time": "2024-04-30T10:38:45.999252Z"
    }
   },
   "source": [
    "from keras.models import Sequential"
   ],
   "outputs": [],
   "execution_count": 27
  },
  {
   "cell_type": "markdown",
   "metadata": {
    "id": "wefoExt4g9yA"
   },
   "source": [
    "**ii) Instantiation**"
   ]
  },
  {
   "cell_type": "code",
   "metadata": {
    "id": "PJoMJugiYXCE",
    "executionInfo": {
     "status": "ok",
     "timestamp": 1603509935661,
     "user_tz": -480,
     "elapsed": 3226,
     "user": {
      "displayName": "Connie Sze",
      "photoUrl": "",
      "userId": "04636244361226698916"
     }
    },
    "ExecuteTime": {
     "end_time": "2024-04-30T10:38:46.074845Z",
     "start_time": "2024-04-30T10:38:46.062826Z"
    }
   },
   "source": [
    "model = Sequential()"
   ],
   "outputs": [],
   "execution_count": 28
  },
  {
   "cell_type": "markdown",
   "metadata": {
    "id": "Qa2An9qOZFbO"
   },
   "source": [
    "**iii) Adding Layers**"
   ]
  },
  {
   "cell_type": "code",
   "metadata": {
    "id": "59rvkNsFYBtU",
    "executionInfo": {
     "status": "ok",
     "timestamp": 1603509935661,
     "user_tz": -480,
     "elapsed": 3221,
     "user": {
      "displayName": "Connie Sze",
      "photoUrl": "",
      "userId": "04636244361226698916"
     }
    },
    "ExecuteTime": {
     "end_time": "2024-04-30T10:38:46.152726Z",
     "start_time": "2024-04-30T10:38:46.139105Z"
    }
   },
   "source": [
    "from keras.layers import Dense"
   ],
   "outputs": [],
   "execution_count": 29
  },
  {
   "cell_type": "markdown",
   "metadata": {
    "id": "cX2WIfZAi2gI"
   },
   "source": [
    "1. Add input layer"
   ]
  },
  {
   "cell_type": "markdown",
   "metadata": {
    "id": "En0loq5DhGGZ"
   },
   "source": [
    "**Dense layer**\n",
    "- The regular deeply connected neural network layer.\n",
    "- Result is the output and it will be passed into the next layer.\n",
    "- units: dimensionality of the output space\n",
    "input_shape: retrieves the input shape(s) of a layer\n",
    "- activation: activation function to use\n"
   ]
  },
  {
   "cell_type": "code",
   "metadata": {
    "id": "CkXxMd4Iiehh",
    "executionInfo": {
     "status": "ok",
     "timestamp": 1603509935662,
     "user_tz": -480,
     "elapsed": 3218,
     "user": {
      "displayName": "Connie Sze",
      "photoUrl": "",
      "userId": "04636244361226698916"
     }
    },
    "ExecuteTime": {
     "end_time": "2024-04-30T10:38:46.214832Z",
     "start_time": "2024-04-30T10:38:46.204813Z"
    }
   },
   "source": [
    "layer_1 = Dense(units=32, activation = \"relu\", input_dim=100) # or input_shape = (100,)\n",
    "# The neural network must have 100 inputs since the data set has 100 input variables."
   ],
   "outputs": [],
   "execution_count": 30
  },
  {
   "metadata": {
    "ExecuteTime": {
     "end_time": "2024-04-30T10:38:46.230357Z",
     "start_time": "2024-04-30T10:38:46.217843Z"
    }
   },
   "cell_type": "code",
   "source": "layer_2 = Dense(units=32, activation = \"relu\", input_dim=32) # or input_shape = (100,)",
   "outputs": [],
   "execution_count": 31
  },
  {
   "cell_type": "markdown",
   "metadata": {
    "id": "3oMuPYBlhCid"
   },
   "source": [
    "**add()**\n",
    "- Adds a layer instance on top of the layers stack."
   ]
  },
  {
   "cell_type": "code",
   "metadata": {
    "id": "HaBPlEvKYDys",
    "executionInfo": {
     "status": "ok",
     "timestamp": 1603509935662,
     "user_tz": -480,
     "elapsed": 3214,
     "user": {
      "displayName": "Connie Sze",
      "photoUrl": "",
      "userId": "04636244361226698916"
     }
    },
    "ExecuteTime": {
     "end_time": "2024-04-30T10:38:46.246519Z",
     "start_time": "2024-04-30T10:38:46.231357Z"
    }
   },
   "source": "model.add(layer_1)",
   "outputs": [],
   "execution_count": 32
  },
  {
   "metadata": {
    "ExecuteTime": {
     "end_time": "2024-04-30T10:38:46.261535Z",
     "start_time": "2024-04-30T10:38:46.248525Z"
    }
   },
   "cell_type": "code",
   "source": "model.add(layer_2)",
   "outputs": [],
   "execution_count": 33
  },
  {
   "cell_type": "markdown",
   "metadata": {
    "id": "m7d0Nt1wi5gg"
   },
   "source": [
    "2. Add output layer"
   ]
  },
  {
   "cell_type": "code",
   "metadata": {
    "id": "z_13jsjKYgTC",
    "executionInfo": {
     "status": "ok",
     "timestamp": 1603509935662,
     "user_tz": -480,
     "elapsed": 3209,
     "user": {
      "displayName": "Connie Sze",
      "photoUrl": "",
      "userId": "04636244361226698916"
     }
    },
    "ExecuteTime": {
     "end_time": "2024-04-30T10:38:46.292563Z",
     "start_time": "2024-04-30T10:38:46.274548Z"
    }
   },
   "source": [
    "model.add(Dense(units=1, activation = \"sigmoid\"))\n",
    "# The last layer of our model has 1 node — a number"
   ],
   "outputs": [],
   "execution_count": 34
  },
  {
   "cell_type": "markdown",
   "metadata": {
    "id": "i5bnrIXRaPls"
   },
   "source": [
    "**iv) Compiling The Model**"
   ]
  },
  {
   "cell_type": "markdown",
   "metadata": {
    "id": "BqwSls6VhgaJ"
   },
   "source": [
    "**compile()**\n",
    "- Configures the model for training."
   ]
  },
  {
   "cell_type": "code",
   "metadata": {
    "id": "mQsqqobDYm9k",
    "executionInfo": {
     "status": "ok",
     "timestamp": 1603509935663,
     "user_tz": -480,
     "elapsed": 3204,
     "user": {
      "displayName": "Connie Sze",
      "photoUrl": "",
      "userId": "04636244361226698916"
     }
    },
    "ExecuteTime": {
     "end_time": "2024-04-30T10:38:46.308109Z",
     "start_time": "2024-04-30T10:38:46.296075Z"
    }
   },
   "source": [
    "model.compile(optimizer=\"rmsprop\", loss=\"binary_crossentropy\", metrics=[\"accuracy\"])\n",
    "# optimizer: to quickly complete the iterative process -> increase the speed and efficiency \n",
    "# loss -> loss function\n",
    "# To make things even easier to interpret, we will use the ‘accuracy’ metric to see the accuracy score on the validation set at the end of each epoch."
   ],
   "outputs": [],
   "execution_count": 35
  },
  {
   "cell_type": "markdown",
   "metadata": {
    "id": "oSFFFcwjaTXW"
   },
   "source": [
    "**v) Model Fitting**"
   ]
  },
  {
   "cell_type": "markdown",
   "metadata": {
    "id": "XzFs85Nnhlt0"
   },
   "source": [
    "**.fit()**\n",
    "- Trains the model for a fixed number of epochs(iterations on a dataset).\n",
    "- Returns a History object - a record of training loss values and metrics values at successive epochs, as well as validation loss values and validation metrics values (if applicable)."
   ]
  },
  {
   "cell_type": "code",
   "metadata": {
    "id": "Cod62Q0GYukN",
    "executionInfo": {
     "status": "ok",
     "timestamp": 1603509936693,
     "user_tz": -480,
     "elapsed": 4228,
     "user": {
      "displayName": "Connie Sze",
      "photoUrl": "",
      "userId": "04636244361226698916"
     }
    },
    "outputId": "9b424d25-e18b-444b-f3d1-149817734a87",
    "colab": {
     "base_uri": "https://localhost:8080/",
     "height": 390
    },
    "ExecuteTime": {
     "end_time": "2024-04-30T10:38:47.642601Z",
     "start_time": "2024-04-30T10:38:46.341642Z"
    }
   },
   "source": [
    "model.fit(X,y,epochs=10)\n",
    "# epochs: Trains the model for a fixed number of epochs (iterations on a dataset).\n",
    "# The model is not trained for a number of iterations given by epochs, but merely until the epoch of index epochs is reached."
   ],
   "outputs": [
    {
     "name": "stdout",
     "output_type": "stream",
     "text": [
      "Epoch 1/10\n",
      "\u001B[1m32/32\u001B[0m \u001B[32m━━━━━━━━━━━━━━━━━━━━\u001B[0m\u001B[37m\u001B[0m \u001B[1m1s\u001B[0m 808us/step - accuracy: 0.5230 - loss: 0.7005 \n",
      "Epoch 2/10\n",
      "\u001B[1m32/32\u001B[0m \u001B[32m━━━━━━━━━━━━━━━━━━━━\u001B[0m\u001B[37m\u001B[0m \u001B[1m0s\u001B[0m 840us/step - accuracy: 0.5432 - loss: 0.6861\n",
      "Epoch 3/10\n",
      "\u001B[1m32/32\u001B[0m \u001B[32m━━━━━━━━━━━━━━━━━━━━\u001B[0m\u001B[37m\u001B[0m \u001B[1m0s\u001B[0m 823us/step - accuracy: 0.5574 - loss: 0.6789\n",
      "Epoch 4/10\n",
      "\u001B[1m32/32\u001B[0m \u001B[32m━━━━━━━━━━━━━━━━━━━━\u001B[0m\u001B[37m\u001B[0m \u001B[1m0s\u001B[0m 749us/step - accuracy: 0.5978 - loss: 0.6718\n",
      "Epoch 5/10\n",
      "\u001B[1m32/32\u001B[0m \u001B[32m━━━━━━━━━━━━━━━━━━━━\u001B[0m\u001B[37m\u001B[0m \u001B[1m0s\u001B[0m 711us/step - accuracy: 0.5697 - loss: 0.6693\n",
      "Epoch 6/10\n",
      "\u001B[1m32/32\u001B[0m \u001B[32m━━━━━━━━━━━━━━━━━━━━\u001B[0m\u001B[37m\u001B[0m \u001B[1m0s\u001B[0m 776us/step - accuracy: 0.5972 - loss: 0.6669\n",
      "Epoch 7/10\n",
      "\u001B[1m32/32\u001B[0m \u001B[32m━━━━━━━━━━━━━━━━━━━━\u001B[0m\u001B[37m\u001B[0m \u001B[1m0s\u001B[0m 940us/step - accuracy: 0.6111 - loss: 0.6657\n",
      "Epoch 8/10\n",
      "\u001B[1m32/32\u001B[0m \u001B[32m━━━━━━━━━━━━━━━━━━━━\u001B[0m\u001B[37m\u001B[0m \u001B[1m0s\u001B[0m 842us/step - accuracy: 0.6398 - loss: 0.6491\n",
      "Epoch 9/10\n",
      "\u001B[1m32/32\u001B[0m \u001B[32m━━━━━━━━━━━━━━━━━━━━\u001B[0m\u001B[37m\u001B[0m \u001B[1m0s\u001B[0m 823us/step - accuracy: 0.5988 - loss: 0.6609\n",
      "Epoch 10/10\n",
      "\u001B[1m32/32\u001B[0m \u001B[32m━━━━━━━━━━━━━━━━━━━━\u001B[0m\u001B[37m\u001B[0m \u001B[1m0s\u001B[0m 824us/step - accuracy: 0.6143 - loss: 0.6510\n"
     ]
    },
    {
     "data": {
      "text/plain": [
       "<keras.src.callbacks.history.History at 0x1e24133dd80>"
      ]
     },
     "execution_count": 36,
     "metadata": {},
     "output_type": "execute_result"
    }
   ],
   "execution_count": 36
  },
  {
   "metadata": {
    "ExecuteTime": {
     "end_time": "2024-04-30T10:41:28.315039Z",
     "start_time": "2024-04-30T10:41:28.302004Z"
    }
   },
   "cell_type": "code",
   "source": "X[0].T.shape",
   "outputs": [
    {
     "data": {
      "text/plain": [
       "(100,)"
      ]
     },
     "execution_count": 47,
     "metadata": {},
     "output_type": "execute_result"
    }
   ],
   "execution_count": 47
  }
 ]
}
