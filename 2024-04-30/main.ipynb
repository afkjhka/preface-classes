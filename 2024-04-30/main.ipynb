{
 "cells": [
  {
   "metadata": {
    "ExecuteTime": {
     "end_time": "2024-04-30T10:26:08.351036Z",
     "start_time": "2024-04-30T10:26:08.337524Z"
    }
   },
   "cell_type": "code",
   "source": [
    "import numpy as np\n",
    "X = np.random.random((1000,100))\n",
    "y = np.random.randint(2, size=(1000,1))"
   ],
   "id": "28344f97fccc88a1",
   "outputs": [],
   "execution_count": 42
  },
  {
   "metadata": {
    "ExecuteTime": {
     "end_time": "2024-04-30T10:26:08.366580Z",
     "start_time": "2024-04-30T10:26:08.352039Z"
    }
   },
   "cell_type": "code",
   "source": "from keras.models import Sequential",
   "id": "7c92b7af48eb1e13",
   "outputs": [],
   "execution_count": 43
  },
  {
   "metadata": {
    "ExecuteTime": {
     "end_time": "2024-04-30T10:26:08.382086Z",
     "start_time": "2024-04-30T10:26:08.368080Z"
    }
   },
   "cell_type": "code",
   "source": "model = Sequential()",
   "id": "8048d47c1c225bbe",
   "outputs": [],
   "execution_count": 44
  },
  {
   "metadata": {
    "ExecuteTime": {
     "end_time": "2024-04-30T10:26:08.397616Z",
     "start_time": "2024-04-30T10:26:08.384086Z"
    }
   },
   "cell_type": "code",
   "source": "from keras.layers import Dense",
   "id": "c2a4b0e337d43d61",
   "outputs": [],
   "execution_count": 45
  },
  {
   "metadata": {
    "ExecuteTime": {
     "end_time": "2024-04-30T10:26:08.413223Z",
     "start_time": "2024-04-30T10:26:08.399115Z"
    }
   },
   "cell_type": "code",
   "source": "model.add(Dense(units = 32, activation = \"relu\", input_dim=100))",
   "id": "be9bc3d2ccdb57e0",
   "outputs": [],
   "execution_count": 46
  },
  {
   "metadata": {
    "ExecuteTime": {
     "end_time": "2024-04-30T10:26:08.428744Z",
     "start_time": "2024-04-30T10:26:08.414224Z"
    }
   },
   "cell_type": "code",
   "source": "model.add(Dense(units = 1, activation = \"sigmoid\"))",
   "id": "f63cf800a0e9768d",
   "outputs": [],
   "execution_count": 47
  },
  {
   "metadata": {
    "ExecuteTime": {
     "end_time": "2024-04-30T10:26:08.444267Z",
     "start_time": "2024-04-30T10:26:08.430244Z"
    }
   },
   "cell_type": "code",
   "source": "model.compile(optimizer=\"rmsprop\", loss=\"binary_crossentropy\", metrics=[\"accuracy\"])",
   "id": "bffbcdede5471bf9",
   "outputs": [],
   "execution_count": 48
  },
  {
   "metadata": {
    "ExecuteTime": {
     "end_time": "2024-04-30T10:26:08.940778Z",
     "start_time": "2024-04-30T10:26:08.446277Z"
    }
   },
   "cell_type": "code",
   "source": "model.fit(X, y, epochs=10)",
   "id": "8fff39549dd4a268",
   "outputs": [
    {
     "name": "stdout",
     "output_type": "stream",
     "text": [
      "Epoch 1/10\n"
     ]
    },
    {
     "ename": "AttributeError",
     "evalue": "module 'keras.src.backend' has no attribute 'convert_to_numpy'",
     "output_type": "error",
     "traceback": [
      "\u001B[1;31m---------------------------------------------------------------------------\u001B[0m",
      "\u001B[1;31mAttributeError\u001B[0m                            Traceback (most recent call last)",
      "Cell \u001B[1;32mIn[49], line 1\u001B[0m\n\u001B[1;32m----> 1\u001B[0m \u001B[43mmodel\u001B[49m\u001B[38;5;241;43m.\u001B[39;49m\u001B[43mfit\u001B[49m\u001B[43m(\u001B[49m\u001B[43mX\u001B[49m\u001B[43m,\u001B[49m\u001B[43m \u001B[49m\u001B[43my\u001B[49m\u001B[43m,\u001B[49m\u001B[43m \u001B[49m\u001B[43mepochs\u001B[49m\u001B[38;5;241;43m=\u001B[39;49m\u001B[38;5;241;43m10\u001B[39;49m\u001B[43m)\u001B[49m\n",
      "File \u001B[1;32m~\\lib\\site-packages\\keras\\src\\utils\\traceback_utils.py:122\u001B[0m, in \u001B[0;36mfilter_traceback.<locals>.error_handler\u001B[1;34m(*args, **kwargs)\u001B[0m\n\u001B[0;32m    119\u001B[0m     filtered_tb \u001B[38;5;241m=\u001B[39m _process_traceback_frames(e\u001B[38;5;241m.\u001B[39m__traceback__)\n\u001B[0;32m    120\u001B[0m     \u001B[38;5;66;03m# To get the full stack trace, call:\u001B[39;00m\n\u001B[0;32m    121\u001B[0m     \u001B[38;5;66;03m# `keras.config.disable_traceback_filtering()`\u001B[39;00m\n\u001B[1;32m--> 122\u001B[0m     \u001B[38;5;28;01mraise\u001B[39;00m e\u001B[38;5;241m.\u001B[39mwith_traceback(filtered_tb) \u001B[38;5;28;01mfrom\u001B[39;00m \u001B[38;5;28mNone\u001B[39m\n\u001B[0;32m    123\u001B[0m \u001B[38;5;28;01mfinally\u001B[39;00m:\n\u001B[0;32m    124\u001B[0m     \u001B[38;5;28;01mdel\u001B[39;00m filtered_tb\n",
      "File \u001B[1;32m~\\lib\\site-packages\\keras\\src\\utils\\progbar.py:162\u001B[0m, in \u001B[0;36mProgbar.update\u001B[1;34m(self, current, values, finalize)\u001B[0m\n\u001B[0;32m    160\u001B[0m info \u001B[38;5;241m+\u001B[39m\u001B[38;5;241m=\u001B[39m \u001B[38;5;124mf\u001B[39m\u001B[38;5;124m\"\u001B[39m\u001B[38;5;124m - \u001B[39m\u001B[38;5;132;01m{\u001B[39;00mk\u001B[38;5;132;01m}\u001B[39;00m\u001B[38;5;124m:\u001B[39m\u001B[38;5;124m\"\u001B[39m\n\u001B[0;32m    161\u001B[0m \u001B[38;5;28;01mif\u001B[39;00m \u001B[38;5;28misinstance\u001B[39m(\u001B[38;5;28mself\u001B[39m\u001B[38;5;241m.\u001B[39m_values[k], \u001B[38;5;28mlist\u001B[39m):\n\u001B[1;32m--> 162\u001B[0m     avg \u001B[38;5;241m=\u001B[39m \u001B[43mbackend\u001B[49m\u001B[38;5;241;43m.\u001B[39;49m\u001B[43mconvert_to_numpy\u001B[49m(\n\u001B[0;32m    163\u001B[0m         backend\u001B[38;5;241m.\u001B[39mnumpy\u001B[38;5;241m.\u001B[39mmean(\n\u001B[0;32m    164\u001B[0m             \u001B[38;5;28mself\u001B[39m\u001B[38;5;241m.\u001B[39m_values[k][\u001B[38;5;241m0\u001B[39m] \u001B[38;5;241m/\u001B[39m \u001B[38;5;28mmax\u001B[39m(\u001B[38;5;241m1\u001B[39m, \u001B[38;5;28mself\u001B[39m\u001B[38;5;241m.\u001B[39m_values[k][\u001B[38;5;241m1\u001B[39m])\n\u001B[0;32m    165\u001B[0m         )\n\u001B[0;32m    166\u001B[0m     )\n\u001B[0;32m    167\u001B[0m     avg \u001B[38;5;241m=\u001B[39m \u001B[38;5;28mfloat\u001B[39m(avg)\n\u001B[0;32m    168\u001B[0m     \u001B[38;5;28;01mif\u001B[39;00m \u001B[38;5;28mabs\u001B[39m(avg) \u001B[38;5;241m>\u001B[39m \u001B[38;5;241m1e-3\u001B[39m:\n",
      "\u001B[1;31mAttributeError\u001B[0m: module 'keras.src.backend' has no attribute 'convert_to_numpy'"
     ]
    }
   ],
   "execution_count": 49
  },
  {
   "metadata": {},
   "cell_type": "code",
   "source": [
    "tensor = ...\n",
    "numpy_array = tensor.numpy()\n"
   ],
   "id": "8e1ef6034a25facc",
   "outputs": [],
   "execution_count": null
  },
  {
   "metadata": {
    "ExecuteTime": {
     "end_time": "2024-04-30T10:34:31.423314Z",
     "start_time": "2024-04-30T10:34:31.402786Z"
    }
   },
   "cell_type": "code",
   "source": [
    "# Import necessary libraries\n",
    "import torch\n",
    "import torch.nn as nn\n",
    "import torch.optim as optim\n",
    "\n",
    "# Assuming X and y are your data\n",
    "X = torch.rand(1000, 100)\n",
    "y = torch.randint(2, (1000, 1)).float()\n",
    "\n",
    "# Define the layers\n",
    "fc1 = nn.Linear(100, 32)\n",
    "fc2 = nn.Linear(32, 1)\n",
    "\n",
    "# Define the loss function and optimizer\n",
    "criterion = nn.BCELoss()\n",
    "optimizer = optim.RMSprop(list(fc1.parameters()) + list(fc2.parameters()))\n",
    "\n",
    "# Train the model\n",
    "for epoch in range(10):  # loop over the dataset multiple times\n",
    "    running_loss = 0.0\n",
    "    for i in range(X.shape[0]):\n",
    "        # get the inputs; data is a list of [inputs, labels]\n",
    "        inputs, labels = X[i], y[i]\n",
    "\n",
    "        # zero the parameter gradients\n",
    "        optimizer.zero_grad()\n",
    "\n",
    "        # forward + backward + optimize\n",
    "        outputs = torch.sigmoid(fc2(torch.relu(fc1(inputs))))\n",
    "        loss = criterion(outputs, labels)\n",
    "        loss.backward()\n",
    "        optimizer.step()\n",
    "\n",
    "        # print statistics\n",
    "        running_loss += loss.item()\n",
    "    print(f'Epoch {epoch+1}, loss: {running_loss/X.shape[0]}')\n",
    "\n",
    "print('Finished Training')\n"
   ],
   "id": "d4ddea8c19a9dd66",
   "outputs": [
    {
     "ename": "ModuleNotFoundError",
     "evalue": "No module named 'torch'",
     "output_type": "error",
     "traceback": [
      "\u001B[1;31m---------------------------------------------------------------------------\u001B[0m",
      "\u001B[1;31mModuleNotFoundError\u001B[0m                       Traceback (most recent call last)",
      "Cell \u001B[1;32mIn[51], line 2\u001B[0m\n\u001B[0;32m      1\u001B[0m \u001B[38;5;66;03m# Import necessary libraries\u001B[39;00m\n\u001B[1;32m----> 2\u001B[0m \u001B[38;5;28;01mimport\u001B[39;00m \u001B[38;5;21;01mtorch\u001B[39;00m\n\u001B[0;32m      3\u001B[0m \u001B[38;5;28;01mimport\u001B[39;00m \u001B[38;5;21;01mtorch\u001B[39;00m\u001B[38;5;21;01m.\u001B[39;00m\u001B[38;5;21;01mnn\u001B[39;00m \u001B[38;5;28;01mas\u001B[39;00m \u001B[38;5;21;01mnn\u001B[39;00m\n\u001B[0;32m      4\u001B[0m \u001B[38;5;28;01mimport\u001B[39;00m \u001B[38;5;21;01mtorch\u001B[39;00m\u001B[38;5;21;01m.\u001B[39;00m\u001B[38;5;21;01moptim\u001B[39;00m \u001B[38;5;28;01mas\u001B[39;00m \u001B[38;5;21;01moptim\u001B[39;00m\n",
      "\u001B[1;31mModuleNotFoundError\u001B[0m: No module named 'torch'"
     ]
    }
   ],
   "execution_count": 51
  },
  {
   "metadata": {},
   "cell_type": "code",
   "outputs": [],
   "execution_count": null,
   "source": "",
   "id": "d22e6ec9e56f8c94"
  }
 ],
 "metadata": {
  "kernelspec": {
   "display_name": "Python 3",
   "language": "python",
   "name": "python3"
  },
  "language_info": {
   "codemirror_mode": {
    "name": "ipython",
    "version": 2
   },
   "file_extension": ".py",
   "mimetype": "text/x-python",
   "name": "python",
   "nbconvert_exporter": "python",
   "pygments_lexer": "ipython2",
   "version": "2.7.6"
  }
 },
 "nbformat": 4,
 "nbformat_minor": 5
}
